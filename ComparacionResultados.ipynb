{
 "cells": [
  {
   "cell_type": "markdown",
   "metadata": {},
   "source": [
    "### Imports Necesarios"
   ]
  },
  {
   "cell_type": "code",
   "execution_count": 319,
   "metadata": {},
   "outputs": [],
   "source": [
    "import kagglehub\n",
    "from kagglehub import KaggleDatasetAdapter\n",
    "import matplotlib.pyplot as plt\n",
    "import seaborn as sns"
   ]
  },
  {
   "cell_type": "markdown",
   "metadata": {},
   "source": [
    "### Introducción"
   ]
  },
  {
   "cell_type": "markdown",
   "metadata": {},
   "source": [
    "### Importamos el Dataset y lo pasamos a Dataframe"
   ]
  },
  {
   "cell_type": "code",
   "execution_count": 320,
   "metadata": {},
   "outputs": [
    {
     "name": "stdout",
     "output_type": "stream",
     "text": [
      "Warning: Looks like you're using an outdated `kagglehub` version (installed: 0.3.7), please consider upgrading to the latest version (0.3.10).\n"
     ]
    },
    {
     "data": {
      "text/plain": [
       "'Primeros 5 registros:'"
      ]
     },
     "metadata": {},
     "output_type": "display_data"
    },
    {
     "data": {
      "text/html": [
       "<div>\n",
       "<style scoped>\n",
       "    .dataframe tbody tr th:only-of-type {\n",
       "        vertical-align: middle;\n",
       "    }\n",
       "\n",
       "    .dataframe tbody tr th {\n",
       "        vertical-align: top;\n",
       "    }\n",
       "\n",
       "    .dataframe thead th {\n",
       "        text-align: right;\n",
       "    }\n",
       "</style>\n",
       "<table border=\"1\" class=\"dataframe\">\n",
       "  <thead>\n",
       "    <tr style=\"text-align: right;\">\n",
       "      <th></th>\n",
       "      <th>provincia</th>\n",
       "      <th>zona</th>\n",
       "      <th>titulo</th>\n",
       "      <th>PrecioActual</th>\n",
       "      <th>PrecioAnterior</th>\n",
       "      <th>metros</th>\n",
       "      <th>habitaciones</th>\n",
       "      <th>ascensor</th>\n",
       "      <th>localizacion</th>\n",
       "      <th>planta</th>\n",
       "      <th>baños</th>\n",
       "      <th>tags</th>\n",
       "      <th>descripcion</th>\n",
       "      <th>Enlace</th>\n",
       "    </tr>\n",
       "  </thead>\n",
       "  <tbody>\n",
       "    <tr>\n",
       "      <th>0</th>\n",
       "      <td>madrid</td>\n",
       "      <td>ciudad-lineal</td>\n",
       "      <td>Piso en calle de San Marcelo, 22, Ventas, Madrid</td>\n",
       "      <td>355000</td>\n",
       "      <td>0</td>\n",
       "      <td>69</td>\n",
       "      <td>2.0</td>\n",
       "      <td>S</td>\n",
       "      <td>EXTERIOR</td>\n",
       "      <td>5ª</td>\n",
       "      <td>1</td>\n",
       "      <td>VIVIENDA,LUMINOSO,VISTAS,REFORMADA,PORTERO,EXT...</td>\n",
       "      <td>Particular Vende vivienda totalmente reformada...</td>\n",
       "      <td>https://www.idealista.com/inmueble/106956987/</td>\n",
       "    </tr>\n",
       "    <tr>\n",
       "      <th>1</th>\n",
       "      <td>madrid</td>\n",
       "      <td>carabanchel</td>\n",
       "      <td>Piso en calle Cabo Nicolás Mur, San Isidro, Ma...</td>\n",
       "      <td>149000</td>\n",
       "      <td>159000</td>\n",
       "      <td>91</td>\n",
       "      <td>3.0</td>\n",
       "      <td>N</td>\n",
       "      <td>EXTERIOR</td>\n",
       "      <td>1ª</td>\n",
       "      <td>0</td>\n",
       "      <td>PISO,EXCLUSIVA,INMOBILIARIA,OPORTUNIDAD</td>\n",
       "      <td>Inmobiliarias Encuentro vende en exclusiva la ...</td>\n",
       "      <td>https://www.idealista.com/inmueble/106906044/</td>\n",
       "    </tr>\n",
       "    <tr>\n",
       "      <th>2</th>\n",
       "      <td>madrid</td>\n",
       "      <td>centro</td>\n",
       "      <td>Piso en calle de Rodas, Lavapiés-Embajadores, ...</td>\n",
       "      <td>195000</td>\n",
       "      <td>0</td>\n",
       "      <td>36</td>\n",
       "      <td>1.0</td>\n",
       "      <td>S</td>\n",
       "      <td>NaN</td>\n",
       "      <td>2ª</td>\n",
       "      <td>0</td>\n",
       "      <td>EXCLUSIVA,ESTUDIO</td>\n",
       "      <td>ESTUDIO EN PLENO CENTRO DE MADRIDSarago Servic...</td>\n",
       "      <td>https://www.idealista.com/inmueble/107306175/</td>\n",
       "    </tr>\n",
       "    <tr>\n",
       "      <th>3</th>\n",
       "      <td>madrid</td>\n",
       "      <td>usera</td>\n",
       "      <td>Piso en calle de Ferroviarios, Almendrales, Ma...</td>\n",
       "      <td>195000</td>\n",
       "      <td>0</td>\n",
       "      <td>58</td>\n",
       "      <td>1.0</td>\n",
       "      <td>S</td>\n",
       "      <td>INTERIOR</td>\n",
       "      <td>BAJO</td>\n",
       "      <td>0</td>\n",
       "      <td>VIVIENDA,HOGAR,FUNCIONAL</td>\n",
       "      <td>Esta acogedora vivienda, ubicada en una planta...</td>\n",
       "      <td>https://www.idealista.com/inmueble/106325171/</td>\n",
       "    </tr>\n",
       "    <tr>\n",
       "      <th>4</th>\n",
       "      <td>madrid</td>\n",
       "      <td>tetuan</td>\n",
       "      <td>Dúplex en Bellas Vistas, Madrid</td>\n",
       "      <td>715000</td>\n",
       "      <td>750000</td>\n",
       "      <td>140</td>\n",
       "      <td>3.0</td>\n",
       "      <td>S</td>\n",
       "      <td>EXTERIOR</td>\n",
       "      <td>2ª</td>\n",
       "      <td>0</td>\n",
       "      <td>TERRAZA,EXCLUSIVA,MODERNO</td>\n",
       "      <td>Maravilloso ATICO de reciente construcción, co...</td>\n",
       "      <td>https://www.idealista.com/inmueble/106627265/</td>\n",
       "    </tr>\n",
       "  </tbody>\n",
       "</table>\n",
       "</div>"
      ],
      "text/plain": [
       "  provincia           zona                                             titulo  \\\n",
       "0    madrid  ciudad-lineal   Piso en calle de San Marcelo, 22, Ventas, Madrid   \n",
       "1    madrid    carabanchel  Piso en calle Cabo Nicolás Mur, San Isidro, Ma...   \n",
       "2    madrid         centro  Piso en calle de Rodas, Lavapiés-Embajadores, ...   \n",
       "3    madrid          usera  Piso en calle de Ferroviarios, Almendrales, Ma...   \n",
       "4    madrid         tetuan                    Dúplex en Bellas Vistas, Madrid   \n",
       "\n",
       "   PrecioActual  PrecioAnterior  metros  habitaciones ascensor localizacion  \\\n",
       "0        355000               0      69           2.0        S     EXTERIOR   \n",
       "1        149000          159000      91           3.0        N     EXTERIOR   \n",
       "2        195000               0      36           1.0        S          NaN   \n",
       "3        195000               0      58           1.0        S     INTERIOR   \n",
       "4        715000          750000     140           3.0        S     EXTERIOR   \n",
       "\n",
       "  planta  baños                                               tags  \\\n",
       "0     5ª      1  VIVIENDA,LUMINOSO,VISTAS,REFORMADA,PORTERO,EXT...   \n",
       "1     1ª      0            PISO,EXCLUSIVA,INMOBILIARIA,OPORTUNIDAD   \n",
       "2     2ª      0                                  EXCLUSIVA,ESTUDIO   \n",
       "3   BAJO      0                           VIVIENDA,HOGAR,FUNCIONAL   \n",
       "4     2ª      0                          TERRAZA,EXCLUSIVA,MODERNO   \n",
       "\n",
       "                                         descripcion  \\\n",
       "0  Particular Vende vivienda totalmente reformada...   \n",
       "1  Inmobiliarias Encuentro vende en exclusiva la ...   \n",
       "2  ESTUDIO EN PLENO CENTRO DE MADRIDSarago Servic...   \n",
       "3  Esta acogedora vivienda, ubicada en una planta...   \n",
       "4  Maravilloso ATICO de reciente construcción, co...   \n",
       "\n",
       "                                          Enlace  \n",
       "0  https://www.idealista.com/inmueble/106956987/  \n",
       "1  https://www.idealista.com/inmueble/106906044/  \n",
       "2  https://www.idealista.com/inmueble/107306175/  \n",
       "3  https://www.idealista.com/inmueble/106325171/  \n",
       "4  https://www.idealista.com/inmueble/106627265/  "
      ]
     },
     "metadata": {},
     "output_type": "display_data"
    }
   ],
   "source": [
    "# Install dependencies as needed:\n",
    "#!pip install kagglehub[pandas-datasets]\n",
    "# Set the path to the file you'd like to load\n",
    "file_path = \"Datos.csv\"\n",
    "\n",
    "# Load the latest version\n",
    "df = kagglehub.load_dataset(\n",
    "  KaggleDatasetAdapter.PANDAS,\n",
    "  \"fjcob1/idealista-madrid\",\n",
    "  file_path,\n",
    "  # Provide any additional arguments like \n",
    "  # sql_query or pandas_kwargs. See the \n",
    "  # documenation for more information:\n",
    "  # https://github.com/Kaggle/kagglehub/blob/main/README.md#kaggledatasetadapterpandas\n",
    ")\n",
    "\n",
    "display(\"Primeros 5 registros:\", df.head())"
   ]
  },
  {
   "cell_type": "markdown",
   "metadata": {},
   "source": [
    "### Introducción de los Datos\n",
    "* provincia: Provincia\n",
    "* zona: zona\n",
    "* título: Breve descripción de la oferta.\n",
    "* PrecioActual: Precio de venta actual.\n",
    "* PrecioAnterior: Precio de la oferta anterior.\n",
    "* metros: metros cuadrados.\n",
    "* habitaciones: número de habitaciones.\n",
    "* ascensor: si se indica que tenga o no ascensor.\n",
    "* localización: Interior, exterior,…\n",
    "* planta: número de planta.\n",
    "* baños: número de baños.\n",
    "* tags: etiquetas relevantes dependiendo de lo indicado en la oferta.\n",
    "* descripción: descripción de la oferta de venta.\n",
    "* Enlace: enlace a la oferta."
   ]
  },
  {
   "cell_type": "markdown",
   "metadata": {},
   "source": [
    "### Vemos el tipo de dato de los campos"
   ]
  },
  {
   "cell_type": "code",
   "execution_count": 321,
   "metadata": {},
   "outputs": [
    {
     "name": "stdout",
     "output_type": "stream",
     "text": [
      "<class 'pandas.core.frame.DataFrame'>\n",
      "RangeIndex: 11826 entries, 0 to 11825\n",
      "Data columns (total 14 columns):\n",
      " #   Column          Non-Null Count  Dtype  \n",
      "---  ------          --------------  -----  \n",
      " 0   provincia       11826 non-null  object \n",
      " 1   zona            11826 non-null  object \n",
      " 2   titulo          11826 non-null  object \n",
      " 3   PrecioActual    11826 non-null  int64  \n",
      " 4   PrecioAnterior  11826 non-null  int64  \n",
      " 5   metros          11826 non-null  int64  \n",
      " 6   habitaciones    11460 non-null  float64\n",
      " 7   ascensor        11033 non-null  object \n",
      " 8   localizacion    10730 non-null  object \n",
      " 9   planta          10601 non-null  object \n",
      " 10  baños           11826 non-null  int64  \n",
      " 11  tags            11664 non-null  object \n",
      " 12  descripcion     11761 non-null  object \n",
      " 13  Enlace          11826 non-null  object \n",
      "dtypes: float64(1), int64(4), object(9)\n",
      "memory usage: 1.3+ MB\n"
     ]
    }
   ],
   "source": [
    "df.info()"
   ]
  },
  {
   "cell_type": "markdown",
   "metadata": {},
   "source": [
    "### Vemos cuantos valores únicos hay de la columna provincia para asegurarnos antes de borrarla"
   ]
  },
  {
   "cell_type": "code",
   "execution_count": 322,
   "metadata": {},
   "outputs": [
    {
     "data": {
      "text/plain": [
       "array(['madrid'], dtype=object)"
      ]
     },
     "execution_count": 322,
     "metadata": {},
     "output_type": "execute_result"
    }
   ],
   "source": [
    "df['provincia'].unique()"
   ]
  },
  {
   "cell_type": "markdown",
   "metadata": {},
   "source": [
    "### Vemos cuantos valores \"0\" hay de la columna PrecioAnterior para asegurarnos antes de borrarla"
   ]
  },
  {
   "cell_type": "code",
   "execution_count": 323,
   "metadata": {},
   "outputs": [
    {
     "name": "stdout",
     "output_type": "stream",
     "text": [
      "Total de registros: 11826\n",
      "Valores iguales a 0 en 'PrecioAnterior': 10713\n"
     ]
    }
   ],
   "source": [
    "total_registros = len(df)\n",
    "\n",
    "valores_cero = (df['PrecioAnterior'] == 0).sum()\n",
    "\n",
    "print(f\"Total de registros: {total_registros}\")\n",
    "print(f\"Valores iguales a 0 en 'PrecioAnterior': {valores_cero}\")"
   ]
  },
  {
   "cell_type": "markdown",
   "metadata": {},
   "source": [
    "### Nuestra variable objetivo va a ser el PrecioActual de la vivienda y de momento vamos a eliminar las columnas que no son relevantes para nuetro modelo:\n",
    "* provincia\n",
    "* PrecioAnterior\n",
    "* Enlace (no aporta nada), pero no lo vamos a borrar para comprobar la calidad y veracidad de los datos mas adelante"
   ]
  },
  {
   "cell_type": "code",
   "execution_count": 324,
   "metadata": {},
   "outputs": [
    {
     "name": "stdout",
     "output_type": "stream",
     "text": [
      "Columnas eliminadas correctamente.\n"
     ]
    },
    {
     "data": {
      "text/html": [
       "<div>\n",
       "<style scoped>\n",
       "    .dataframe tbody tr th:only-of-type {\n",
       "        vertical-align: middle;\n",
       "    }\n",
       "\n",
       "    .dataframe tbody tr th {\n",
       "        vertical-align: top;\n",
       "    }\n",
       "\n",
       "    .dataframe thead th {\n",
       "        text-align: right;\n",
       "    }\n",
       "</style>\n",
       "<table border=\"1\" class=\"dataframe\">\n",
       "  <thead>\n",
       "    <tr style=\"text-align: right;\">\n",
       "      <th></th>\n",
       "      <th>zona</th>\n",
       "      <th>titulo</th>\n",
       "      <th>PrecioActual</th>\n",
       "      <th>metros</th>\n",
       "      <th>habitaciones</th>\n",
       "      <th>ascensor</th>\n",
       "      <th>localizacion</th>\n",
       "      <th>planta</th>\n",
       "      <th>baños</th>\n",
       "      <th>tags</th>\n",
       "      <th>descripcion</th>\n",
       "      <th>Enlace</th>\n",
       "    </tr>\n",
       "  </thead>\n",
       "  <tbody>\n",
       "    <tr>\n",
       "      <th>0</th>\n",
       "      <td>ciudad-lineal</td>\n",
       "      <td>Piso en calle de San Marcelo, 22, Ventas, Madrid</td>\n",
       "      <td>355000</td>\n",
       "      <td>69</td>\n",
       "      <td>2.0</td>\n",
       "      <td>S</td>\n",
       "      <td>EXTERIOR</td>\n",
       "      <td>5ª</td>\n",
       "      <td>1</td>\n",
       "      <td>VIVIENDA,LUMINOSO,VISTAS,REFORMADA,PORTERO,EXT...</td>\n",
       "      <td>Particular Vende vivienda totalmente reformada...</td>\n",
       "      <td>https://www.idealista.com/inmueble/106956987/</td>\n",
       "    </tr>\n",
       "    <tr>\n",
       "      <th>1</th>\n",
       "      <td>carabanchel</td>\n",
       "      <td>Piso en calle Cabo Nicolás Mur, San Isidro, Ma...</td>\n",
       "      <td>149000</td>\n",
       "      <td>91</td>\n",
       "      <td>3.0</td>\n",
       "      <td>N</td>\n",
       "      <td>EXTERIOR</td>\n",
       "      <td>1ª</td>\n",
       "      <td>0</td>\n",
       "      <td>PISO,EXCLUSIVA,INMOBILIARIA,OPORTUNIDAD</td>\n",
       "      <td>Inmobiliarias Encuentro vende en exclusiva la ...</td>\n",
       "      <td>https://www.idealista.com/inmueble/106906044/</td>\n",
       "    </tr>\n",
       "    <tr>\n",
       "      <th>2</th>\n",
       "      <td>centro</td>\n",
       "      <td>Piso en calle de Rodas, Lavapiés-Embajadores, ...</td>\n",
       "      <td>195000</td>\n",
       "      <td>36</td>\n",
       "      <td>1.0</td>\n",
       "      <td>S</td>\n",
       "      <td>NaN</td>\n",
       "      <td>2ª</td>\n",
       "      <td>0</td>\n",
       "      <td>EXCLUSIVA,ESTUDIO</td>\n",
       "      <td>ESTUDIO EN PLENO CENTRO DE MADRIDSarago Servic...</td>\n",
       "      <td>https://www.idealista.com/inmueble/107306175/</td>\n",
       "    </tr>\n",
       "    <tr>\n",
       "      <th>3</th>\n",
       "      <td>usera</td>\n",
       "      <td>Piso en calle de Ferroviarios, Almendrales, Ma...</td>\n",
       "      <td>195000</td>\n",
       "      <td>58</td>\n",
       "      <td>1.0</td>\n",
       "      <td>S</td>\n",
       "      <td>INTERIOR</td>\n",
       "      <td>BAJO</td>\n",
       "      <td>0</td>\n",
       "      <td>VIVIENDA,HOGAR,FUNCIONAL</td>\n",
       "      <td>Esta acogedora vivienda, ubicada en una planta...</td>\n",
       "      <td>https://www.idealista.com/inmueble/106325171/</td>\n",
       "    </tr>\n",
       "    <tr>\n",
       "      <th>4</th>\n",
       "      <td>tetuan</td>\n",
       "      <td>Dúplex en Bellas Vistas, Madrid</td>\n",
       "      <td>715000</td>\n",
       "      <td>140</td>\n",
       "      <td>3.0</td>\n",
       "      <td>S</td>\n",
       "      <td>EXTERIOR</td>\n",
       "      <td>2ª</td>\n",
       "      <td>0</td>\n",
       "      <td>TERRAZA,EXCLUSIVA,MODERNO</td>\n",
       "      <td>Maravilloso ATICO de reciente construcción, co...</td>\n",
       "      <td>https://www.idealista.com/inmueble/106627265/</td>\n",
       "    </tr>\n",
       "  </tbody>\n",
       "</table>\n",
       "</div>"
      ],
      "text/plain": [
       "            zona                                             titulo  \\\n",
       "0  ciudad-lineal   Piso en calle de San Marcelo, 22, Ventas, Madrid   \n",
       "1    carabanchel  Piso en calle Cabo Nicolás Mur, San Isidro, Ma...   \n",
       "2         centro  Piso en calle de Rodas, Lavapiés-Embajadores, ...   \n",
       "3          usera  Piso en calle de Ferroviarios, Almendrales, Ma...   \n",
       "4         tetuan                    Dúplex en Bellas Vistas, Madrid   \n",
       "\n",
       "   PrecioActual  metros  habitaciones ascensor localizacion planta  baños  \\\n",
       "0        355000      69           2.0        S     EXTERIOR     5ª      1   \n",
       "1        149000      91           3.0        N     EXTERIOR     1ª      0   \n",
       "2        195000      36           1.0        S          NaN     2ª      0   \n",
       "3        195000      58           1.0        S     INTERIOR   BAJO      0   \n",
       "4        715000     140           3.0        S     EXTERIOR     2ª      0   \n",
       "\n",
       "                                                tags  \\\n",
       "0  VIVIENDA,LUMINOSO,VISTAS,REFORMADA,PORTERO,EXT...   \n",
       "1            PISO,EXCLUSIVA,INMOBILIARIA,OPORTUNIDAD   \n",
       "2                                  EXCLUSIVA,ESTUDIO   \n",
       "3                           VIVIENDA,HOGAR,FUNCIONAL   \n",
       "4                          TERRAZA,EXCLUSIVA,MODERNO   \n",
       "\n",
       "                                         descripcion  \\\n",
       "0  Particular Vende vivienda totalmente reformada...   \n",
       "1  Inmobiliarias Encuentro vende en exclusiva la ...   \n",
       "2  ESTUDIO EN PLENO CENTRO DE MADRIDSarago Servic...   \n",
       "3  Esta acogedora vivienda, ubicada en una planta...   \n",
       "4  Maravilloso ATICO de reciente construcción, co...   \n",
       "\n",
       "                                          Enlace  \n",
       "0  https://www.idealista.com/inmueble/106956987/  \n",
       "1  https://www.idealista.com/inmueble/106906044/  \n",
       "2  https://www.idealista.com/inmueble/107306175/  \n",
       "3  https://www.idealista.com/inmueble/106325171/  \n",
       "4  https://www.idealista.com/inmueble/106627265/  "
      ]
     },
     "metadata": {},
     "output_type": "display_data"
    }
   ],
   "source": [
    "try:\n",
    "    df.drop(columns=['provincia', 'PrecioAnterior',], inplace=True)\n",
    "    print(\"Columnas eliminadas correctamente.\")\n",
    "except KeyError as e:\n",
    "    print(f\"No se pudieron eliminar algunas columnas porque no existen(ya se han eliminado): {e}\")\n",
    "display(df.head())"
   ]
  },
  {
   "cell_type": "markdown",
   "metadata": {},
   "source": [
    "## 1. Preparación por columnas de nuestro dataset"
   ]
  },
  {
   "cell_type": "code",
   "execution_count": 325,
   "metadata": {},
   "outputs": [
    {
     "data": {
      "text/html": [
       "<div>\n",
       "<style scoped>\n",
       "    .dataframe tbody tr th:only-of-type {\n",
       "        vertical-align: middle;\n",
       "    }\n",
       "\n",
       "    .dataframe tbody tr th {\n",
       "        vertical-align: top;\n",
       "    }\n",
       "\n",
       "    .dataframe thead th {\n",
       "        text-align: right;\n",
       "    }\n",
       "</style>\n",
       "<table border=\"1\" class=\"dataframe\">\n",
       "  <thead>\n",
       "    <tr style=\"text-align: right;\">\n",
       "      <th></th>\n",
       "      <th>PrecioActual</th>\n",
       "      <th>zona</th>\n",
       "      <th>titulo</th>\n",
       "      <th>metros</th>\n",
       "      <th>habitaciones</th>\n",
       "      <th>ascensor</th>\n",
       "      <th>localizacion</th>\n",
       "      <th>planta</th>\n",
       "      <th>baños</th>\n",
       "      <th>tags</th>\n",
       "      <th>descripcion</th>\n",
       "      <th>Enlace</th>\n",
       "    </tr>\n",
       "  </thead>\n",
       "  <tbody>\n",
       "    <tr>\n",
       "      <th>0</th>\n",
       "      <td>355000</td>\n",
       "      <td>ciudad-lineal</td>\n",
       "      <td>Piso en calle de San Marcelo, 22, Ventas, Madrid</td>\n",
       "      <td>69</td>\n",
       "      <td>2.0</td>\n",
       "      <td>S</td>\n",
       "      <td>EXTERIOR</td>\n",
       "      <td>5ª</td>\n",
       "      <td>1</td>\n",
       "      <td>VIVIENDA,LUMINOSO,VISTAS,REFORMADA,PORTERO,EXT...</td>\n",
       "      <td>Particular Vende vivienda totalmente reformada...</td>\n",
       "      <td>https://www.idealista.com/inmueble/106956987/</td>\n",
       "    </tr>\n",
       "    <tr>\n",
       "      <th>1</th>\n",
       "      <td>149000</td>\n",
       "      <td>carabanchel</td>\n",
       "      <td>Piso en calle Cabo Nicolás Mur, San Isidro, Ma...</td>\n",
       "      <td>91</td>\n",
       "      <td>3.0</td>\n",
       "      <td>N</td>\n",
       "      <td>EXTERIOR</td>\n",
       "      <td>1ª</td>\n",
       "      <td>0</td>\n",
       "      <td>PISO,EXCLUSIVA,INMOBILIARIA,OPORTUNIDAD</td>\n",
       "      <td>Inmobiliarias Encuentro vende en exclusiva la ...</td>\n",
       "      <td>https://www.idealista.com/inmueble/106906044/</td>\n",
       "    </tr>\n",
       "    <tr>\n",
       "      <th>2</th>\n",
       "      <td>195000</td>\n",
       "      <td>centro</td>\n",
       "      <td>Piso en calle de Rodas, Lavapiés-Embajadores, ...</td>\n",
       "      <td>36</td>\n",
       "      <td>1.0</td>\n",
       "      <td>S</td>\n",
       "      <td>NaN</td>\n",
       "      <td>2ª</td>\n",
       "      <td>0</td>\n",
       "      <td>EXCLUSIVA,ESTUDIO</td>\n",
       "      <td>ESTUDIO EN PLENO CENTRO DE MADRIDSarago Servic...</td>\n",
       "      <td>https://www.idealista.com/inmueble/107306175/</td>\n",
       "    </tr>\n",
       "    <tr>\n",
       "      <th>3</th>\n",
       "      <td>195000</td>\n",
       "      <td>usera</td>\n",
       "      <td>Piso en calle de Ferroviarios, Almendrales, Ma...</td>\n",
       "      <td>58</td>\n",
       "      <td>1.0</td>\n",
       "      <td>S</td>\n",
       "      <td>INTERIOR</td>\n",
       "      <td>BAJO</td>\n",
       "      <td>0</td>\n",
       "      <td>VIVIENDA,HOGAR,FUNCIONAL</td>\n",
       "      <td>Esta acogedora vivienda, ubicada en una planta...</td>\n",
       "      <td>https://www.idealista.com/inmueble/106325171/</td>\n",
       "    </tr>\n",
       "    <tr>\n",
       "      <th>4</th>\n",
       "      <td>715000</td>\n",
       "      <td>tetuan</td>\n",
       "      <td>Dúplex en Bellas Vistas, Madrid</td>\n",
       "      <td>140</td>\n",
       "      <td>3.0</td>\n",
       "      <td>S</td>\n",
       "      <td>EXTERIOR</td>\n",
       "      <td>2ª</td>\n",
       "      <td>0</td>\n",
       "      <td>TERRAZA,EXCLUSIVA,MODERNO</td>\n",
       "      <td>Maravilloso ATICO de reciente construcción, co...</td>\n",
       "      <td>https://www.idealista.com/inmueble/106627265/</td>\n",
       "    </tr>\n",
       "  </tbody>\n",
       "</table>\n",
       "</div>"
      ],
      "text/plain": [
       "   PrecioActual           zona  \\\n",
       "0        355000  ciudad-lineal   \n",
       "1        149000    carabanchel   \n",
       "2        195000         centro   \n",
       "3        195000          usera   \n",
       "4        715000         tetuan   \n",
       "\n",
       "                                              titulo  metros  habitaciones  \\\n",
       "0   Piso en calle de San Marcelo, 22, Ventas, Madrid      69           2.0   \n",
       "1  Piso en calle Cabo Nicolás Mur, San Isidro, Ma...      91           3.0   \n",
       "2  Piso en calle de Rodas, Lavapiés-Embajadores, ...      36           1.0   \n",
       "3  Piso en calle de Ferroviarios, Almendrales, Ma...      58           1.0   \n",
       "4                    Dúplex en Bellas Vistas, Madrid     140           3.0   \n",
       "\n",
       "  ascensor localizacion planta  baños  \\\n",
       "0        S     EXTERIOR     5ª      1   \n",
       "1        N     EXTERIOR     1ª      0   \n",
       "2        S          NaN     2ª      0   \n",
       "3        S     INTERIOR   BAJO      0   \n",
       "4        S     EXTERIOR     2ª      0   \n",
       "\n",
       "                                                tags  \\\n",
       "0  VIVIENDA,LUMINOSO,VISTAS,REFORMADA,PORTERO,EXT...   \n",
       "1            PISO,EXCLUSIVA,INMOBILIARIA,OPORTUNIDAD   \n",
       "2                                  EXCLUSIVA,ESTUDIO   \n",
       "3                           VIVIENDA,HOGAR,FUNCIONAL   \n",
       "4                          TERRAZA,EXCLUSIVA,MODERNO   \n",
       "\n",
       "                                         descripcion  \\\n",
       "0  Particular Vende vivienda totalmente reformada...   \n",
       "1  Inmobiliarias Encuentro vende en exclusiva la ...   \n",
       "2  ESTUDIO EN PLENO CENTRO DE MADRIDSarago Servic...   \n",
       "3  Esta acogedora vivienda, ubicada en una planta...   \n",
       "4  Maravilloso ATICO de reciente construcción, co...   \n",
       "\n",
       "                                          Enlace  \n",
       "0  https://www.idealista.com/inmueble/106956987/  \n",
       "1  https://www.idealista.com/inmueble/106906044/  \n",
       "2  https://www.idealista.com/inmueble/107306175/  \n",
       "3  https://www.idealista.com/inmueble/106325171/  \n",
       "4  https://www.idealista.com/inmueble/106627265/  "
      ]
     },
     "metadata": {},
     "output_type": "display_data"
    }
   ],
   "source": [
    "# Vamos a poner el PrecioActual como la primera columna\n",
    "df = df[['PrecioActual'] + [col for col in df.columns if col != 'PrecioActual']]\n",
    "display(df.head())"
   ]
  },
  {
   "cell_type": "markdown",
   "metadata": {},
   "source": [
    "### Funcion que vamos a usar para analizar las columnas"
   ]
  },
  {
   "cell_type": "code",
   "execution_count": 326,
   "metadata": {},
   "outputs": [],
   "source": [
    "# En primer lugar vamos definir una función que nos ayudará a analizar las columnas de un dataframe\n",
    "def describe_columna(df, col):\n",
    "    print(f'Columna: {col}  -  Tipo de datos: {df[col].dtype}')\n",
    "    print(f'Número de valores nulos: {df[col].isnull().sum()}  -  Número de valores distintos: {df[col].nunique()}')\n",
    "    print('Valores más frecuentes:')\n",
    "    for i, v in df[col].value_counts().iloc[:10].items() :\n",
    "        print(i, ':',v, \"veces\")"
   ]
  },
  {
   "cell_type": "markdown",
   "metadata": {},
   "source": [
    "## *Columna zona*"
   ]
  },
  {
   "cell_type": "markdown",
   "metadata": {},
   "source": [
    "### Usamos la funcion describe_columna para comprobar si hay nulos, los número de valores distintos y comprobar los valores mas frecuentes"
   ]
  },
  {
   "cell_type": "code",
   "execution_count": 327,
   "metadata": {},
   "outputs": [
    {
     "name": "stdout",
     "output_type": "stream",
     "text": [
      "Columna: zona  -  Tipo de datos: object\n",
      "Número de valores nulos: 0  -  Número de valores distintos: 21\n",
      "Valores más frecuentes:\n",
      "barrio-de-salamanca : 2018 veces\n",
      "centro : 1890 veces\n",
      "chamberi : 796 veces\n",
      "chamartin : 706 veces\n",
      "tetuan : 596 veces\n",
      "moncloa : 580 veces\n",
      "carabanchel : 567 veces\n",
      "ciudad-lineal : 537 veces\n",
      "puente-de-vallecas : 526 veces\n",
      "retiro : 508 veces\n"
     ]
    }
   ],
   "source": [
    "describe_columna(df, \"zona\")"
   ]
  },
  {
   "cell_type": "markdown",
   "metadata": {},
   "source": [
    "### nos puede valer para tener en cuenta a la hora de escalar los datos en los siguientes pasos"
   ]
  },
  {
   "cell_type": "markdown",
   "metadata": {},
   "source": [
    "### zona enfrentado al PrecioActual"
   ]
  },
  {
   "cell_type": "code",
   "execution_count": 328,
   "metadata": {},
   "outputs": [
    {
     "data": {
      "image/png": "[encoded data removed]",
      "text/plain": [
       "<Figure size 1200x600 with 1 Axes>"
      ]
     },
     "metadata": {},
     "output_type": "display_data"
    }
   ],
   "source": [
    "plt.figure(figsize=(12, 6))\n",
    "sns.boxplot(x=\"zona\", y=\"PrecioActual\", data=df)\n",
    "plt.xticks(rotation=65)  # Rotar etiquetas para mejor lectura\n",
    "plt.title(\"Distribución del PrecioActual por Zona\")\n",
    "plt.show()"
   ]
  },
  {
   "cell_type": "markdown",
   "metadata": {},
   "source": [
    "### media de precio de vivienda por zonas"
   ]
  },
  {
   "cell_type": "code",
   "execution_count": 329,
   "metadata": {},
   "outputs": [
    {
     "data": {
      "text/plain": [
       "zona\n",
       "barrio-de-salamanca    1966802.046\n",
       "chamartin              1767126.296\n",
       "moncloa                1620871.172\n",
       "chamberi               1498335.730\n",
       "retiro                 1310153.789\n",
       "hortaleza              1190754.570\n",
       "fuencarral              892204.092\n",
       "centro                  862305.902\n",
       "tetuan                  577428.998\n",
       "barajas                 555625.660\n",
       "ciudad-lineal           542408.108\n",
       "arganzuela              484212.350\n",
       "san-blas                401028.385\n",
       "vicalvaro               356815.922\n",
       "latina                  299185.233\n",
       "villa-de-vallecas       298188.288\n",
       "moratalaz               296772.155\n",
       "carabanchel             273038.078\n",
       "usera                   252341.970\n",
       "villaverde              198630.583\n",
       "puente-de-vallecas      191280.369\n",
       "Name: PrecioActual, dtype: object"
      ]
     },
     "metadata": {},
     "output_type": "display_data"
    }
   ],
   "source": [
    "media_precio_por_zona = df.groupby(\"zona\")[\"PrecioActual\"].mean().sort_values(ascending=False)\n",
    "\n",
    "# Formatear los valores sin notación científica y con separador de miles\n",
    "media_precio_por_zona = media_precio_por_zona.apply(lambda x: f\"{x:.3f}\")\n",
    "\n",
    "display(media_precio_por_zona)"
   ]
  },
  {
   "cell_type": "markdown",
   "metadata": {},
   "source": [
    "### Vemos que hay un amplio rango de precios por zonas, yendonos al extremo, en vallecas tenemos la media entorno a 191.000€ y en el barrio de salamanca en cerca de 2 millones de euros."
   ]
  },
  {
   "cell_type": "markdown",
   "metadata": {},
   "source": [
    "## *Columna titulo*\n",
    "### Vamos a borrarla porque no va a influenciar en el entrenamiento del modelo"
   ]
  },
  {
   "cell_type": "code",
   "execution_count": 330,
   "metadata": {},
   "outputs": [
    {
     "name": "stdout",
     "output_type": "stream",
     "text": [
      "Columna titulo eliminada correctamente.\n"
     ]
    },
    {
     "data": {
      "text/html": [
       "<div>\n",
       "<style scoped>\n",
       "    .dataframe tbody tr th:only-of-type {\n",
       "        vertical-align: middle;\n",
       "    }\n",
       "\n",
       "    .dataframe tbody tr th {\n",
       "        vertical-align: top;\n",
       "    }\n",
       "\n",
       "    .dataframe thead th {\n",
       "        text-align: right;\n",
       "    }\n",
       "</style>\n",
       "<table border=\"1\" class=\"dataframe\">\n",
       "  <thead>\n",
       "    <tr style=\"text-align: right;\">\n",
       "      <th></th>\n",
       "      <th>PrecioActual</th>\n",
       "      <th>zona</th>\n",
       "      <th>metros</th>\n",
       "      <th>habitaciones</th>\n",
       "      <th>ascensor</th>\n",
       "      <th>localizacion</th>\n",
       "      <th>planta</th>\n",
       "      <th>baños</th>\n",
       "      <th>tags</th>\n",
       "      <th>descripcion</th>\n",
       "      <th>Enlace</th>\n",
       "    </tr>\n",
       "  </thead>\n",
       "  <tbody>\n",
       "    <tr>\n",
       "      <th>0</th>\n",
       "      <td>355000</td>\n",
       "      <td>ciudad-lineal</td>\n",
       "      <td>69</td>\n",
       "      <td>2.0</td>\n",
       "      <td>S</td>\n",
       "      <td>EXTERIOR</td>\n",
       "      <td>5ª</td>\n",
       "      <td>1</td>\n",
       "      <td>VIVIENDA,LUMINOSO,VISTAS,REFORMADA,PORTERO,EXT...</td>\n",
       "      <td>Particular Vende vivienda totalmente reformada...</td>\n",
       "      <td>https://www.idealista.com/inmueble/106956987/</td>\n",
       "    </tr>\n",
       "    <tr>\n",
       "      <th>1</th>\n",
       "      <td>149000</td>\n",
       "      <td>carabanchel</td>\n",
       "      <td>91</td>\n",
       "      <td>3.0</td>\n",
       "      <td>N</td>\n",
       "      <td>EXTERIOR</td>\n",
       "      <td>1ª</td>\n",
       "      <td>0</td>\n",
       "      <td>PISO,EXCLUSIVA,INMOBILIARIA,OPORTUNIDAD</td>\n",
       "      <td>Inmobiliarias Encuentro vende en exclusiva la ...</td>\n",
       "      <td>https://www.idealista.com/inmueble/106906044/</td>\n",
       "    </tr>\n",
       "    <tr>\n",
       "      <th>2</th>\n",
       "      <td>195000</td>\n",
       "      <td>centro</td>\n",
       "      <td>36</td>\n",
       "      <td>1.0</td>\n",
       "      <td>S</td>\n",
       "      <td>NaN</td>\n",
       "      <td>2ª</td>\n",
       "      <td>0</td>\n",
       "      <td>EXCLUSIVA,ESTUDIO</td>\n",
       "      <td>ESTUDIO EN PLENO CENTRO DE MADRIDSarago Servic...</td>\n",
       "      <td>https://www.idealista.com/inmueble/107306175/</td>\n",
       "    </tr>\n",
       "    <tr>\n",
       "      <th>3</th>\n",
       "      <td>195000</td>\n",
       "      <td>usera</td>\n",
       "      <td>58</td>\n",
       "      <td>1.0</td>\n",
       "      <td>S</td>\n",
       "      <td>INTERIOR</td>\n",
       "      <td>BAJO</td>\n",
       "      <td>0</td>\n",
       "      <td>VIVIENDA,HOGAR,FUNCIONAL</td>\n",
       "      <td>Esta acogedora vivienda, ubicada en una planta...</td>\n",
       "      <td>https://www.idealista.com/inmueble/106325171/</td>\n",
       "    </tr>\n",
       "    <tr>\n",
       "      <th>4</th>\n",
       "      <td>715000</td>\n",
       "      <td>tetuan</td>\n",
       "      <td>140</td>\n",
       "      <td>3.0</td>\n",
       "      <td>S</td>\n",
       "      <td>EXTERIOR</td>\n",
       "      <td>2ª</td>\n",
       "      <td>0</td>\n",
       "      <td>TERRAZA,EXCLUSIVA,MODERNO</td>\n",
       "      <td>Maravilloso ATICO de reciente construcción, co...</td>\n",
       "      <td>https://www.idealista.com/inmueble/106627265/</td>\n",
       "    </tr>\n",
       "  </tbody>\n",
       "</table>\n",
       "</div>"
      ],
      "text/plain": [
       "   PrecioActual           zona  metros  habitaciones ascensor localizacion  \\\n",
       "0        355000  ciudad-lineal      69           2.0        S     EXTERIOR   \n",
       "1        149000    carabanchel      91           3.0        N     EXTERIOR   \n",
       "2        195000         centro      36           1.0        S          NaN   \n",
       "3        195000          usera      58           1.0        S     INTERIOR   \n",
       "4        715000         tetuan     140           3.0        S     EXTERIOR   \n",
       "\n",
       "  planta  baños                                               tags  \\\n",
       "0     5ª      1  VIVIENDA,LUMINOSO,VISTAS,REFORMADA,PORTERO,EXT...   \n",
       "1     1ª      0            PISO,EXCLUSIVA,INMOBILIARIA,OPORTUNIDAD   \n",
       "2     2ª      0                                  EXCLUSIVA,ESTUDIO   \n",
       "3   BAJO      0                           VIVIENDA,HOGAR,FUNCIONAL   \n",
       "4     2ª      0                          TERRAZA,EXCLUSIVA,MODERNO   \n",
       "\n",
       "                                         descripcion  \\\n",
       "0  Particular Vende vivienda totalmente reformada...   \n",
       "1  Inmobiliarias Encuentro vende en exclusiva la ...   \n",
       "2  ESTUDIO EN PLENO CENTRO DE MADRIDSarago Servic...   \n",
       "3  Esta acogedora vivienda, ubicada en una planta...   \n",
       "4  Maravilloso ATICO de reciente construcción, co...   \n",
       "\n",
       "                                          Enlace  \n",
       "0  https://www.idealista.com/inmueble/106956987/  \n",
       "1  https://www.idealista.com/inmueble/106906044/  \n",
       "2  https://www.idealista.com/inmueble/107306175/  \n",
       "3  https://www.idealista.com/inmueble/106325171/  \n",
       "4  https://www.idealista.com/inmueble/106627265/  "
      ]
     },
     "metadata": {},
     "output_type": "display_data"
    }
   ],
   "source": [
    "try:\n",
    "    df.drop(columns=['titulo'], inplace=True)\n",
    "    print(\"Columna titulo eliminada correctamente.\")\n",
    "except KeyError as e:\n",
    "    print(f\"No se pudo eliminar la columna titulo o ya ha sido eliminada): {e}\")\n",
    "display(df.head())"
   ]
  },
  {
   "cell_type": "markdown",
   "metadata": {},
   "source": [
    "## *Columna baños*\n",
    "### Se ha eliminado la columna baños porque hay mas de un 90% de casos en los que esta columna muestra 0 en los baños, debe de ser un error al extraer los datos de la página de idealista"
   ]
  },
  {
   "cell_type": "code",
   "execution_count": 331,
   "metadata": {},
   "outputs": [
    {
     "name": "stdout",
     "output_type": "stream",
     "text": [
      "Total de registros: 11826\n",
      "Valores iguales a 0 en 'baños': 9311\n",
      "Columna baños eliminada correctamente.\n"
     ]
    }
   ],
   "source": [
    "try:\n",
    "    total_registros = len(df)\n",
    "\n",
    "    valores_cero = (df['baños'] == 0).sum()\n",
    "\n",
    "    print(f\"Total de registros: {total_registros}\")\n",
    "    print(f\"Valores iguales a 0 en 'baños': {valores_cero}\")\n",
    "    df.drop(columns=['baños'], inplace=True)\n",
    "    print(\"Columna baños eliminada correctamente.\")\n",
    "except KeyError as e:\n",
    "    print(f\"No se pudo eliminar la columna baños o ya ha sido eliminada): {e}\")\n",
    "\n",
    "#display(df.head())"
   ]
  },
  {
   "cell_type": "markdown",
   "metadata": {},
   "source": [
    "## *Columna metros*"
   ]
  },
  {
   "cell_type": "code",
   "execution_count": 332,
   "metadata": {},
   "outputs": [
    {
     "name": "stdout",
     "output_type": "stream",
     "text": [
      "Nulos en la columna metros: 0\n"
     ]
    },
    {
     "data": {
      "text/plain": [
       "count    11826.000000\n",
       "mean       153.790039\n",
       "std        766.217750\n",
       "min         11.000000\n",
       "25%         68.000000\n",
       "50%        103.000000\n",
       "75%        160.000000\n",
       "max      75000.000000\n",
       "Name: metros, dtype: float64"
      ]
     },
     "execution_count": 332,
     "metadata": {},
     "output_type": "execute_result"
    }
   ],
   "source": [
    "# Vemos cuantos nulos hay en el campo metros\n",
    "print(\"Nulos en la columna metros:\",df[\"metros\"].isnull().sum())\n",
    "\n",
    "# Hacemos un describe para ver la informacion del campo\n",
    "df[\"metros\"].describe()"
   ]
  },
  {
   "cell_type": "markdown",
   "metadata": {},
   "source": [
    "### Vemos que puede haber precios muy diferentes aunque la media se establece en 153m², vemos en max que hay una casa en venta con 75000m², vamos a buscarla"
   ]
  },
  {
   "cell_type": "code",
   "execution_count": 333,
   "metadata": {},
   "outputs": [
    {
     "data": {
      "text/html": [
       "<div>\n",
       "<style scoped>\n",
       "    .dataframe tbody tr th:only-of-type {\n",
       "        vertical-align: middle;\n",
       "    }\n",
       "\n",
       "    .dataframe tbody tr th {\n",
       "        vertical-align: top;\n",
       "    }\n",
       "\n",
       "    .dataframe thead th {\n",
       "        text-align: right;\n",
       "    }\n",
       "</style>\n",
       "<table border=\"1\" class=\"dataframe\">\n",
       "  <thead>\n",
       "    <tr style=\"text-align: right;\">\n",
       "      <th></th>\n",
       "      <th>PrecioActual</th>\n",
       "      <th>zona</th>\n",
       "      <th>metros</th>\n",
       "      <th>habitaciones</th>\n",
       "      <th>ascensor</th>\n",
       "      <th>localizacion</th>\n",
       "      <th>planta</th>\n",
       "      <th>tags</th>\n",
       "      <th>descripcion</th>\n",
       "      <th>Enlace</th>\n",
       "    </tr>\n",
       "  </thead>\n",
       "  <tbody>\n",
       "    <tr>\n",
       "      <th>6979</th>\n",
       "      <td>192000</td>\n",
       "      <td>ciudad-lineal</td>\n",
       "      <td>75000</td>\n",
       "      <td>3.0</td>\n",
       "      <td>N</td>\n",
       "      <td>EXTERIOR</td>\n",
       "      <td>1ª</td>\n",
       "      <td>VIVIENDA,INMOBILIARIA</td>\n",
       "      <td>VIVIENDA OCUPADASe admiten ofertas***SIN COMIS...</td>\n",
       "      <td>https://www.idealista.com/inmueble/107196960/</td>\n",
       "    </tr>\n",
       "  </tbody>\n",
       "</table>\n",
       "</div>"
      ],
      "text/plain": [
       "      PrecioActual           zona  metros  habitaciones ascensor localizacion  \\\n",
       "6979        192000  ciudad-lineal   75000           3.0        N     EXTERIOR   \n",
       "\n",
       "     planta                   tags  \\\n",
       "6979     1ª  VIVIENDA,INMOBILIARIA   \n",
       "\n",
       "                                            descripcion  \\\n",
       "6979  VIVIENDA OCUPADASe admiten ofertas***SIN COMIS...   \n",
       "\n",
       "                                             Enlace  \n",
       "6979  https://www.idealista.com/inmueble/107196960/  "
      ]
     },
     "metadata": {},
     "output_type": "display_data"
    }
   ],
   "source": [
    "registro_maximo = df.loc[df[\"metros\"] == 75000]\n",
    "display(registro_maximo)"
   ]
  },
  {
   "attachments": {
    "image.png": {
     "image/png": "[encoded data removed]"
    }
   },
   "cell_type": "markdown",
   "metadata": {},
   "source": [
    "![image.png](attachment:image.png)"
   ]
  },
  {
   "cell_type": "markdown",
   "metadata": {},
   "source": [
    "### Entrando en el enlace vemos que no son 75000m², sino 75, entonces vamos a hacer una pequeña funcion para buscar estos posibles casos"
   ]
  },
  {
   "cell_type": "code",
   "execution_count": 334,
   "metadata": {},
   "outputs": [
    {
     "data": {
      "text/html": [
       "<div>\n",
       "<style scoped>\n",
       "    .dataframe tbody tr th:only-of-type {\n",
       "        vertical-align: middle;\n",
       "    }\n",
       "\n",
       "    .dataframe tbody tr th {\n",
       "        vertical-align: top;\n",
       "    }\n",
       "\n",
       "    .dataframe thead th {\n",
       "        text-align: right;\n",
       "    }\n",
       "</style>\n",
       "<table border=\"1\" class=\"dataframe\">\n",
       "  <thead>\n",
       "    <tr style=\"text-align: right;\">\n",
       "      <th></th>\n",
       "      <th>PrecioActual</th>\n",
       "      <th>metros</th>\n",
       "      <th>Enlace</th>\n",
       "    </tr>\n",
       "  </thead>\n",
       "  <tbody>\n",
       "    <tr>\n",
       "      <th>744</th>\n",
       "      <td>190000</td>\n",
       "      <td>243</td>\n",
       "      <td>https://www.idealista.com/inmueble/107240336/</td>\n",
       "    </tr>\n",
       "    <tr>\n",
       "      <th>2714</th>\n",
       "      <td>114500</td>\n",
       "      <td>811</td>\n",
       "      <td>https://www.idealista.com/inmueble/107028561/</td>\n",
       "    </tr>\n",
       "    <tr>\n",
       "      <th>3231</th>\n",
       "      <td>170000</td>\n",
       "      <td>160</td>\n",
       "      <td>https://www.idealista.com/inmueble/106315139/</td>\n",
       "    </tr>\n",
       "    <tr>\n",
       "      <th>5762</th>\n",
       "      <td>286000</td>\n",
       "      <td>155</td>\n",
       "      <td>https://www.idealista.com/inmueble/107016847/</td>\n",
       "    </tr>\n",
       "    <tr>\n",
       "      <th>6979</th>\n",
       "      <td>192000</td>\n",
       "      <td>75000</td>\n",
       "      <td>https://www.idealista.com/inmueble/107196960/</td>\n",
       "    </tr>\n",
       "    <tr>\n",
       "      <th>7456</th>\n",
       "      <td>290000</td>\n",
       "      <td>171</td>\n",
       "      <td>https://www.idealista.com/inmueble/102922637/</td>\n",
       "    </tr>\n",
       "    <tr>\n",
       "      <th>7750</th>\n",
       "      <td>161000</td>\n",
       "      <td>479</td>\n",
       "      <td>https://www.idealista.com/inmueble/101241888/</td>\n",
       "    </tr>\n",
       "    <tr>\n",
       "      <th>8106</th>\n",
       "      <td>286000</td>\n",
       "      <td>154</td>\n",
       "      <td>https://www.idealista.com/inmueble/106631131/</td>\n",
       "    </tr>\n",
       "    <tr>\n",
       "      <th>10181</th>\n",
       "      <td>290000</td>\n",
       "      <td>160</td>\n",
       "      <td>https://www.idealista.com/inmueble/107261187/</td>\n",
       "    </tr>\n",
       "    <tr>\n",
       "      <th>10821</th>\n",
       "      <td>232000</td>\n",
       "      <td>159</td>\n",
       "      <td>https://www.idealista.com/inmueble/106463321/</td>\n",
       "    </tr>\n",
       "  </tbody>\n",
       "</table>\n",
       "</div>"
      ],
      "text/plain": [
       "       PrecioActual  metros                                         Enlace\n",
       "744          190000     243  https://www.idealista.com/inmueble/107240336/\n",
       "2714         114500     811  https://www.idealista.com/inmueble/107028561/\n",
       "3231         170000     160  https://www.idealista.com/inmueble/106315139/\n",
       "5762         286000     155  https://www.idealista.com/inmueble/107016847/\n",
       "6979         192000   75000  https://www.idealista.com/inmueble/107196960/\n",
       "7456         290000     171  https://www.idealista.com/inmueble/102922637/\n",
       "7750         161000     479  https://www.idealista.com/inmueble/101241888/\n",
       "8106         286000     154  https://www.idealista.com/inmueble/106631131/\n",
       "10181        290000     160  https://www.idealista.com/inmueble/107261187/\n",
       "10821        232000     159  https://www.idealista.com/inmueble/106463321/"
      ]
     },
     "metadata": {},
     "output_type": "display_data"
    }
   ],
   "source": [
    "# Filtrar los pisos con más de 150 metros cuadrados y menos de 300000 en PrecioActual\n",
    "df_filtrado = df[(df['metros'] > 150) & (df['PrecioActual'] < 300000)]\n",
    "\n",
    "# Seleccionar las columnas de interés\n",
    "df_resultado = df_filtrado[['PrecioActual', 'metros', 'Enlace']]\n",
    "\n",
    "# Mostrar el resultado\n",
    "display(df_resultado)"
   ]
  },
  {
   "cell_type": "markdown",
   "metadata": {},
   "source": [
    "| Columna | Precio | Metros | Acción |\n",
    "|---------|--------|--------|--------|\n",
    "| 744     | Está bien | Está bien | Se dejará tal como está |\n",
    "| 2714    | Está bien | 41     | Se cambiará el valor de la columna metros |\n",
    "| 3231    | Está bien | Está bien | Se dejará tal como está |\n",
    "| 5762    | Está bien | Está bien | Se dejará tal como está |\n",
    "| 6979    | Está bien | 75     | Se cambiará el valor de la columna metros |\n",
    "| 7456    | Está bien | Está bien | Se dejará tal como está |\n",
    "| 7750    | Está bien | 83     | Se cambiará el valor de la columna metros |\n",
    "| 8106    | Está bien | Está bien | Se dejará tal como está |\n",
    "| 10181   | Está bien | Está bien | Se dejará tal como está |\n",
    "| 10821   | Está bien | Está bien | Se dejará tal como está |"
   ]
  },
  {
   "cell_type": "markdown",
   "metadata": {},
   "source": [
    "### También vamos a filtrar este caso especial"
   ]
  },
  {
   "cell_type": "code",
   "execution_count": 335,
   "metadata": {},
   "outputs": [
    {
     "data": {
      "text/html": [
       "<div>\n",
       "<style scoped>\n",
       "    .dataframe tbody tr th:only-of-type {\n",
       "        vertical-align: middle;\n",
       "    }\n",
       "\n",
       "    .dataframe tbody tr th {\n",
       "        vertical-align: top;\n",
       "    }\n",
       "\n",
       "    .dataframe thead th {\n",
       "        text-align: right;\n",
       "    }\n",
       "</style>\n",
       "<table border=\"1\" class=\"dataframe\">\n",
       "  <thead>\n",
       "    <tr style=\"text-align: right;\">\n",
       "      <th></th>\n",
       "      <th>PrecioActual</th>\n",
       "      <th>metros</th>\n",
       "      <th>Enlace</th>\n",
       "    </tr>\n",
       "  </thead>\n",
       "  <tbody>\n",
       "    <tr>\n",
       "      <th>6979</th>\n",
       "      <td>192000</td>\n",
       "      <td>75000</td>\n",
       "      <td>https://www.idealista.com/inmueble/107196960/</td>\n",
       "    </tr>\n",
       "    <tr>\n",
       "      <th>7997</th>\n",
       "      <td>1495000</td>\n",
       "      <td>33175</td>\n",
       "      <td>https://www.idealista.com/inmueble/106105382/</td>\n",
       "    </tr>\n",
       "  </tbody>\n",
       "</table>\n",
       "</div>"
      ],
      "text/plain": [
       "      PrecioActual  metros                                         Enlace\n",
       "6979        192000   75000  https://www.idealista.com/inmueble/107196960/\n",
       "7997       1495000   33175  https://www.idealista.com/inmueble/106105382/"
      ]
     },
     "metadata": {},
     "output_type": "display_data"
    }
   ],
   "source": [
    "# Filtrar los pisos con más de 9000 metros cuadrados y menos de 2000000000 en PrecioActual\n",
    "df_filtrado = df[(df['metros'] > 9000) & (df['PrecioActual'] < 2000000000)]\n",
    "\n",
    "# Seleccionar las columnas de interés\n",
    "df_resultado = df_filtrado[['PrecioActual', 'metros', 'Enlace']]\n",
    "\n",
    "# Mostrar el resultado\n",
    "display(df_resultado)"
   ]
  },
  {
   "cell_type": "markdown",
   "metadata": {},
   "source": [
    "### El primero ya lo vimos en las comprobaciones de arriba y el segundo los metros son 332m² no 7997m²"
   ]
  },
  {
   "cell_type": "code",
   "execution_count": 336,
   "metadata": {},
   "outputs": [
    {
     "data": {
      "text/html": [
       "<div>\n",
       "<style scoped>\n",
       "    .dataframe tbody tr th:only-of-type {\n",
       "        vertical-align: middle;\n",
       "    }\n",
       "\n",
       "    .dataframe tbody tr th {\n",
       "        vertical-align: top;\n",
       "    }\n",
       "\n",
       "    .dataframe thead th {\n",
       "        text-align: right;\n",
       "    }\n",
       "</style>\n",
       "<table border=\"1\" class=\"dataframe\">\n",
       "  <thead>\n",
       "    <tr style=\"text-align: right;\">\n",
       "      <th></th>\n",
       "      <th>PrecioActual</th>\n",
       "      <th>zona</th>\n",
       "      <th>metros</th>\n",
       "      <th>habitaciones</th>\n",
       "      <th>ascensor</th>\n",
       "      <th>localizacion</th>\n",
       "      <th>planta</th>\n",
       "      <th>tags</th>\n",
       "      <th>descripcion</th>\n",
       "      <th>Enlace</th>\n",
       "    </tr>\n",
       "  </thead>\n",
       "  <tbody>\n",
       "    <tr>\n",
       "      <th>2714</th>\n",
       "      <td>114500</td>\n",
       "      <td>puente-de-vallecas</td>\n",
       "      <td>41</td>\n",
       "      <td>NaN</td>\n",
       "      <td>NaN</td>\n",
       "      <td>NaN</td>\n",
       "      <td>BAJO</td>\n",
       "      <td>PISO,FUNCIONAL</td>\n",
       "      <td>Funcional piso en Madrid, ideal para parejas. ...</td>\n",
       "      <td>https://www.idealista.com/inmueble/107028561/</td>\n",
       "    </tr>\n",
       "    <tr>\n",
       "      <th>6979</th>\n",
       "      <td>192000</td>\n",
       "      <td>ciudad-lineal</td>\n",
       "      <td>75</td>\n",
       "      <td>3.0</td>\n",
       "      <td>N</td>\n",
       "      <td>EXTERIOR</td>\n",
       "      <td>1ª</td>\n",
       "      <td>VIVIENDA,INMOBILIARIA</td>\n",
       "      <td>VIVIENDA OCUPADASe admiten ofertas***SIN COMIS...</td>\n",
       "      <td>https://www.idealista.com/inmueble/107196960/</td>\n",
       "    </tr>\n",
       "    <tr>\n",
       "      <th>7750</th>\n",
       "      <td>161000</td>\n",
       "      <td>puente-de-vallecas</td>\n",
       "      <td>83</td>\n",
       "      <td>3.0</td>\n",
       "      <td>N</td>\n",
       "      <td>NaN</td>\n",
       "      <td>4ª</td>\n",
       "      <td>VIVIENDA,PISO,LUMINOSO,HOGAR,FUNCIONAL</td>\n",
       "      <td>Presentamos este encantador piso de segunda ma...</td>\n",
       "      <td>https://www.idealista.com/inmueble/101241888/</td>\n",
       "    </tr>\n",
       "    <tr>\n",
       "      <th>7997</th>\n",
       "      <td>1495000</td>\n",
       "      <td>hortaleza</td>\n",
       "      <td>332</td>\n",
       "      <td>7.0</td>\n",
       "      <td>NaN</td>\n",
       "      <td>NaN</td>\n",
       "      <td>NaN</td>\n",
       "      <td>AMPLIO,EXCLUSIVA,OPORTUNIDAD,CHALET,REFORMAR,M...</td>\n",
       "      <td>Este fantástico pareado se encuentra en Piover...</td>\n",
       "      <td>https://www.idealista.com/inmueble/106105382/</td>\n",
       "    </tr>\n",
       "  </tbody>\n",
       "</table>\n",
       "</div>"
      ],
      "text/plain": [
       "      PrecioActual                zona  metros  habitaciones ascensor  \\\n",
       "2714        114500  puente-de-vallecas      41           NaN      NaN   \n",
       "6979        192000       ciudad-lineal      75           3.0        N   \n",
       "7750        161000  puente-de-vallecas      83           3.0        N   \n",
       "7997       1495000           hortaleza     332           7.0      NaN   \n",
       "\n",
       "     localizacion planta                                               tags  \\\n",
       "2714          NaN   BAJO                                     PISO,FUNCIONAL   \n",
       "6979     EXTERIOR     1ª                              VIVIENDA,INMOBILIARIA   \n",
       "7750          NaN     4ª             VIVIENDA,PISO,LUMINOSO,HOGAR,FUNCIONAL   \n",
       "7997          NaN    NaN  AMPLIO,EXCLUSIVA,OPORTUNIDAD,CHALET,REFORMAR,M...   \n",
       "\n",
       "                                            descripcion  \\\n",
       "2714  Funcional piso en Madrid, ideal para parejas. ...   \n",
       "6979  VIVIENDA OCUPADASe admiten ofertas***SIN COMIS...   \n",
       "7750  Presentamos este encantador piso de segunda ma...   \n",
       "7997  Este fantástico pareado se encuentra en Piover...   \n",
       "\n",
       "                                             Enlace  \n",
       "2714  https://www.idealista.com/inmueble/107028561/  \n",
       "6979  https://www.idealista.com/inmueble/107196960/  \n",
       "7750  https://www.idealista.com/inmueble/101241888/  \n",
       "7997  https://www.idealista.com/inmueble/106105382/  "
      ]
     },
     "metadata": {},
     "output_type": "display_data"
    }
   ],
   "source": [
    "# Lista de los índices y las correcciones a hacer según la tabla de comprobaciones\n",
    "correcciones = {\n",
    "    744: None,    # Se dejará tal como está\n",
    "    2714: 41,     # Se cambiará el valor de la columna metros a 41\n",
    "    3231: None,   # Se dejará tal como está\n",
    "    5762: None,   # Se dejará tal como está\n",
    "    6979: 75,     # Se cambiará el valor de la columna metros a 75\n",
    "    7456: None,   # Se dejará tal como está\n",
    "    7750: 83,     # Se cambiará el valor de la columna metros a 83\n",
    "    8106: None,   # Se dejará tal como está\n",
    "    10181: None,  # Se dejará tal como está\n",
    "    10821: None,  # Se dejará tal como está\n",
    "    7997: 332     # Cambiar el valor de la columna metros a 332 (corrigiendo el error de 33175)\n",
    "}\n",
    "\n",
    "# Aplicar las correcciones usando iloc\n",
    "for indice, metros_nuevos in correcciones.items():\n",
    "    if metros_nuevos is not None:\n",
    "        # Actualizamos los metros solo si es necesario\n",
    "        df.iloc[indice, df.columns.get_loc('metros')] = metros_nuevos\n",
    "\n",
    "# Mostrar algunas filas para verificar las modificaciones\n",
    "display(df.iloc[[2714, 6979, 7750, 7997]])  # Verifica las filas modificadas"
   ]
  },
  {
   "cell_type": "markdown",
   "metadata": {},
   "source": [
    "## *Columna habitaciones*"
   ]
  },
  {
   "cell_type": "markdown",
   "metadata": {},
   "source": [
    "### comprobamos los nulos o si está rellenado con 0 habitaciones"
   ]
  },
  {
   "cell_type": "code",
   "execution_count": 337,
   "metadata": {},
   "outputs": [
    {
     "name": "stdout",
     "output_type": "stream",
     "text": [
      "Columna: habitaciones  -  Tipo de datos: float64\n",
      "Número de valores nulos: 366  -  Número de valores distintos: 17\n",
      "Valores más frecuentes:\n",
      "3.0 : 3768 veces\n",
      "2.0 : 3383 veces\n",
      "1.0 : 1624 veces\n",
      "4.0 : 1490 veces\n",
      "5.0 : 690 veces\n",
      "6.0 : 291 veces\n",
      "7.0 : 102 veces\n",
      "8.0 : 48 veces\n",
      "9.0 : 26 veces\n",
      "10.0 : 15 veces\n",
      "con el campo habitaciones = 0 --> 0\n"
     ]
    }
   ],
   "source": [
    "describe_columna(df, \"habitaciones\")\n",
    "\n",
    "habitaciones0 = (df[\"habitaciones\"] == 0).sum()\n",
    "print(\"con el campo habitaciones = 0 -->\",habitaciones0)\n"
   ]
  },
  {
   "cell_type": "markdown",
   "metadata": {},
   "source": [
    "### Tambien vamos a comprobar si hay muchas habitaciones en una vivienda, por si está mal este campo enfrentandola a un precio menor a 700000"
   ]
  },
  {
   "cell_type": "code",
   "execution_count": 338,
   "metadata": {},
   "outputs": [
    {
     "data": {
      "text/html": [
       "<div>\n",
       "<style scoped>\n",
       "    .dataframe tbody tr th:only-of-type {\n",
       "        vertical-align: middle;\n",
       "    }\n",
       "\n",
       "    .dataframe tbody tr th {\n",
       "        vertical-align: top;\n",
       "    }\n",
       "\n",
       "    .dataframe thead th {\n",
       "        text-align: right;\n",
       "    }\n",
       "</style>\n",
       "<table border=\"1\" class=\"dataframe\">\n",
       "  <thead>\n",
       "    <tr style=\"text-align: right;\">\n",
       "      <th></th>\n",
       "      <th>PrecioActual</th>\n",
       "      <th>zona</th>\n",
       "      <th>metros</th>\n",
       "      <th>habitaciones</th>\n",
       "      <th>ascensor</th>\n",
       "      <th>localizacion</th>\n",
       "      <th>planta</th>\n",
       "      <th>tags</th>\n",
       "      <th>descripcion</th>\n",
       "      <th>Enlace</th>\n",
       "    </tr>\n",
       "  </thead>\n",
       "  <tbody>\n",
       "    <tr>\n",
       "      <th>40</th>\n",
       "      <td>128000</td>\n",
       "      <td>san-blas</td>\n",
       "      <td>59</td>\n",
       "      <td>20.0</td>\n",
       "      <td>N</td>\n",
       "      <td>EXTERIOR</td>\n",
       "      <td>BAJO</td>\n",
       "      <td>VIVIENDA,FINCA</td>\n",
       "      <td>Especial Inversores. Se vende ALQUILADO A TERC...</td>\n",
       "      <td>https://www.idealista.com/inmueble/106562409/</td>\n",
       "    </tr>\n",
       "    <tr>\n",
       "      <th>4471</th>\n",
       "      <td>650000</td>\n",
       "      <td>centro</td>\n",
       "      <td>181</td>\n",
       "      <td>7.0</td>\n",
       "      <td>S</td>\n",
       "      <td>EXTERIOR</td>\n",
       "      <td>2ª</td>\n",
       "      <td>ÁTICO,OPORTUNIDAD</td>\n",
       "      <td>*OPORTUNIDAD PARA INVERSORES EN EL CORAZÓN DE ...</td>\n",
       "      <td>https://www.idealista.com/inmueble/107092719/</td>\n",
       "    </tr>\n",
       "    <tr>\n",
       "      <th>5926</th>\n",
       "      <td>450000</td>\n",
       "      <td>chamberi</td>\n",
       "      <td>111</td>\n",
       "      <td>9.0</td>\n",
       "      <td>S</td>\n",
       "      <td>INTERIOR</td>\n",
       "      <td>BAJO</td>\n",
       "      <td>VIVIENDA,EXCLUSIVA,OPORTUNIDAD</td>\n",
       "      <td>¡ATENCIÓN INVERSORES, OPORTUNIDAD ÚNICA!Se tra...</td>\n",
       "      <td>https://www.idealista.com/inmueble/106936358/</td>\n",
       "    </tr>\n",
       "    <tr>\n",
       "      <th>6187</th>\n",
       "      <td>429000</td>\n",
       "      <td>barajas</td>\n",
       "      <td>135</td>\n",
       "      <td>8.0</td>\n",
       "      <td>NaN</td>\n",
       "      <td>NaN</td>\n",
       "      <td>NaN</td>\n",
       "      <td>CASA</td>\n",
       "      <td>VOhome propiedades Barajas vende casa en el Ca...</td>\n",
       "      <td>https://www.idealista.com/inmueble/105171402/</td>\n",
       "    </tr>\n",
       "    <tr>\n",
       "      <th>6579</th>\n",
       "      <td>490000</td>\n",
       "      <td>usera</td>\n",
       "      <td>150</td>\n",
       "      <td>9.0</td>\n",
       "      <td>N</td>\n",
       "      <td>EXTERIOR</td>\n",
       "      <td>4ª</td>\n",
       "      <td>DÚPLEX,FUNCIONAL</td>\n",
       "      <td>¡Descubre este increíble dúplex en venta que r...</td>\n",
       "      <td>https://www.idealista.com/inmueble/107153509/</td>\n",
       "    </tr>\n",
       "    <tr>\n",
       "      <th>7661</th>\n",
       "      <td>293000</td>\n",
       "      <td>puente-de-vallecas</td>\n",
       "      <td>124</td>\n",
       "      <td>7.0</td>\n",
       "      <td>N</td>\n",
       "      <td>EXTERIOR</td>\n",
       "      <td>BAJO</td>\n",
       "      <td>DÚPLEX,AMUEBLADA,ELECTRODOMÉSTICOS</td>\n",
       "      <td>NO COBRAMOS AL COMPRADORDúplex en rentabilidad...</td>\n",
       "      <td>https://www.idealista.com/inmueble/106505862/</td>\n",
       "    </tr>\n",
       "    <tr>\n",
       "      <th>11805</th>\n",
       "      <td>650000</td>\n",
       "      <td>centro</td>\n",
       "      <td>134</td>\n",
       "      <td>7.0</td>\n",
       "      <td>N</td>\n",
       "      <td>EXTERIOR</td>\n",
       "      <td>1ª</td>\n",
       "      <td>PISO,BALCONES,INTERIOR</td>\n",
       "      <td>Se vende sin comisión de agencia piso amueblad...</td>\n",
       "      <td>https://www.idealista.com/inmueble/106907623/</td>\n",
       "    </tr>\n",
       "  </tbody>\n",
       "</table>\n",
       "</div>"
      ],
      "text/plain": [
       "       PrecioActual                zona  metros  habitaciones ascensor  \\\n",
       "40           128000            san-blas      59          20.0        N   \n",
       "4471         650000              centro     181           7.0        S   \n",
       "5926         450000            chamberi     111           9.0        S   \n",
       "6187         429000             barajas     135           8.0      NaN   \n",
       "6579         490000               usera     150           9.0        N   \n",
       "7661         293000  puente-de-vallecas     124           7.0        N   \n",
       "11805        650000              centro     134           7.0        N   \n",
       "\n",
       "      localizacion planta                                tags  \\\n",
       "40        EXTERIOR   BAJO                      VIVIENDA,FINCA   \n",
       "4471      EXTERIOR     2ª                   ÁTICO,OPORTUNIDAD   \n",
       "5926      INTERIOR   BAJO      VIVIENDA,EXCLUSIVA,OPORTUNIDAD   \n",
       "6187           NaN    NaN                                CASA   \n",
       "6579      EXTERIOR     4ª                    DÚPLEX,FUNCIONAL   \n",
       "7661      EXTERIOR   BAJO  DÚPLEX,AMUEBLADA,ELECTRODOMÉSTICOS   \n",
       "11805     EXTERIOR     1ª              PISO,BALCONES,INTERIOR   \n",
       "\n",
       "                                             descripcion  \\\n",
       "40     Especial Inversores. Se vende ALQUILADO A TERC...   \n",
       "4471   *OPORTUNIDAD PARA INVERSORES EN EL CORAZÓN DE ...   \n",
       "5926   ¡ATENCIÓN INVERSORES, OPORTUNIDAD ÚNICA!Se tra...   \n",
       "6187   VOhome propiedades Barajas vende casa en el Ca...   \n",
       "6579   ¡Descubre este increíble dúplex en venta que r...   \n",
       "7661   NO COBRAMOS AL COMPRADORDúplex en rentabilidad...   \n",
       "11805  Se vende sin comisión de agencia piso amueblad...   \n",
       "\n",
       "                                              Enlace  \n",
       "40     https://www.idealista.com/inmueble/106562409/  \n",
       "4471   https://www.idealista.com/inmueble/107092719/  \n",
       "5926   https://www.idealista.com/inmueble/106936358/  \n",
       "6187   https://www.idealista.com/inmueble/105171402/  \n",
       "6579   https://www.idealista.com/inmueble/107153509/  \n",
       "7661   https://www.idealista.com/inmueble/106505862/  \n",
       "11805  https://www.idealista.com/inmueble/106907623/  "
      ]
     },
     "metadata": {},
     "output_type": "display_data"
    }
   ],
   "source": [
    "habitacionesraras = df[(df['habitaciones'] >= 7) & (df['PrecioActual'] < 700000)]\n",
    "display(habitacionesraras)"
   ]
  },
  {
   "cell_type": "markdown",
   "metadata": {},
   "source": [
    "## *Columna planta*\n",
    "### Hacemos el describe para ver la información y pensar que hacer"
   ]
  },
  {
   "cell_type": "code",
   "execution_count": 339,
   "metadata": {},
   "outputs": [
    {
     "name": "stdout",
     "output_type": "stream",
     "text": [
      "Columna: planta  -  Tipo de datos: object\n",
      "Número de valores nulos: 1225  -  Número de valores distintos: 27\n",
      "Valores más frecuentes:\n",
      "1ª : 2108 veces\n",
      "2ª : 1779 veces\n",
      "3ª : 1570 veces\n",
      "BAJO : 1509 veces\n",
      "4ª : 1266 veces\n",
      "5ª : 816 veces\n",
      "6ª : 574 veces\n",
      "7ª : 289 veces\n",
      "ENTREPLANTA : 163 veces\n",
      "SÓTANO : 128 veces\n"
     ]
    }
   ],
   "source": [
    "describe_columna(df, \"planta\")"
   ]
  },
  {
   "cell_type": "markdown",
   "metadata": {},
   "source": [
    "### Las conclusiones son al final borrar estos registros porque si le incluyo a estos nulos una categoria como \"Desconocido\" creo que puede influenciar en el calculo del modelo porque parece que va a estar muy ligada al precio de esta columna, y no podemos tener una columna como \"Desconocido\" que tenga mas valores que muchas otras categorías (1ª, 2ª, 3ª Entreplanta y sótano)"
   ]
  },
  {
   "cell_type": "code",
   "execution_count": 340,
   "metadata": {},
   "outputs": [],
   "source": [
    "df.dropna(subset=['planta'], inplace=True)"
   ]
  },
  {
   "cell_type": "markdown",
   "metadata": {},
   "source": [
    "## *Columna ascensor*\n",
    "### Hacemos el describe para ver la información y pensar que hacer"
   ]
  },
  {
   "cell_type": "code",
   "execution_count": 341,
   "metadata": {},
   "outputs": [
    {
     "name": "stdout",
     "output_type": "stream",
     "text": [
      "Columna: ascensor  -  Tipo de datos: object\n",
      "Número de valores nulos: 55  -  Número de valores distintos: 2\n",
      "Valores más frecuentes:\n",
      "S : 8163 veces\n",
      "N : 2383 veces\n"
     ]
    }
   ],
   "source": [
    "describe_columna(df, \"ascensor\")"
   ]
  },
  {
   "cell_type": "markdown",
   "metadata": {},
   "source": [
    "### Para no borrar esos 55 datos nulos, podemos rellenar con lo que tenemos claro por la ley 010 que dice que a partir de cinco pisos es obligatorio instalar al menos un ascensor en el edificio y los demás casos estudiarlos"
   ]
  },
  {
   "cell_type": "code",
   "execution_count": 349,
   "metadata": {},
   "outputs": [
    {
     "name": "stdout",
     "output_type": "stream",
     "text": [
      "Nulos en 'ascensor' con planta >= 5ª (obligatorio): 21\n",
      "Nulos en 'ascensor' con planta <= 4ª (opcional): 34\n"
     ]
    }
   ],
   "source": [
    "# Filtrar los registros con valores nulos en la columna 'ascensor'\n",
    "nulos_ascensor = df[df['ascensor'].isna()]\n",
    "\n",
    "# Contar los nulos en la columna 'ascensor' donde 'planta' es menor o igual a 4ª (opcional)\n",
    "nulos_bajo_5 = nulos_ascensor[nulos_ascensor['planta'] <= '4ª'].shape[0]\n",
    "\n",
    "# Contar los nulos en la columna 'ascensor' donde 'planta' es mayor o igual a 5ª (obligatorio tener ascensor)\n",
    "nulos_arriba_5 = nulos_ascensor[nulos_ascensor['planta'] >= '5ª'].shape[0]\n",
    "\n",
    "# Mostrar los resultados\n",
    "print(f\"Nulos en 'ascensor' con planta >= 5ª (obligatorio): {nulos_arriba_5}\")\n",
    "print(f\"Nulos en 'ascensor' con planta <= 4ª (opcional): {nulos_bajo_5}\")"
   ]
  },
  {
   "cell_type": "markdown",
   "metadata": {},
   "source": [
    "### A esos 21 se las va añadir que si tienen ascensor \"S\" y a los 34 restantes los vamos a estudiar a continuación:"
   ]
  },
  {
   "cell_type": "code",
   "execution_count": 355,
   "metadata": {},
   "outputs": [
    {
     "data": {
      "text/html": [
       "<div>\n",
       "<style scoped>\n",
       "    .dataframe tbody tr th:only-of-type {\n",
       "        vertical-align: middle;\n",
       "    }\n",
       "\n",
       "    .dataframe tbody tr th {\n",
       "        vertical-align: top;\n",
       "    }\n",
       "\n",
       "    .dataframe thead th {\n",
       "        text-align: right;\n",
       "    }\n",
       "</style>\n",
       "<table border=\"1\" class=\"dataframe\">\n",
       "  <thead>\n",
       "    <tr style=\"text-align: right;\">\n",
       "      <th></th>\n",
       "      <th>planta</th>\n",
       "      <th>metros</th>\n",
       "      <th>PrecioActual</th>\n",
       "      <th>Enlace</th>\n",
       "    </tr>\n",
       "  </thead>\n",
       "  <tbody>\n",
       "    <tr>\n",
       "      <th>214</th>\n",
       "      <td>4ª</td>\n",
       "      <td>85</td>\n",
       "      <td>660000</td>\n",
       "      <td>https://www.idealista.com/inmueble/107148027/</td>\n",
       "    </tr>\n",
       "    <tr>\n",
       "      <th>1952</th>\n",
       "      <td>3ª</td>\n",
       "      <td>75</td>\n",
       "      <td>227900</td>\n",
       "      <td>https://www.idealista.com/inmueble/106852894/</td>\n",
       "    </tr>\n",
       "    <tr>\n",
       "      <th>2538</th>\n",
       "      <td>1ª</td>\n",
       "      <td>45</td>\n",
       "      <td>105000</td>\n",
       "      <td>https://www.idealista.com/inmueble/106799375/</td>\n",
       "    </tr>\n",
       "    <tr>\n",
       "      <th>2623</th>\n",
       "      <td>3ª</td>\n",
       "      <td>62</td>\n",
       "      <td>88300</td>\n",
       "      <td>https://www.idealista.com/inmueble/107283433/</td>\n",
       "    </tr>\n",
       "    <tr>\n",
       "      <th>3046</th>\n",
       "      <td>3ª</td>\n",
       "      <td>59</td>\n",
       "      <td>118000</td>\n",
       "      <td>https://www.idealista.com/inmueble/104757229/</td>\n",
       "    </tr>\n",
       "    <tr>\n",
       "      <th>3103</th>\n",
       "      <td>4ª</td>\n",
       "      <td>101</td>\n",
       "      <td>789000</td>\n",
       "      <td>https://www.idealista.com/inmueble/107298617/</td>\n",
       "    </tr>\n",
       "    <tr>\n",
       "      <th>3109</th>\n",
       "      <td>4ª</td>\n",
       "      <td>49</td>\n",
       "      <td>105765</td>\n",
       "      <td>https://www.idealista.com/inmueble/107281691/</td>\n",
       "    </tr>\n",
       "    <tr>\n",
       "      <th>4151</th>\n",
       "      <td>1ª</td>\n",
       "      <td>60</td>\n",
       "      <td>159000</td>\n",
       "      <td>https://www.idealista.com/inmueble/106357906/</td>\n",
       "    </tr>\n",
       "    <tr>\n",
       "      <th>4294</th>\n",
       "      <td>4ª</td>\n",
       "      <td>100</td>\n",
       "      <td>240000</td>\n",
       "      <td>https://www.idealista.com/inmueble/107165675/</td>\n",
       "    </tr>\n",
       "    <tr>\n",
       "      <th>4721</th>\n",
       "      <td>2ª</td>\n",
       "      <td>58</td>\n",
       "      <td>118000</td>\n",
       "      <td>https://www.idealista.com/inmueble/102563128/</td>\n",
       "    </tr>\n",
       "    <tr>\n",
       "      <th>4897</th>\n",
       "      <td>1ª</td>\n",
       "      <td>15</td>\n",
       "      <td>108000</td>\n",
       "      <td>https://www.idealista.com/inmueble/107304721/</td>\n",
       "    </tr>\n",
       "    <tr>\n",
       "      <th>5788</th>\n",
       "      <td>1ª</td>\n",
       "      <td>84</td>\n",
       "      <td>162500</td>\n",
       "      <td>https://www.idealista.com/inmueble/102100045/</td>\n",
       "    </tr>\n",
       "    <tr>\n",
       "      <th>5860</th>\n",
       "      <td>2ª</td>\n",
       "      <td>93</td>\n",
       "      <td>460000</td>\n",
       "      <td>https://www.idealista.com/inmueble/106085261/</td>\n",
       "    </tr>\n",
       "    <tr>\n",
       "      <th>6213</th>\n",
       "      <td>4ª</td>\n",
       "      <td>46</td>\n",
       "      <td>118450</td>\n",
       "      <td>https://www.idealista.com/inmueble/105242978/</td>\n",
       "    </tr>\n",
       "    <tr>\n",
       "      <th>6455</th>\n",
       "      <td>1ª</td>\n",
       "      <td>70</td>\n",
       "      <td>146000</td>\n",
       "      <td>https://www.idealista.com/inmueble/98669260/</td>\n",
       "    </tr>\n",
       "    <tr>\n",
       "      <th>7070</th>\n",
       "      <td>1ª</td>\n",
       "      <td>57</td>\n",
       "      <td>168800</td>\n",
       "      <td>https://www.idealista.com/inmueble/102563637/</td>\n",
       "    </tr>\n",
       "    <tr>\n",
       "      <th>7747</th>\n",
       "      <td>4ª</td>\n",
       "      <td>85</td>\n",
       "      <td>269500</td>\n",
       "      <td>https://www.idealista.com/inmueble/107174380/</td>\n",
       "    </tr>\n",
       "    <tr>\n",
       "      <th>7902</th>\n",
       "      <td>1ª</td>\n",
       "      <td>15</td>\n",
       "      <td>108000</td>\n",
       "      <td>https://www.idealista.com/inmueble/107013373/</td>\n",
       "    </tr>\n",
       "    <tr>\n",
       "      <th>8034</th>\n",
       "      <td>1ª</td>\n",
       "      <td>51</td>\n",
       "      <td>86000</td>\n",
       "      <td>https://www.idealista.com/inmueble/106542454/</td>\n",
       "    </tr>\n",
       "    <tr>\n",
       "      <th>8536</th>\n",
       "      <td>3ª</td>\n",
       "      <td>71</td>\n",
       "      <td>112000</td>\n",
       "      <td>https://www.idealista.com/inmueble/102843467/</td>\n",
       "    </tr>\n",
       "    <tr>\n",
       "      <th>8678</th>\n",
       "      <td>2ª</td>\n",
       "      <td>55</td>\n",
       "      <td>135000</td>\n",
       "      <td>https://www.idealista.com/inmueble/107079519/</td>\n",
       "    </tr>\n",
       "    <tr>\n",
       "      <th>8695</th>\n",
       "      <td>1ª</td>\n",
       "      <td>100</td>\n",
       "      <td>350000</td>\n",
       "      <td>https://www.idealista.com/inmueble/107293960/</td>\n",
       "    </tr>\n",
       "    <tr>\n",
       "      <th>8832</th>\n",
       "      <td>2ª</td>\n",
       "      <td>63</td>\n",
       "      <td>127000</td>\n",
       "      <td>https://www.idealista.com/inmueble/102290932/</td>\n",
       "    </tr>\n",
       "    <tr>\n",
       "      <th>8876</th>\n",
       "      <td>2ª</td>\n",
       "      <td>57</td>\n",
       "      <td>117000</td>\n",
       "      <td>https://www.idealista.com/inmueble/102563614/</td>\n",
       "    </tr>\n",
       "    <tr>\n",
       "      <th>8988</th>\n",
       "      <td>3ª</td>\n",
       "      <td>116</td>\n",
       "      <td>194400</td>\n",
       "      <td>https://www.idealista.com/inmueble/107119607/</td>\n",
       "    </tr>\n",
       "    <tr>\n",
       "      <th>9494</th>\n",
       "      <td>1ª</td>\n",
       "      <td>89</td>\n",
       "      <td>235400</td>\n",
       "      <td>https://www.idealista.com/inmueble/102562732/</td>\n",
       "    </tr>\n",
       "    <tr>\n",
       "      <th>9590</th>\n",
       "      <td>2ª</td>\n",
       "      <td>77</td>\n",
       "      <td>150000</td>\n",
       "      <td>https://www.idealista.com/inmueble/102563432/</td>\n",
       "    </tr>\n",
       "    <tr>\n",
       "      <th>10378</th>\n",
       "      <td>4ª</td>\n",
       "      <td>66</td>\n",
       "      <td>198000</td>\n",
       "      <td>https://www.idealista.com/inmueble/107282601/</td>\n",
       "    </tr>\n",
       "    <tr>\n",
       "      <th>10576</th>\n",
       "      <td>4ª</td>\n",
       "      <td>73</td>\n",
       "      <td>269500</td>\n",
       "      <td>https://www.idealista.com/inmueble/99590683/</td>\n",
       "    </tr>\n",
       "    <tr>\n",
       "      <th>10678</th>\n",
       "      <td>4ª</td>\n",
       "      <td>52</td>\n",
       "      <td>216500</td>\n",
       "      <td>https://www.idealista.com/inmueble/102821485/</td>\n",
       "    </tr>\n",
       "    <tr>\n",
       "      <th>10968</th>\n",
       "      <td>2ª</td>\n",
       "      <td>125</td>\n",
       "      <td>322000</td>\n",
       "      <td>https://www.idealista.com/inmueble/107244414/</td>\n",
       "    </tr>\n",
       "    <tr>\n",
       "      <th>11372</th>\n",
       "      <td>4ª</td>\n",
       "      <td>74</td>\n",
       "      <td>192000</td>\n",
       "      <td>https://www.idealista.com/inmueble/104982170/</td>\n",
       "    </tr>\n",
       "    <tr>\n",
       "      <th>11624</th>\n",
       "      <td>1ª</td>\n",
       "      <td>75</td>\n",
       "      <td>192000</td>\n",
       "      <td>https://www.idealista.com/inmueble/107174165/</td>\n",
       "    </tr>\n",
       "    <tr>\n",
       "      <th>11683</th>\n",
       "      <td>4ª</td>\n",
       "      <td>57</td>\n",
       "      <td>149500</td>\n",
       "      <td>https://www.idealista.com/inmueble/106355070/</td>\n",
       "    </tr>\n",
       "  </tbody>\n",
       "</table>\n",
       "</div>"
      ],
      "text/plain": [
       "      planta  metros  PrecioActual  \\\n",
       "214       4ª      85        660000   \n",
       "1952      3ª      75        227900   \n",
       "2538      1ª      45        105000   \n",
       "2623      3ª      62         88300   \n",
       "3046      3ª      59        118000   \n",
       "3103      4ª     101        789000   \n",
       "3109      4ª      49        105765   \n",
       "4151      1ª      60        159000   \n",
       "4294      4ª     100        240000   \n",
       "4721      2ª      58        118000   \n",
       "4897      1ª      15        108000   \n",
       "5788      1ª      84        162500   \n",
       "5860      2ª      93        460000   \n",
       "6213      4ª      46        118450   \n",
       "6455      1ª      70        146000   \n",
       "7070      1ª      57        168800   \n",
       "7747      4ª      85        269500   \n",
       "7902      1ª      15        108000   \n",
       "8034      1ª      51         86000   \n",
       "8536      3ª      71        112000   \n",
       "8678      2ª      55        135000   \n",
       "8695      1ª     100        350000   \n",
       "8832      2ª      63        127000   \n",
       "8876      2ª      57        117000   \n",
       "8988      3ª     116        194400   \n",
       "9494      1ª      89        235400   \n",
       "9590      2ª      77        150000   \n",
       "10378     4ª      66        198000   \n",
       "10576     4ª      73        269500   \n",
       "10678     4ª      52        216500   \n",
       "10968     2ª     125        322000   \n",
       "11372     4ª      74        192000   \n",
       "11624     1ª      75        192000   \n",
       "11683     4ª      57        149500   \n",
       "\n",
       "                                              Enlace  \n",
       "214    https://www.idealista.com/inmueble/107148027/  \n",
       "1952   https://www.idealista.com/inmueble/106852894/  \n",
       "2538   https://www.idealista.com/inmueble/106799375/  \n",
       "2623   https://www.idealista.com/inmueble/107283433/  \n",
       "3046   https://www.idealista.com/inmueble/104757229/  \n",
       "3103   https://www.idealista.com/inmueble/107298617/  \n",
       "3109   https://www.idealista.com/inmueble/107281691/  \n",
       "4151   https://www.idealista.com/inmueble/106357906/  \n",
       "4294   https://www.idealista.com/inmueble/107165675/  \n",
       "4721   https://www.idealista.com/inmueble/102563128/  \n",
       "4897   https://www.idealista.com/inmueble/107304721/  \n",
       "5788   https://www.idealista.com/inmueble/102100045/  \n",
       "5860   https://www.idealista.com/inmueble/106085261/  \n",
       "6213   https://www.idealista.com/inmueble/105242978/  \n",
       "6455    https://www.idealista.com/inmueble/98669260/  \n",
       "7070   https://www.idealista.com/inmueble/102563637/  \n",
       "7747   https://www.idealista.com/inmueble/107174380/  \n",
       "7902   https://www.idealista.com/inmueble/107013373/  \n",
       "8034   https://www.idealista.com/inmueble/106542454/  \n",
       "8536   https://www.idealista.com/inmueble/102843467/  \n",
       "8678   https://www.idealista.com/inmueble/107079519/  \n",
       "8695   https://www.idealista.com/inmueble/107293960/  \n",
       "8832   https://www.idealista.com/inmueble/102290932/  \n",
       "8876   https://www.idealista.com/inmueble/102563614/  \n",
       "8988   https://www.idealista.com/inmueble/107119607/  \n",
       "9494   https://www.idealista.com/inmueble/102562732/  \n",
       "9590   https://www.idealista.com/inmueble/102563432/  \n",
       "10378  https://www.idealista.com/inmueble/107282601/  \n",
       "10576   https://www.idealista.com/inmueble/99590683/  \n",
       "10678  https://www.idealista.com/inmueble/102821485/  \n",
       "10968  https://www.idealista.com/inmueble/107244414/  \n",
       "11372  https://www.idealista.com/inmueble/104982170/  \n",
       "11624  https://www.idealista.com/inmueble/107174165/  \n",
       "11683  https://www.idealista.com/inmueble/106355070/  "
      ]
     },
     "metadata": {},
     "output_type": "display_data"
    },
    {
     "data": {
      "text/plain": [
       "10546"
      ]
     },
     "execution_count": 355,
     "metadata": {},
     "output_type": "execute_result"
    }
   ],
   "source": [
    "# Filtrar los registros con valores nulos en la columna 'ascensor' y planta <= 4ª\n",
    "nulos_bajo_5 = nulos_ascensor[nulos_ascensor['planta'] <= '4ª']\n",
    "\n",
    "# Mostrar las columnas planta, metros y PrecioActual de los registros con nulos en 'ascensor' y planta <= 4ª\n",
    "display(nulos_bajo_5[['planta', 'metros', 'PrecioActual', \"Enlace\"]])\n",
    "\n",
    "df[\"ascensor\"].count()"
   ]
  },
  {
   "cell_type": "markdown",
   "metadata": {},
   "source": [
    "## *Columna localizacion*\n",
    "### Hacemos el describe para ver la información y pensar que hacer"
   ]
  },
  {
   "cell_type": "code",
   "execution_count": 342,
   "metadata": {},
   "outputs": [
    {
     "name": "stdout",
     "output_type": "stream",
     "text": [
      "Columna: localizacion  -  Tipo de datos: object\n",
      "Número de valores nulos: 170  -  Número de valores distintos: 2\n",
      "Valores más frecuentes:\n",
      "EXTERIOR : 8826 veces\n",
      "INTERIOR : 1605 veces\n"
     ]
    }
   ],
   "source": [
    "describe_columna(df, \"localizacion\")"
   ]
  },
  {
   "cell_type": "markdown",
   "metadata": {},
   "source": [
    "## *Columna tags*\n",
    "### Hacemos el describe para ver la información y pensar que hacer"
   ]
  },
  {
   "cell_type": "code",
   "execution_count": 343,
   "metadata": {},
   "outputs": [
    {
     "name": "stdout",
     "output_type": "stream",
     "text": [
      "Columna: tags  -  Tipo de datos: object\n",
      "Número de valores nulos: 141  -  Número de valores distintos: 7574\n",
      "Valores más frecuentes:\n",
      "PISO : 103 veces\n",
      "PISO,OPORTUNIDAD : 102 veces\n",
      "VIVIENDA : 100 veces\n",
      "VIVIENDA,PISO : 81 veces\n",
      "OPORTUNIDAD : 64 veces\n",
      "VIVIENDA,PISO,OPORTUNIDAD : 36 veces\n",
      "VIVIENDA,OPORTUNIDAD : 34 veces\n",
      "PISO,METRO : 33 veces\n",
      "VIVIENDA,PISO,EXTERIOR : 27 veces\n",
      "VIVIENDA,METRO : 27 veces\n"
     ]
    }
   ],
   "source": [
    "describe_columna(df, \"tags\")"
   ]
  },
  {
   "cell_type": "markdown",
   "metadata": {},
   "source": [
    "## *Columna descripcion*\n",
    "### Hacemos el describe para ver la información y pensar que hacer"
   ]
  },
  {
   "cell_type": "code",
   "execution_count": 344,
   "metadata": {},
   "outputs": [
    {
     "name": "stdout",
     "output_type": "stream",
     "text": [
      "Columna: descripcion  -  Tipo de datos: object\n",
      "Número de valores nulos: 56  -  Número de valores distintos: 9822\n",
      "Valores más frecuentes:\n",
      "OBRA NUEVA DE VIVIENDAS TURÍSTICAS DE LUJO E INTELIGENTES EN VALDEMARIN.48 VIVIENDAS de 1 DORMITORIO, CON LAS MAXIMAS CALIDADES, amplias terrazas y zonas verdes, así como piscinas privadas en plantas altas y bajas.URBANIZACION CON MULTITUD DE SERVICIOS:•Jardín y piscina colectiva.•Piscina Infinity climatizada d : 16 veces\n",
      "OPORTUNIDAD INMUEBLE SIN POSESIÓN, NO SE PUEDE VISITAR, PROPIO PARA INVERSORES O VECINOS QUE CONOZCAN EL INMUEBLE.Disponemos de una amplia cartera de inmuebles sin posesión en Madrid y en toda España, PROPIO PEQUEÑO Y GRAN INVERSOR.Madrid es un municipio y una ciudad de España.La localidad, con categoría histórica : 15 veces\n",
      "Hemos creado un concepto muy exclusivo con interiores abiertos y cálidos con los que se pretende conseguir confort y calidad de vida para aquellos que puedan disfrutarlo.Este singular proyecto se encuentra ubicado en el corazón de Madrid.Las exclusivas viviendas de 2 a 4 habitaciones permiten que se entienda el luj : 13 veces\n",
      "40% YA RESERVADO Y LICENCIA DE OBRA CONCEDIDA¡Nueva oportunidad de viviendas sostenibles en Villaverde desde 175.500 €!El edificio Talco cuenta con viviendas de 1, 2 y 3 dormitorios y 600 m2 de espacios comunes: terraza en azotea, huerto urbano, dos locales multiusos y lavandería, entre otros.Un edificio con cer : 12 veces\n",
      "Piso exterior reformado a medida. Consta de dos habitaciones, baño y cocina.En nuestras reformas se cambian todas las instalaciones y tabiquerías interiores, incidiendo en la eficiencia energética y el aprovechamiento del espacio. La instalación eléctrica se compone de cuadro elevado y cambio de acometida para que es : 12 veces\n",
      "Evergreen es un proyecto de 19 viviendas conectados con el exterior, con la naturaleza, con vistas panorámicas del entorno y a poca distancia del centro de Madrid.Evergreen, ubicado en la calle Doctor Guiu 57 junto a la Avenida del cardenal Herrera Oria. Es un edificio moderno, que ocupa un emplazamiento excepcional : 11 veces\n",
      "Nueva oportunidad de conseguir una vivienda a un precio asequible en Madrid, Los Cerros.Te presentamos Residencial Zaniah, un proyecto de 178 Vivienda Protegida de Precio Básico. Viviendas de 2 y 3 dormitorios con unas estupendas zonas comunes.UbicaciónLos Cerros es uno de los cinco barrios que componen los nuevos : 10 veces\n",
      "Oportunidad de inversión: inmueble sin posesión.Imposibilidad de visita interior, no se puede financiar la compra de este inmueble.Advertimos que la información contenida puede no estar actualizada, solicita más información sobre el activo sin compromiso.Investment opportunity: housing without possession.Imposs : 10 veces\n",
      "JULIÁN CAMARILLO PASSIVHAUS (PERALEDA URBAN, S. COOP. -Fase Rufino González)Fututo residencial formado por 50 viviendas de 1 y 2 dormitorioscon plaza de garaje y trastero incluido en el coste.Dispondrá de amplias zonas comunes: piscina, jardines, zona de juegos infantiles, sala comunitaria y conserjería.La urban : 10 veces\n",
      "16 estudios, áticos con terrazas, piscina, zona chill out, gimnasio y Sala Gastro.Con un diseño elegante y vanguardista, las viviendas de Alcotán Zabala poseen además unos interiores funcionales, luminosos, personalizables y con acabados de alta calidad.En Ciudad Jardín, en pleno Barrio de Chamartín, a escasos metr : 9 veces\n"
     ]
    }
   ],
   "source": [
    "describe_columna(df, \"descripcion\")"
   ]
  }
 ],
 "metadata": {
  "kernelspec": {
   "display_name": "base",
   "language": "python",
   "name": "python3"
  },
  "language_info": {
   "codemirror_mode": {
    "name": "ipython",
    "version": 3
   },
   "file_extension": ".py",
   "mimetype": "text/x-python",
   "name": "python",
   "nbconvert_exporter": "python",
   "pygments_lexer": "ipython3",
   "version": "3.12.4"
  }
 },
 "nbformat": 4,
 "nbformat_minor": 2
}
