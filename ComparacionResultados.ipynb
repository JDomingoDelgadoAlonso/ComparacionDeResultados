{
 "cells": [
  {
   "cell_type": "markdown",
   "metadata": {},
   "source": [
    "### Imports Necesarios"
   ]
  },
  {
   "cell_type": "code",
   "execution_count": 387,
   "metadata": {},
   "outputs": [],
   "source": [
    "#!pip install kagglehub\n",
    "#!pip install matplotlib\n",
    "#!pip install seaborn\n",
    "import kagglehub\n",
    "from kagglehub import KaggleDatasetAdapter\n",
    "import matplotlib.pyplot as plt\n",
    "import seaborn as sns\n",
    "from collections import Counter\n",
    "import pandas as pd"
   ]
  },
  {
   "cell_type": "markdown",
   "metadata": {},
   "source": [
    "### Importamos el Dataset y lo pasamos a Dataframe"
   ]
  },
  {
   "cell_type": "code",
   "execution_count": 388,
   "metadata": {},
   "outputs": [
    {
     "name": "stderr",
     "output_type": "stream",
     "text": [
      "C:\\Users\\domid\\AppData\\Local\\Temp\\ipykernel_14236\\472550485.py:7: DeprecationWarning: load_dataset is deprecated and will be removed in future version.\n",
      "  df = kagglehub.load_dataset(\n"
     ]
    }
   ],
   "source": [
    "# Install dependencies as needed:\n",
    "#!pip install kagglehub[pandas-datasets]\n",
    "# Set the path to the file you'd like to load\n",
    "file_path = \"Datos.csv\"\n",
    "\n",
    "# Load the latest version\n",
    "df = kagglehub.load_dataset(\n",
    "  KaggleDatasetAdapter.PANDAS,\n",
    "  \"fjcob1/idealista-madrid\",\n",
    "  file_path,\n",
    "  # Provide any additional arguments like \n",
    "  # sql_query or pandas_kwargs. See the \n",
    "  # documenation for more information:\n",
    "  # https://github.com/Kaggle/kagglehub/blob/main/README.md#kaggledatasetadapterpandas\n",
    ")\n",
    "\n",
    "#display(\"Primeros 5 registros:\", df.head())"
   ]
  },
  {
   "cell_type": "markdown",
   "metadata": {},
   "source": [
    "# 1. Introducción"
   ]
  },
  {
   "cell_type": "markdown",
   "metadata": {},
   "source": [
    "### Introducción de los Datos\n",
    "* provincia: Provincia\n",
    "* zona: zona\n",
    "* título: Breve descripción de la oferta.\n",
    "* PrecioActual: Precio de venta actual.\n",
    "* PrecioAnterior: Precio de la oferta anterior.\n",
    "* metros: metros cuadrados.\n",
    "* habitaciones: número de habitaciones.\n",
    "* ascensor: si se indica que tenga o no ascensor.\n",
    "* localización: Interior, exterior,…\n",
    "* planta: número de planta.\n",
    "* baños: número de baños.\n",
    "* tags: etiquetas relevantes dependiendo de lo indicado en la oferta.\n",
    "* descripción: descripción de la oferta de venta.\n",
    "* Enlace: enlace a la oferta."
   ]
  },
  {
   "cell_type": "markdown",
   "metadata": {},
   "source": [
    "### Vemos el tipo de dato de los campos"
   ]
  },
  {
   "cell_type": "code",
   "execution_count": 389,
   "metadata": {},
   "outputs": [
    {
     "name": "stdout",
     "output_type": "stream",
     "text": [
      "<class 'pandas.core.frame.DataFrame'>\n",
      "RangeIndex: 11826 entries, 0 to 11825\n",
      "Data columns (total 14 columns):\n",
      " #   Column          Non-Null Count  Dtype  \n",
      "---  ------          --------------  -----  \n",
      " 0   provincia       11826 non-null  object \n",
      " 1   zona            11826 non-null  object \n",
      " 2   titulo          11826 non-null  object \n",
      " 3   PrecioActual    11826 non-null  int64  \n",
      " 4   PrecioAnterior  11826 non-null  int64  \n",
      " 5   metros          11826 non-null  int64  \n",
      " 6   habitaciones    11460 non-null  float64\n",
      " 7   ascensor        11033 non-null  object \n",
      " 8   localizacion    10730 non-null  object \n",
      " 9   planta          10601 non-null  object \n",
      " 10  baños           11826 non-null  int64  \n",
      " 11  tags            11664 non-null  object \n",
      " 12  descripcion     11761 non-null  object \n",
      " 13  Enlace          11826 non-null  object \n",
      "dtypes: float64(1), int64(4), object(9)\n",
      "memory usage: 1.3+ MB\n"
     ]
    }
   ],
   "source": [
    "df.info()"
   ]
  },
  {
   "cell_type": "markdown",
   "metadata": {},
   "source": [
    "### Vemos cuantos valores únicos hay de la columna provincia para asegurarnos antes de borrarla"
   ]
  },
  {
   "cell_type": "code",
   "execution_count": 390,
   "metadata": {},
   "outputs": [
    {
     "data": {
      "text/plain": [
       "array(['madrid'], dtype=object)"
      ]
     },
     "execution_count": 390,
     "metadata": {},
     "output_type": "execute_result"
    }
   ],
   "source": [
    "df['provincia'].unique()"
   ]
  },
  {
   "cell_type": "markdown",
   "metadata": {},
   "source": [
    "### Vemos cuantos valores \"0\" hay de la columna PrecioAnterior para asegurarnos antes de borrarla"
   ]
  },
  {
   "cell_type": "code",
   "execution_count": 391,
   "metadata": {},
   "outputs": [
    {
     "name": "stdout",
     "output_type": "stream",
     "text": [
      "Total de registros: 11826\n",
      "Valores iguales a 0 en 'PrecioAnterior': 10713\n"
     ]
    }
   ],
   "source": [
    "total_registros = len(df)\n",
    "\n",
    "valores_cero = (df['PrecioAnterior'] == 0).sum()\n",
    "\n",
    "print(f\"Total de registros: {total_registros}\")\n",
    "print(f\"Valores iguales a 0 en 'PrecioAnterior': {valores_cero}\")"
   ]
  },
  {
   "cell_type": "markdown",
   "metadata": {},
   "source": [
    "### Nuestra variable objetivo va a ser el PrecioActual de la vivienda y de momento vamos a eliminar las columnas que no son relevantes para nuetro modelo:\n",
    "* provincia\n",
    "* PrecioAnterior\n",
    "* Enlace (no aporta nada), pero no lo vamos a borrar para comprobar la calidad y veracidad de los datos mas adelante"
   ]
  },
  {
   "cell_type": "code",
   "execution_count": 392,
   "metadata": {},
   "outputs": [
    {
     "name": "stdout",
     "output_type": "stream",
     "text": [
      "Columnas eliminadas correctamente.\n"
     ]
    },
    {
     "data": {
      "text/html": [
       "<div>\n",
       "<style scoped>\n",
       "    .dataframe tbody tr th:only-of-type {\n",
       "        vertical-align: middle;\n",
       "    }\n",
       "\n",
       "    .dataframe tbody tr th {\n",
       "        vertical-align: top;\n",
       "    }\n",
       "\n",
       "    .dataframe thead th {\n",
       "        text-align: right;\n",
       "    }\n",
       "</style>\n",
       "<table border=\"1\" class=\"dataframe\">\n",
       "  <thead>\n",
       "    <tr style=\"text-align: right;\">\n",
       "      <th></th>\n",
       "      <th>zona</th>\n",
       "      <th>titulo</th>\n",
       "      <th>PrecioActual</th>\n",
       "      <th>metros</th>\n",
       "      <th>habitaciones</th>\n",
       "      <th>ascensor</th>\n",
       "      <th>localizacion</th>\n",
       "      <th>planta</th>\n",
       "      <th>baños</th>\n",
       "      <th>tags</th>\n",
       "      <th>descripcion</th>\n",
       "      <th>Enlace</th>\n",
       "    </tr>\n",
       "  </thead>\n",
       "  <tbody>\n",
       "    <tr>\n",
       "      <th>0</th>\n",
       "      <td>ciudad-lineal</td>\n",
       "      <td>Piso en calle de San Marcelo, 22, Ventas, Madrid</td>\n",
       "      <td>355000</td>\n",
       "      <td>69</td>\n",
       "      <td>2.0</td>\n",
       "      <td>S</td>\n",
       "      <td>EXTERIOR</td>\n",
       "      <td>5ª</td>\n",
       "      <td>1</td>\n",
       "      <td>VIVIENDA,LUMINOSO,VISTAS,REFORMADA,PORTERO,EXT...</td>\n",
       "      <td>Particular Vende vivienda totalmente reformada...</td>\n",
       "      <td>https://www.idealista.com/inmueble/106956987/</td>\n",
       "    </tr>\n",
       "    <tr>\n",
       "      <th>1</th>\n",
       "      <td>carabanchel</td>\n",
       "      <td>Piso en calle Cabo Nicolás Mur, San Isidro, Ma...</td>\n",
       "      <td>149000</td>\n",
       "      <td>91</td>\n",
       "      <td>3.0</td>\n",
       "      <td>N</td>\n",
       "      <td>EXTERIOR</td>\n",
       "      <td>1ª</td>\n",
       "      <td>0</td>\n",
       "      <td>PISO,EXCLUSIVA,INMOBILIARIA,OPORTUNIDAD</td>\n",
       "      <td>Inmobiliarias Encuentro vende en exclusiva la ...</td>\n",
       "      <td>https://www.idealista.com/inmueble/106906044/</td>\n",
       "    </tr>\n",
       "    <tr>\n",
       "      <th>2</th>\n",
       "      <td>centro</td>\n",
       "      <td>Piso en calle de Rodas, Lavapiés-Embajadores, ...</td>\n",
       "      <td>195000</td>\n",
       "      <td>36</td>\n",
       "      <td>1.0</td>\n",
       "      <td>S</td>\n",
       "      <td>NaN</td>\n",
       "      <td>2ª</td>\n",
       "      <td>0</td>\n",
       "      <td>EXCLUSIVA,ESTUDIO</td>\n",
       "      <td>ESTUDIO EN PLENO CENTRO DE MADRIDSarago Servic...</td>\n",
       "      <td>https://www.idealista.com/inmueble/107306175/</td>\n",
       "    </tr>\n",
       "    <tr>\n",
       "      <th>3</th>\n",
       "      <td>usera</td>\n",
       "      <td>Piso en calle de Ferroviarios, Almendrales, Ma...</td>\n",
       "      <td>195000</td>\n",
       "      <td>58</td>\n",
       "      <td>1.0</td>\n",
       "      <td>S</td>\n",
       "      <td>INTERIOR</td>\n",
       "      <td>BAJO</td>\n",
       "      <td>0</td>\n",
       "      <td>VIVIENDA,HOGAR,FUNCIONAL</td>\n",
       "      <td>Esta acogedora vivienda, ubicada en una planta...</td>\n",
       "      <td>https://www.idealista.com/inmueble/106325171/</td>\n",
       "    </tr>\n",
       "    <tr>\n",
       "      <th>4</th>\n",
       "      <td>tetuan</td>\n",
       "      <td>Dúplex en Bellas Vistas, Madrid</td>\n",
       "      <td>715000</td>\n",
       "      <td>140</td>\n",
       "      <td>3.0</td>\n",
       "      <td>S</td>\n",
       "      <td>EXTERIOR</td>\n",
       "      <td>2ª</td>\n",
       "      <td>0</td>\n",
       "      <td>TERRAZA,EXCLUSIVA,MODERNO</td>\n",
       "      <td>Maravilloso ATICO de reciente construcción, co...</td>\n",
       "      <td>https://www.idealista.com/inmueble/106627265/</td>\n",
       "    </tr>\n",
       "  </tbody>\n",
       "</table>\n",
       "</div>"
      ],
      "text/plain": [
       "            zona                                             titulo  \\\n",
       "0  ciudad-lineal   Piso en calle de San Marcelo, 22, Ventas, Madrid   \n",
       "1    carabanchel  Piso en calle Cabo Nicolás Mur, San Isidro, Ma...   \n",
       "2         centro  Piso en calle de Rodas, Lavapiés-Embajadores, ...   \n",
       "3          usera  Piso en calle de Ferroviarios, Almendrales, Ma...   \n",
       "4         tetuan                    Dúplex en Bellas Vistas, Madrid   \n",
       "\n",
       "   PrecioActual  metros  habitaciones ascensor localizacion planta  baños  \\\n",
       "0        355000      69           2.0        S     EXTERIOR     5ª      1   \n",
       "1        149000      91           3.0        N     EXTERIOR     1ª      0   \n",
       "2        195000      36           1.0        S          NaN     2ª      0   \n",
       "3        195000      58           1.0        S     INTERIOR   BAJO      0   \n",
       "4        715000     140           3.0        S     EXTERIOR     2ª      0   \n",
       "\n",
       "                                                tags  \\\n",
       "0  VIVIENDA,LUMINOSO,VISTAS,REFORMADA,PORTERO,EXT...   \n",
       "1            PISO,EXCLUSIVA,INMOBILIARIA,OPORTUNIDAD   \n",
       "2                                  EXCLUSIVA,ESTUDIO   \n",
       "3                           VIVIENDA,HOGAR,FUNCIONAL   \n",
       "4                          TERRAZA,EXCLUSIVA,MODERNO   \n",
       "\n",
       "                                         descripcion  \\\n",
       "0  Particular Vende vivienda totalmente reformada...   \n",
       "1  Inmobiliarias Encuentro vende en exclusiva la ...   \n",
       "2  ESTUDIO EN PLENO CENTRO DE MADRIDSarago Servic...   \n",
       "3  Esta acogedora vivienda, ubicada en una planta...   \n",
       "4  Maravilloso ATICO de reciente construcción, co...   \n",
       "\n",
       "                                          Enlace  \n",
       "0  https://www.idealista.com/inmueble/106956987/  \n",
       "1  https://www.idealista.com/inmueble/106906044/  \n",
       "2  https://www.idealista.com/inmueble/107306175/  \n",
       "3  https://www.idealista.com/inmueble/106325171/  \n",
       "4  https://www.idealista.com/inmueble/106627265/  "
      ]
     },
     "metadata": {},
     "output_type": "display_data"
    }
   ],
   "source": [
    "try:\n",
    "    df.drop(columns=['provincia', 'PrecioAnterior',], inplace=True)\n",
    "    print(\"Columnas eliminadas correctamente.\")\n",
    "except KeyError as e:\n",
    "    print(f\"No se pudieron eliminar algunas columnas porque no existen(ya se han eliminado): {e}\")\n",
    "display(df.head())"
   ]
  },
  {
   "cell_type": "markdown",
   "metadata": {},
   "source": [
    "# 2. Análisis de la calidad de los datos"
   ]
  },
  {
   "cell_type": "markdown",
   "metadata": {},
   "source": [
    "### Una vez hayamos terminado con el análisis de calidad de los datos, podemos eliminar nuestra columna Enlace, que era la que nos ayudaba a contrarrestrar la información de los datos raros."
   ]
  },
  {
   "cell_type": "code",
   "execution_count": 393,
   "metadata": {},
   "outputs": [
    {
     "data": {
      "text/html": [
       "<div>\n",
       "<style scoped>\n",
       "    .dataframe tbody tr th:only-of-type {\n",
       "        vertical-align: middle;\n",
       "    }\n",
       "\n",
       "    .dataframe tbody tr th {\n",
       "        vertical-align: top;\n",
       "    }\n",
       "\n",
       "    .dataframe thead th {\n",
       "        text-align: right;\n",
       "    }\n",
       "</style>\n",
       "<table border=\"1\" class=\"dataframe\">\n",
       "  <thead>\n",
       "    <tr style=\"text-align: right;\">\n",
       "      <th></th>\n",
       "      <th>PrecioActual</th>\n",
       "      <th>zona</th>\n",
       "      <th>titulo</th>\n",
       "      <th>metros</th>\n",
       "      <th>habitaciones</th>\n",
       "      <th>ascensor</th>\n",
       "      <th>localizacion</th>\n",
       "      <th>planta</th>\n",
       "      <th>baños</th>\n",
       "      <th>tags</th>\n",
       "      <th>descripcion</th>\n",
       "      <th>Enlace</th>\n",
       "    </tr>\n",
       "  </thead>\n",
       "  <tbody>\n",
       "    <tr>\n",
       "      <th>0</th>\n",
       "      <td>355000</td>\n",
       "      <td>ciudad-lineal</td>\n",
       "      <td>Piso en calle de San Marcelo, 22, Ventas, Madrid</td>\n",
       "      <td>69</td>\n",
       "      <td>2.0</td>\n",
       "      <td>S</td>\n",
       "      <td>EXTERIOR</td>\n",
       "      <td>5ª</td>\n",
       "      <td>1</td>\n",
       "      <td>VIVIENDA,LUMINOSO,VISTAS,REFORMADA,PORTERO,EXT...</td>\n",
       "      <td>Particular Vende vivienda totalmente reformada...</td>\n",
       "      <td>https://www.idealista.com/inmueble/106956987/</td>\n",
       "    </tr>\n",
       "    <tr>\n",
       "      <th>1</th>\n",
       "      <td>149000</td>\n",
       "      <td>carabanchel</td>\n",
       "      <td>Piso en calle Cabo Nicolás Mur, San Isidro, Ma...</td>\n",
       "      <td>91</td>\n",
       "      <td>3.0</td>\n",
       "      <td>N</td>\n",
       "      <td>EXTERIOR</td>\n",
       "      <td>1ª</td>\n",
       "      <td>0</td>\n",
       "      <td>PISO,EXCLUSIVA,INMOBILIARIA,OPORTUNIDAD</td>\n",
       "      <td>Inmobiliarias Encuentro vende en exclusiva la ...</td>\n",
       "      <td>https://www.idealista.com/inmueble/106906044/</td>\n",
       "    </tr>\n",
       "    <tr>\n",
       "      <th>2</th>\n",
       "      <td>195000</td>\n",
       "      <td>centro</td>\n",
       "      <td>Piso en calle de Rodas, Lavapiés-Embajadores, ...</td>\n",
       "      <td>36</td>\n",
       "      <td>1.0</td>\n",
       "      <td>S</td>\n",
       "      <td>NaN</td>\n",
       "      <td>2ª</td>\n",
       "      <td>0</td>\n",
       "      <td>EXCLUSIVA,ESTUDIO</td>\n",
       "      <td>ESTUDIO EN PLENO CENTRO DE MADRIDSarago Servic...</td>\n",
       "      <td>https://www.idealista.com/inmueble/107306175/</td>\n",
       "    </tr>\n",
       "    <tr>\n",
       "      <th>3</th>\n",
       "      <td>195000</td>\n",
       "      <td>usera</td>\n",
       "      <td>Piso en calle de Ferroviarios, Almendrales, Ma...</td>\n",
       "      <td>58</td>\n",
       "      <td>1.0</td>\n",
       "      <td>S</td>\n",
       "      <td>INTERIOR</td>\n",
       "      <td>BAJO</td>\n",
       "      <td>0</td>\n",
       "      <td>VIVIENDA,HOGAR,FUNCIONAL</td>\n",
       "      <td>Esta acogedora vivienda, ubicada en una planta...</td>\n",
       "      <td>https://www.idealista.com/inmueble/106325171/</td>\n",
       "    </tr>\n",
       "    <tr>\n",
       "      <th>4</th>\n",
       "      <td>715000</td>\n",
       "      <td>tetuan</td>\n",
       "      <td>Dúplex en Bellas Vistas, Madrid</td>\n",
       "      <td>140</td>\n",
       "      <td>3.0</td>\n",
       "      <td>S</td>\n",
       "      <td>EXTERIOR</td>\n",
       "      <td>2ª</td>\n",
       "      <td>0</td>\n",
       "      <td>TERRAZA,EXCLUSIVA,MODERNO</td>\n",
       "      <td>Maravilloso ATICO de reciente construcción, co...</td>\n",
       "      <td>https://www.idealista.com/inmueble/106627265/</td>\n",
       "    </tr>\n",
       "  </tbody>\n",
       "</table>\n",
       "</div>"
      ],
      "text/plain": [
       "   PrecioActual           zona  \\\n",
       "0        355000  ciudad-lineal   \n",
       "1        149000    carabanchel   \n",
       "2        195000         centro   \n",
       "3        195000          usera   \n",
       "4        715000         tetuan   \n",
       "\n",
       "                                              titulo  metros  habitaciones  \\\n",
       "0   Piso en calle de San Marcelo, 22, Ventas, Madrid      69           2.0   \n",
       "1  Piso en calle Cabo Nicolás Mur, San Isidro, Ma...      91           3.0   \n",
       "2  Piso en calle de Rodas, Lavapiés-Embajadores, ...      36           1.0   \n",
       "3  Piso en calle de Ferroviarios, Almendrales, Ma...      58           1.0   \n",
       "4                    Dúplex en Bellas Vistas, Madrid     140           3.0   \n",
       "\n",
       "  ascensor localizacion planta  baños  \\\n",
       "0        S     EXTERIOR     5ª      1   \n",
       "1        N     EXTERIOR     1ª      0   \n",
       "2        S          NaN     2ª      0   \n",
       "3        S     INTERIOR   BAJO      0   \n",
       "4        S     EXTERIOR     2ª      0   \n",
       "\n",
       "                                                tags  \\\n",
       "0  VIVIENDA,LUMINOSO,VISTAS,REFORMADA,PORTERO,EXT...   \n",
       "1            PISO,EXCLUSIVA,INMOBILIARIA,OPORTUNIDAD   \n",
       "2                                  EXCLUSIVA,ESTUDIO   \n",
       "3                           VIVIENDA,HOGAR,FUNCIONAL   \n",
       "4                          TERRAZA,EXCLUSIVA,MODERNO   \n",
       "\n",
       "                                         descripcion  \\\n",
       "0  Particular Vende vivienda totalmente reformada...   \n",
       "1  Inmobiliarias Encuentro vende en exclusiva la ...   \n",
       "2  ESTUDIO EN PLENO CENTRO DE MADRIDSarago Servic...   \n",
       "3  Esta acogedora vivienda, ubicada en una planta...   \n",
       "4  Maravilloso ATICO de reciente construcción, co...   \n",
       "\n",
       "                                          Enlace  \n",
       "0  https://www.idealista.com/inmueble/106956987/  \n",
       "1  https://www.idealista.com/inmueble/106906044/  \n",
       "2  https://www.idealista.com/inmueble/107306175/  \n",
       "3  https://www.idealista.com/inmueble/106325171/  \n",
       "4  https://www.idealista.com/inmueble/106627265/  "
      ]
     },
     "metadata": {},
     "output_type": "display_data"
    }
   ],
   "source": [
    "# Vamos a poner el PrecioActual como la primera columna por comodidad\n",
    "df = df[['PrecioActual'] + [col for col in df.columns if col != 'PrecioActual']]\n",
    "display(df.head())"
   ]
  },
  {
   "cell_type": "markdown",
   "metadata": {},
   "source": [
    "### Funcion que vamos a usar para analizar las columnas"
   ]
  },
  {
   "cell_type": "code",
   "execution_count": 394,
   "metadata": {},
   "outputs": [],
   "source": [
    "# En primer lugar vamos definir una función que nos ayudará a analizar las columnas de un dataframe\n",
    "def describe_columna(df, col):\n",
    "    print(f'Columna: {col}  -  Tipo de datos: {df[col].dtype}')\n",
    "    print(f'Número de valores nulos: {df[col].isnull().sum()}  -  Número de valores distintos: {df[col].nunique()}')\n",
    "    print('Valores más frecuentes:')\n",
    "    for i, v in df[col].value_counts().iloc[:10].items() :\n",
    "        print(i, ':',v, \"veces\")"
   ]
  },
  {
   "cell_type": "markdown",
   "metadata": {},
   "source": [
    "## 2.1 *Columna zona*"
   ]
  },
  {
   "cell_type": "markdown",
   "metadata": {},
   "source": [
    "### Usamos la funcion describe_columna para comprobar si hay nulos, los número de valores distintos y comprobar los valores mas frecuentes"
   ]
  },
  {
   "cell_type": "code",
   "execution_count": 395,
   "metadata": {},
   "outputs": [
    {
     "name": "stdout",
     "output_type": "stream",
     "text": [
      "Columna: zona  -  Tipo de datos: object\n",
      "Número de valores nulos: 0  -  Número de valores distintos: 21\n",
      "Valores más frecuentes:\n",
      "barrio-de-salamanca : 2018 veces\n",
      "centro : 1890 veces\n",
      "chamberi : 796 veces\n",
      "chamartin : 706 veces\n",
      "tetuan : 596 veces\n",
      "moncloa : 580 veces\n",
      "carabanchel : 567 veces\n",
      "ciudad-lineal : 537 veces\n",
      "puente-de-vallecas : 526 veces\n",
      "retiro : 508 veces\n"
     ]
    }
   ],
   "source": [
    "describe_columna(df, \"zona\")"
   ]
  },
  {
   "cell_type": "code",
   "execution_count": 396,
   "metadata": {},
   "outputs": [
    {
     "data": {
      "text/plain": [
       "array(['ciudad-lineal', 'carabanchel', 'centro', 'usera', 'tetuan',\n",
       "       'arganzuela', 'barrio-de-salamanca', 'puente-de-vallecas',\n",
       "       'moncloa', 'chamberi', 'chamartin', 'villaverde', 'fuencarral',\n",
       "       'retiro', 'moratalaz', 'hortaleza', 'san-blas', 'latina',\n",
       "       'barajas', 'villa-de-vallecas', 'vicalvaro'], dtype=object)"
      ]
     },
     "execution_count": 396,
     "metadata": {},
     "output_type": "execute_result"
    }
   ],
   "source": [
    "df[\"zona\"].unique()"
   ]
  },
  {
   "cell_type": "markdown",
   "metadata": {},
   "source": [
    "### nos puede valer para tener en cuenta a la hora de escalar los datos en los siguientes pasos"
   ]
  },
  {
   "cell_type": "markdown",
   "metadata": {},
   "source": [
    "### zona enfrentado al PrecioActual"
   ]
  },
  {
   "cell_type": "code",
   "execution_count": 397,
   "metadata": {},
   "outputs": [
    {
     "data": {
      "image/png": "[encoded data removed]",
      "text/plain": [
       "<Figure size 1200x600 with 1 Axes>"
      ]
     },
     "metadata": {},
     "output_type": "display_data"
    }
   ],
   "source": [
    "plt.figure(figsize=(12, 6))\n",
    "sns.boxplot(x=\"zona\", y=\"PrecioActual\", data=df)\n",
    "plt.xticks(rotation=65)  # Rotar etiquetas para mejor lectura\n",
    "plt.title(\"Distribución del PrecioActual por Zona\")\n",
    "plt.show()"
   ]
  },
  {
   "cell_type": "markdown",
   "metadata": {},
   "source": [
    "### media de precio de vivienda por zonas"
   ]
  },
  {
   "cell_type": "code",
   "execution_count": 398,
   "metadata": {},
   "outputs": [
    {
     "data": {
      "text/plain": [
       "zona\n",
       "barrio-de-salamanca    1966802.046\n",
       "chamartin              1767126.296\n",
       "moncloa                1620871.172\n",
       "chamberi               1498335.730\n",
       "retiro                 1310153.789\n",
       "hortaleza              1190754.570\n",
       "fuencarral              892204.092\n",
       "centro                  862305.902\n",
       "tetuan                  577428.998\n",
       "barajas                 555625.660\n",
       "ciudad-lineal           542408.108\n",
       "arganzuela              484212.350\n",
       "san-blas                401028.385\n",
       "vicalvaro               356815.922\n",
       "latina                  299185.233\n",
       "villa-de-vallecas       298188.288\n",
       "moratalaz               296772.155\n",
       "carabanchel             273038.078\n",
       "usera                   252341.970\n",
       "villaverde              198630.583\n",
       "puente-de-vallecas      191280.369\n",
       "Name: PrecioActual, dtype: object"
      ]
     },
     "metadata": {},
     "output_type": "display_data"
    }
   ],
   "source": [
    "media_precio_por_zona = df.groupby(\"zona\")[\"PrecioActual\"].mean().sort_values(ascending=False)\n",
    "\n",
    "# Formatear los valores sin notación científica y con separador de miles\n",
    "media_precio_por_zona = media_precio_por_zona.apply(lambda x: f\"{x:.3f}\")\n",
    "\n",
    "display(media_precio_por_zona)"
   ]
  },
  {
   "cell_type": "markdown",
   "metadata": {},
   "source": [
    "### Vemos que hay un amplio rango de precios por zonas, yendonos al extremo, en vallecas tenemos la media entorno a 191.000€ y en el barrio de salamanca en cerca de 2 millones de euros."
   ]
  },
  {
   "cell_type": "markdown",
   "metadata": {},
   "source": [
    "## 2.2 *Columna titulo* (eliminada)\n",
    "### Vamos a borrarla porque no va a influenciar en el entrenamiento del modelo"
   ]
  },
  {
   "cell_type": "code",
   "execution_count": 399,
   "metadata": {},
   "outputs": [
    {
     "name": "stdout",
     "output_type": "stream",
     "text": [
      "Columna titulo eliminada correctamente.\n"
     ]
    },
    {
     "data": {
      "text/html": [
       "<div>\n",
       "<style scoped>\n",
       "    .dataframe tbody tr th:only-of-type {\n",
       "        vertical-align: middle;\n",
       "    }\n",
       "\n",
       "    .dataframe tbody tr th {\n",
       "        vertical-align: top;\n",
       "    }\n",
       "\n",
       "    .dataframe thead th {\n",
       "        text-align: right;\n",
       "    }\n",
       "</style>\n",
       "<table border=\"1\" class=\"dataframe\">\n",
       "  <thead>\n",
       "    <tr style=\"text-align: right;\">\n",
       "      <th></th>\n",
       "      <th>PrecioActual</th>\n",
       "      <th>zona</th>\n",
       "      <th>metros</th>\n",
       "      <th>habitaciones</th>\n",
       "      <th>ascensor</th>\n",
       "      <th>localizacion</th>\n",
       "      <th>planta</th>\n",
       "      <th>baños</th>\n",
       "      <th>tags</th>\n",
       "      <th>descripcion</th>\n",
       "      <th>Enlace</th>\n",
       "    </tr>\n",
       "  </thead>\n",
       "  <tbody>\n",
       "    <tr>\n",
       "      <th>0</th>\n",
       "      <td>355000</td>\n",
       "      <td>ciudad-lineal</td>\n",
       "      <td>69</td>\n",
       "      <td>2.0</td>\n",
       "      <td>S</td>\n",
       "      <td>EXTERIOR</td>\n",
       "      <td>5ª</td>\n",
       "      <td>1</td>\n",
       "      <td>VIVIENDA,LUMINOSO,VISTAS,REFORMADA,PORTERO,EXT...</td>\n",
       "      <td>Particular Vende vivienda totalmente reformada...</td>\n",
       "      <td>https://www.idealista.com/inmueble/106956987/</td>\n",
       "    </tr>\n",
       "    <tr>\n",
       "      <th>1</th>\n",
       "      <td>149000</td>\n",
       "      <td>carabanchel</td>\n",
       "      <td>91</td>\n",
       "      <td>3.0</td>\n",
       "      <td>N</td>\n",
       "      <td>EXTERIOR</td>\n",
       "      <td>1ª</td>\n",
       "      <td>0</td>\n",
       "      <td>PISO,EXCLUSIVA,INMOBILIARIA,OPORTUNIDAD</td>\n",
       "      <td>Inmobiliarias Encuentro vende en exclusiva la ...</td>\n",
       "      <td>https://www.idealista.com/inmueble/106906044/</td>\n",
       "    </tr>\n",
       "    <tr>\n",
       "      <th>2</th>\n",
       "      <td>195000</td>\n",
       "      <td>centro</td>\n",
       "      <td>36</td>\n",
       "      <td>1.0</td>\n",
       "      <td>S</td>\n",
       "      <td>NaN</td>\n",
       "      <td>2ª</td>\n",
       "      <td>0</td>\n",
       "      <td>EXCLUSIVA,ESTUDIO</td>\n",
       "      <td>ESTUDIO EN PLENO CENTRO DE MADRIDSarago Servic...</td>\n",
       "      <td>https://www.idealista.com/inmueble/107306175/</td>\n",
       "    </tr>\n",
       "    <tr>\n",
       "      <th>3</th>\n",
       "      <td>195000</td>\n",
       "      <td>usera</td>\n",
       "      <td>58</td>\n",
       "      <td>1.0</td>\n",
       "      <td>S</td>\n",
       "      <td>INTERIOR</td>\n",
       "      <td>BAJO</td>\n",
       "      <td>0</td>\n",
       "      <td>VIVIENDA,HOGAR,FUNCIONAL</td>\n",
       "      <td>Esta acogedora vivienda, ubicada en una planta...</td>\n",
       "      <td>https://www.idealista.com/inmueble/106325171/</td>\n",
       "    </tr>\n",
       "    <tr>\n",
       "      <th>4</th>\n",
       "      <td>715000</td>\n",
       "      <td>tetuan</td>\n",
       "      <td>140</td>\n",
       "      <td>3.0</td>\n",
       "      <td>S</td>\n",
       "      <td>EXTERIOR</td>\n",
       "      <td>2ª</td>\n",
       "      <td>0</td>\n",
       "      <td>TERRAZA,EXCLUSIVA,MODERNO</td>\n",
       "      <td>Maravilloso ATICO de reciente construcción, co...</td>\n",
       "      <td>https://www.idealista.com/inmueble/106627265/</td>\n",
       "    </tr>\n",
       "  </tbody>\n",
       "</table>\n",
       "</div>"
      ],
      "text/plain": [
       "   PrecioActual           zona  metros  habitaciones ascensor localizacion  \\\n",
       "0        355000  ciudad-lineal      69           2.0        S     EXTERIOR   \n",
       "1        149000    carabanchel      91           3.0        N     EXTERIOR   \n",
       "2        195000         centro      36           1.0        S          NaN   \n",
       "3        195000          usera      58           1.0        S     INTERIOR   \n",
       "4        715000         tetuan     140           3.0        S     EXTERIOR   \n",
       "\n",
       "  planta  baños                                               tags  \\\n",
       "0     5ª      1  VIVIENDA,LUMINOSO,VISTAS,REFORMADA,PORTERO,EXT...   \n",
       "1     1ª      0            PISO,EXCLUSIVA,INMOBILIARIA,OPORTUNIDAD   \n",
       "2     2ª      0                                  EXCLUSIVA,ESTUDIO   \n",
       "3   BAJO      0                           VIVIENDA,HOGAR,FUNCIONAL   \n",
       "4     2ª      0                          TERRAZA,EXCLUSIVA,MODERNO   \n",
       "\n",
       "                                         descripcion  \\\n",
       "0  Particular Vende vivienda totalmente reformada...   \n",
       "1  Inmobiliarias Encuentro vende en exclusiva la ...   \n",
       "2  ESTUDIO EN PLENO CENTRO DE MADRIDSarago Servic...   \n",
       "3  Esta acogedora vivienda, ubicada en una planta...   \n",
       "4  Maravilloso ATICO de reciente construcción, co...   \n",
       "\n",
       "                                          Enlace  \n",
       "0  https://www.idealista.com/inmueble/106956987/  \n",
       "1  https://www.idealista.com/inmueble/106906044/  \n",
       "2  https://www.idealista.com/inmueble/107306175/  \n",
       "3  https://www.idealista.com/inmueble/106325171/  \n",
       "4  https://www.idealista.com/inmueble/106627265/  "
      ]
     },
     "metadata": {},
     "output_type": "display_data"
    }
   ],
   "source": [
    "try:\n",
    "    df.drop(columns=['titulo'], inplace=True)\n",
    "    print(\"Columna titulo eliminada correctamente.\")\n",
    "except KeyError as e:\n",
    "    print(f\"No se pudo eliminar la columna titulo o ya ha sido eliminada): {e}\")\n",
    "display(df.head())"
   ]
  },
  {
   "cell_type": "markdown",
   "metadata": {},
   "source": [
    "## 2.3 *Columna baños* (eliminada)\n",
    "### Se ha eliminado la columna baños porque hay mas de un 90% de casos en los que esta columna muestra 0 en los baños, debe de ser un error al extraer los datos de la página de idealista"
   ]
  },
  {
   "cell_type": "code",
   "execution_count": 400,
   "metadata": {},
   "outputs": [
    {
     "name": "stdout",
     "output_type": "stream",
     "text": [
      "Total de registros: 11826\n",
      "Valores iguales a 0 en 'baños': 9311\n",
      "Columna baños eliminada correctamente.\n"
     ]
    }
   ],
   "source": [
    "try:\n",
    "    total_registros = len(df)\n",
    "\n",
    "    valores_cero = (df['baños'] == 0).sum()\n",
    "\n",
    "    print(f\"Total de registros: {total_registros}\")\n",
    "    print(f\"Valores iguales a 0 en 'baños': {valores_cero}\")\n",
    "    df.drop(columns=['baños'], inplace=True)\n",
    "    print(\"Columna baños eliminada correctamente.\")\n",
    "except KeyError as e:\n",
    "    print(f\"No se pudo eliminar la columna baños o ya ha sido eliminada): {e}\")\n",
    "\n",
    "#display(df.head())"
   ]
  },
  {
   "cell_type": "markdown",
   "metadata": {},
   "source": [
    "## 2.4 *Columna metros*"
   ]
  },
  {
   "cell_type": "code",
   "execution_count": 401,
   "metadata": {},
   "outputs": [
    {
     "name": "stdout",
     "output_type": "stream",
     "text": [
      "Nulos en la columna metros: 0\n"
     ]
    },
    {
     "data": {
      "text/plain": [
       "count    11826.000000\n",
       "mean       153.790039\n",
       "std        766.217750\n",
       "min         11.000000\n",
       "25%         68.000000\n",
       "50%        103.000000\n",
       "75%        160.000000\n",
       "max      75000.000000\n",
       "Name: metros, dtype: float64"
      ]
     },
     "execution_count": 401,
     "metadata": {},
     "output_type": "execute_result"
    }
   ],
   "source": [
    "# Vemos cuantos nulos hay en el campo metros\n",
    "print(\"Nulos en la columna metros:\",df[\"metros\"].isnull().sum())\n",
    "\n",
    "# Hacemos un describe para ver la informacion del campo\n",
    "df[\"metros\"].describe()"
   ]
  },
  {
   "cell_type": "markdown",
   "metadata": {},
   "source": [
    "### Vemos que puede haber precios muy diferentes aunque la media se establece en 153m², vemos en max que hay una casa en venta con 75000m², vamos a buscarla"
   ]
  },
  {
   "cell_type": "code",
   "execution_count": 402,
   "metadata": {},
   "outputs": [
    {
     "data": {
      "text/html": [
       "<div>\n",
       "<style scoped>\n",
       "    .dataframe tbody tr th:only-of-type {\n",
       "        vertical-align: middle;\n",
       "    }\n",
       "\n",
       "    .dataframe tbody tr th {\n",
       "        vertical-align: top;\n",
       "    }\n",
       "\n",
       "    .dataframe thead th {\n",
       "        text-align: right;\n",
       "    }\n",
       "</style>\n",
       "<table border=\"1\" class=\"dataframe\">\n",
       "  <thead>\n",
       "    <tr style=\"text-align: right;\">\n",
       "      <th></th>\n",
       "      <th>PrecioActual</th>\n",
       "      <th>zona</th>\n",
       "      <th>metros</th>\n",
       "      <th>habitaciones</th>\n",
       "      <th>ascensor</th>\n",
       "      <th>localizacion</th>\n",
       "      <th>planta</th>\n",
       "      <th>tags</th>\n",
       "      <th>descripcion</th>\n",
       "      <th>Enlace</th>\n",
       "    </tr>\n",
       "  </thead>\n",
       "  <tbody>\n",
       "    <tr>\n",
       "      <th>6979</th>\n",
       "      <td>192000</td>\n",
       "      <td>ciudad-lineal</td>\n",
       "      <td>75000</td>\n",
       "      <td>3.0</td>\n",
       "      <td>N</td>\n",
       "      <td>EXTERIOR</td>\n",
       "      <td>1ª</td>\n",
       "      <td>VIVIENDA,INMOBILIARIA</td>\n",
       "      <td>VIVIENDA OCUPADASe admiten ofertas***SIN COMIS...</td>\n",
       "      <td>https://www.idealista.com/inmueble/107196960/</td>\n",
       "    </tr>\n",
       "  </tbody>\n",
       "</table>\n",
       "</div>"
      ],
      "text/plain": [
       "      PrecioActual           zona  metros  habitaciones ascensor localizacion  \\\n",
       "6979        192000  ciudad-lineal   75000           3.0        N     EXTERIOR   \n",
       "\n",
       "     planta                   tags  \\\n",
       "6979     1ª  VIVIENDA,INMOBILIARIA   \n",
       "\n",
       "                                            descripcion  \\\n",
       "6979  VIVIENDA OCUPADASe admiten ofertas***SIN COMIS...   \n",
       "\n",
       "                                             Enlace  \n",
       "6979  https://www.idealista.com/inmueble/107196960/  "
      ]
     },
     "metadata": {},
     "output_type": "display_data"
    }
   ],
   "source": [
    "registro_maximo = df.loc[df[\"metros\"] == 75000]\n",
    "display(registro_maximo)"
   ]
  },
  {
   "attachments": {
    "image.png": {
     "image/png": "[encoded data removed]"
    }
   },
   "cell_type": "markdown",
   "metadata": {},
   "source": [
    "![image.png](attachment:image.png)"
   ]
  },
  {
   "cell_type": "markdown",
   "metadata": {},
   "source": [
    "### Entrando en el enlace vemos que no son 75000m², sino 75, entonces vamos a hacer una pequeña funcion para buscar estos posibles casos"
   ]
  },
  {
   "cell_type": "code",
   "execution_count": 403,
   "metadata": {},
   "outputs": [
    {
     "data": {
      "text/html": [
       "<div>\n",
       "<style scoped>\n",
       "    .dataframe tbody tr th:only-of-type {\n",
       "        vertical-align: middle;\n",
       "    }\n",
       "\n",
       "    .dataframe tbody tr th {\n",
       "        vertical-align: top;\n",
       "    }\n",
       "\n",
       "    .dataframe thead th {\n",
       "        text-align: right;\n",
       "    }\n",
       "</style>\n",
       "<table border=\"1\" class=\"dataframe\">\n",
       "  <thead>\n",
       "    <tr style=\"text-align: right;\">\n",
       "      <th></th>\n",
       "      <th>PrecioActual</th>\n",
       "      <th>metros</th>\n",
       "      <th>Enlace</th>\n",
       "    </tr>\n",
       "  </thead>\n",
       "  <tbody>\n",
       "    <tr>\n",
       "      <th>744</th>\n",
       "      <td>190000</td>\n",
       "      <td>243</td>\n",
       "      <td>https://www.idealista.com/inmueble/107240336/</td>\n",
       "    </tr>\n",
       "    <tr>\n",
       "      <th>2714</th>\n",
       "      <td>114500</td>\n",
       "      <td>811</td>\n",
       "      <td>https://www.idealista.com/inmueble/107028561/</td>\n",
       "    </tr>\n",
       "    <tr>\n",
       "      <th>3231</th>\n",
       "      <td>170000</td>\n",
       "      <td>160</td>\n",
       "      <td>https://www.idealista.com/inmueble/106315139/</td>\n",
       "    </tr>\n",
       "    <tr>\n",
       "      <th>5762</th>\n",
       "      <td>286000</td>\n",
       "      <td>155</td>\n",
       "      <td>https://www.idealista.com/inmueble/107016847/</td>\n",
       "    </tr>\n",
       "    <tr>\n",
       "      <th>6979</th>\n",
       "      <td>192000</td>\n",
       "      <td>75000</td>\n",
       "      <td>https://www.idealista.com/inmueble/107196960/</td>\n",
       "    </tr>\n",
       "    <tr>\n",
       "      <th>7456</th>\n",
       "      <td>290000</td>\n",
       "      <td>171</td>\n",
       "      <td>https://www.idealista.com/inmueble/102922637/</td>\n",
       "    </tr>\n",
       "    <tr>\n",
       "      <th>7750</th>\n",
       "      <td>161000</td>\n",
       "      <td>479</td>\n",
       "      <td>https://www.idealista.com/inmueble/101241888/</td>\n",
       "    </tr>\n",
       "    <tr>\n",
       "      <th>8106</th>\n",
       "      <td>286000</td>\n",
       "      <td>154</td>\n",
       "      <td>https://www.idealista.com/inmueble/106631131/</td>\n",
       "    </tr>\n",
       "    <tr>\n",
       "      <th>10181</th>\n",
       "      <td>290000</td>\n",
       "      <td>160</td>\n",
       "      <td>https://www.idealista.com/inmueble/107261187/</td>\n",
       "    </tr>\n",
       "    <tr>\n",
       "      <th>10821</th>\n",
       "      <td>232000</td>\n",
       "      <td>159</td>\n",
       "      <td>https://www.idealista.com/inmueble/106463321/</td>\n",
       "    </tr>\n",
       "  </tbody>\n",
       "</table>\n",
       "</div>"
      ],
      "text/plain": [
       "       PrecioActual  metros                                         Enlace\n",
       "744          190000     243  https://www.idealista.com/inmueble/107240336/\n",
       "2714         114500     811  https://www.idealista.com/inmueble/107028561/\n",
       "3231         170000     160  https://www.idealista.com/inmueble/106315139/\n",
       "5762         286000     155  https://www.idealista.com/inmueble/107016847/\n",
       "6979         192000   75000  https://www.idealista.com/inmueble/107196960/\n",
       "7456         290000     171  https://www.idealista.com/inmueble/102922637/\n",
       "7750         161000     479  https://www.idealista.com/inmueble/101241888/\n",
       "8106         286000     154  https://www.idealista.com/inmueble/106631131/\n",
       "10181        290000     160  https://www.idealista.com/inmueble/107261187/\n",
       "10821        232000     159  https://www.idealista.com/inmueble/106463321/"
      ]
     },
     "metadata": {},
     "output_type": "display_data"
    }
   ],
   "source": [
    "# Filtrar los pisos con más de 150 metros cuadrados y menos de 300000 en PrecioActual\n",
    "df_filtrado = df[(df['metros'] > 150) & (df['PrecioActual'] < 300000)]\n",
    "\n",
    "# Seleccionar las columnas de interés\n",
    "df_resultado = df_filtrado[['PrecioActual', 'metros', 'Enlace']]\n",
    "\n",
    "# Mostrar el resultado\n",
    "display(df_resultado)"
   ]
  },
  {
   "cell_type": "markdown",
   "metadata": {},
   "source": [
    "| Columna | Precio | Metros | Acción |\n",
    "|---------|--------|--------|--------|\n",
    "| 744     | Está bien | Está bien | Se dejará tal como está |\n",
    "| 2714    | Está bien | 41     | Se cambiará el valor de la columna metros |\n",
    "| 3231    | Está bien | Está bien | Se dejará tal como está |\n",
    "| 5762    | Está bien | Está bien | Se dejará tal como está |\n",
    "| 6979    | Está bien | 75     | Se cambiará el valor de la columna metros |\n",
    "| 7456    | Está bien | Está bien | Se dejará tal como está |\n",
    "| 7750    | Está bien | 83     | Se cambiará el valor de la columna metros |\n",
    "| 8106    | Está bien | Está bien | Se dejará tal como está |\n",
    "| 10181   | Está bien | Está bien | Se dejará tal como está |\n",
    "| 10821   | Está bien | Está bien | Se dejará tal como está |"
   ]
  },
  {
   "cell_type": "markdown",
   "metadata": {},
   "source": [
    "### También vamos a filtrar este caso especial"
   ]
  },
  {
   "cell_type": "code",
   "execution_count": 404,
   "metadata": {},
   "outputs": [
    {
     "data": {
      "text/html": [
       "<div>\n",
       "<style scoped>\n",
       "    .dataframe tbody tr th:only-of-type {\n",
       "        vertical-align: middle;\n",
       "    }\n",
       "\n",
       "    .dataframe tbody tr th {\n",
       "        vertical-align: top;\n",
       "    }\n",
       "\n",
       "    .dataframe thead th {\n",
       "        text-align: right;\n",
       "    }\n",
       "</style>\n",
       "<table border=\"1\" class=\"dataframe\">\n",
       "  <thead>\n",
       "    <tr style=\"text-align: right;\">\n",
       "      <th></th>\n",
       "      <th>PrecioActual</th>\n",
       "      <th>metros</th>\n",
       "      <th>Enlace</th>\n",
       "    </tr>\n",
       "  </thead>\n",
       "  <tbody>\n",
       "    <tr>\n",
       "      <th>6979</th>\n",
       "      <td>192000</td>\n",
       "      <td>75000</td>\n",
       "      <td>https://www.idealista.com/inmueble/107196960/</td>\n",
       "    </tr>\n",
       "    <tr>\n",
       "      <th>7997</th>\n",
       "      <td>1495000</td>\n",
       "      <td>33175</td>\n",
       "      <td>https://www.idealista.com/inmueble/106105382/</td>\n",
       "    </tr>\n",
       "  </tbody>\n",
       "</table>\n",
       "</div>"
      ],
      "text/plain": [
       "      PrecioActual  metros                                         Enlace\n",
       "6979        192000   75000  https://www.idealista.com/inmueble/107196960/\n",
       "7997       1495000   33175  https://www.idealista.com/inmueble/106105382/"
      ]
     },
     "metadata": {},
     "output_type": "display_data"
    }
   ],
   "source": [
    "# Filtrar los pisos con más de 9000 metros cuadrados y menos de 2000000000 en PrecioActual\n",
    "df_filtrado = df[(df['metros'] > 9000) & (df['PrecioActual'] < 2000000000)]\n",
    "\n",
    "# Seleccionar las columnas de interés\n",
    "df_resultado = df_filtrado[['PrecioActual', 'metros', 'Enlace']]\n",
    "\n",
    "# Mostrar el resultado\n",
    "display(df_resultado)"
   ]
  },
  {
   "cell_type": "markdown",
   "metadata": {},
   "source": [
    "### El primero ya lo vimos en las comprobaciones de arriba y el segundo los metros son 332m² no 7997m²"
   ]
  },
  {
   "cell_type": "code",
   "execution_count": 405,
   "metadata": {},
   "outputs": [
    {
     "data": {
      "text/html": [
       "<div>\n",
       "<style scoped>\n",
       "    .dataframe tbody tr th:only-of-type {\n",
       "        vertical-align: middle;\n",
       "    }\n",
       "\n",
       "    .dataframe tbody tr th {\n",
       "        vertical-align: top;\n",
       "    }\n",
       "\n",
       "    .dataframe thead th {\n",
       "        text-align: right;\n",
       "    }\n",
       "</style>\n",
       "<table border=\"1\" class=\"dataframe\">\n",
       "  <thead>\n",
       "    <tr style=\"text-align: right;\">\n",
       "      <th></th>\n",
       "      <th>PrecioActual</th>\n",
       "      <th>zona</th>\n",
       "      <th>metros</th>\n",
       "      <th>habitaciones</th>\n",
       "      <th>ascensor</th>\n",
       "      <th>localizacion</th>\n",
       "      <th>planta</th>\n",
       "      <th>tags</th>\n",
       "      <th>descripcion</th>\n",
       "      <th>Enlace</th>\n",
       "    </tr>\n",
       "  </thead>\n",
       "  <tbody>\n",
       "    <tr>\n",
       "      <th>2714</th>\n",
       "      <td>114500</td>\n",
       "      <td>puente-de-vallecas</td>\n",
       "      <td>41</td>\n",
       "      <td>NaN</td>\n",
       "      <td>NaN</td>\n",
       "      <td>NaN</td>\n",
       "      <td>BAJO</td>\n",
       "      <td>PISO,FUNCIONAL</td>\n",
       "      <td>Funcional piso en Madrid, ideal para parejas. ...</td>\n",
       "      <td>https://www.idealista.com/inmueble/107028561/</td>\n",
       "    </tr>\n",
       "    <tr>\n",
       "      <th>6979</th>\n",
       "      <td>192000</td>\n",
       "      <td>ciudad-lineal</td>\n",
       "      <td>75</td>\n",
       "      <td>3.0</td>\n",
       "      <td>N</td>\n",
       "      <td>EXTERIOR</td>\n",
       "      <td>1ª</td>\n",
       "      <td>VIVIENDA,INMOBILIARIA</td>\n",
       "      <td>VIVIENDA OCUPADASe admiten ofertas***SIN COMIS...</td>\n",
       "      <td>https://www.idealista.com/inmueble/107196960/</td>\n",
       "    </tr>\n",
       "    <tr>\n",
       "      <th>7750</th>\n",
       "      <td>161000</td>\n",
       "      <td>puente-de-vallecas</td>\n",
       "      <td>83</td>\n",
       "      <td>3.0</td>\n",
       "      <td>N</td>\n",
       "      <td>NaN</td>\n",
       "      <td>4ª</td>\n",
       "      <td>VIVIENDA,PISO,LUMINOSO,HOGAR,FUNCIONAL</td>\n",
       "      <td>Presentamos este encantador piso de segunda ma...</td>\n",
       "      <td>https://www.idealista.com/inmueble/101241888/</td>\n",
       "    </tr>\n",
       "    <tr>\n",
       "      <th>7997</th>\n",
       "      <td>1495000</td>\n",
       "      <td>hortaleza</td>\n",
       "      <td>332</td>\n",
       "      <td>7.0</td>\n",
       "      <td>NaN</td>\n",
       "      <td>NaN</td>\n",
       "      <td>NaN</td>\n",
       "      <td>AMPLIO,EXCLUSIVA,OPORTUNIDAD,CHALET,REFORMAR,M...</td>\n",
       "      <td>Este fantástico pareado se encuentra en Piover...</td>\n",
       "      <td>https://www.idealista.com/inmueble/106105382/</td>\n",
       "    </tr>\n",
       "  </tbody>\n",
       "</table>\n",
       "</div>"
      ],
      "text/plain": [
       "      PrecioActual                zona  metros  habitaciones ascensor  \\\n",
       "2714        114500  puente-de-vallecas      41           NaN      NaN   \n",
       "6979        192000       ciudad-lineal      75           3.0        N   \n",
       "7750        161000  puente-de-vallecas      83           3.0        N   \n",
       "7997       1495000           hortaleza     332           7.0      NaN   \n",
       "\n",
       "     localizacion planta                                               tags  \\\n",
       "2714          NaN   BAJO                                     PISO,FUNCIONAL   \n",
       "6979     EXTERIOR     1ª                              VIVIENDA,INMOBILIARIA   \n",
       "7750          NaN     4ª             VIVIENDA,PISO,LUMINOSO,HOGAR,FUNCIONAL   \n",
       "7997          NaN    NaN  AMPLIO,EXCLUSIVA,OPORTUNIDAD,CHALET,REFORMAR,M...   \n",
       "\n",
       "                                            descripcion  \\\n",
       "2714  Funcional piso en Madrid, ideal para parejas. ...   \n",
       "6979  VIVIENDA OCUPADASe admiten ofertas***SIN COMIS...   \n",
       "7750  Presentamos este encantador piso de segunda ma...   \n",
       "7997  Este fantástico pareado se encuentra en Piover...   \n",
       "\n",
       "                                             Enlace  \n",
       "2714  https://www.idealista.com/inmueble/107028561/  \n",
       "6979  https://www.idealista.com/inmueble/107196960/  \n",
       "7750  https://www.idealista.com/inmueble/101241888/  \n",
       "7997  https://www.idealista.com/inmueble/106105382/  "
      ]
     },
     "metadata": {},
     "output_type": "display_data"
    }
   ],
   "source": [
    "# Lista de los índices y las correcciones a hacer según la tabla de comprobaciones\n",
    "correcciones = {\n",
    "    744: None,    # Se dejará tal como está\n",
    "    2714: 41,     # Se cambiará el valor de la columna metros a 41\n",
    "    3231: None,   # Se dejará tal como está\n",
    "    5762: None,   # Se dejará tal como está\n",
    "    6979: 75,     # Se cambiará el valor de la columna metros a 75\n",
    "    7456: None,   # Se dejará tal como está\n",
    "    7750: 83,     # Se cambiará el valor de la columna metros a 83\n",
    "    8106: None,   # Se dejará tal como está\n",
    "    10181: None,  # Se dejará tal como está\n",
    "    10821: None,  # Se dejará tal como está\n",
    "    7997: 332     # Cambiar el valor de la columna metros a 332 (corrigiendo el error de 33175)\n",
    "}\n",
    "\n",
    "# Aplicar las correcciones usando iloc\n",
    "for indice, metros_nuevos in correcciones.items():\n",
    "    if metros_nuevos is not None:\n",
    "        # Actualizamos los metros solo si es necesario\n",
    "        df.iloc[indice, df.columns.get_loc('metros')] = metros_nuevos\n",
    "\n",
    "# Mostrar algunas filas para verificar las modificaciones\n",
    "display(df.iloc[[2714, 6979, 7750, 7997]])  # Verifica las filas modificadas"
   ]
  },
  {
   "cell_type": "markdown",
   "metadata": {},
   "source": [
    "## 2.5 *Columna habitaciones*"
   ]
  },
  {
   "cell_type": "markdown",
   "metadata": {},
   "source": [
    "### comprobamos los nulos o si está rellenado con 0 habitaciones"
   ]
  },
  {
   "cell_type": "code",
   "execution_count": 406,
   "metadata": {},
   "outputs": [
    {
     "name": "stdout",
     "output_type": "stream",
     "text": [
      "Columna: habitaciones  -  Tipo de datos: float64\n",
      "Número de valores nulos: 366  -  Número de valores distintos: 17\n",
      "Valores más frecuentes:\n",
      "3.0 : 3768 veces\n",
      "2.0 : 3383 veces\n",
      "1.0 : 1624 veces\n",
      "4.0 : 1490 veces\n",
      "5.0 : 690 veces\n",
      "6.0 : 291 veces\n",
      "7.0 : 102 veces\n",
      "8.0 : 48 veces\n",
      "9.0 : 26 veces\n",
      "10.0 : 15 veces\n",
      "con el campo habitaciones = 0 --> 0\n"
     ]
    }
   ],
   "source": [
    "describe_columna(df, \"habitaciones\")\n",
    "\n",
    "habitaciones0 = (df[\"habitaciones\"] == 0).sum()\n",
    "print(\"con el campo habitaciones = 0 -->\",habitaciones0)\n",
    "\n",
    "# Eliminar filas donde \"habitaciones\" es nulo\n",
    "df = df.dropna(subset=[\"habitaciones\"])\n"
   ]
  },
  {
   "cell_type": "markdown",
   "metadata": {},
   "source": [
    "### Tambien vamos a comprobar si hay muchas habitaciones en una vivienda, por si está mal este campo enfrentandola a un precio menor a 700000"
   ]
  },
  {
   "cell_type": "code",
   "execution_count": 407,
   "metadata": {},
   "outputs": [
    {
     "data": {
      "text/html": [
       "<div>\n",
       "<style scoped>\n",
       "    .dataframe tbody tr th:only-of-type {\n",
       "        vertical-align: middle;\n",
       "    }\n",
       "\n",
       "    .dataframe tbody tr th {\n",
       "        vertical-align: top;\n",
       "    }\n",
       "\n",
       "    .dataframe thead th {\n",
       "        text-align: right;\n",
       "    }\n",
       "</style>\n",
       "<table border=\"1\" class=\"dataframe\">\n",
       "  <thead>\n",
       "    <tr style=\"text-align: right;\">\n",
       "      <th></th>\n",
       "      <th>PrecioActual</th>\n",
       "      <th>zona</th>\n",
       "      <th>metros</th>\n",
       "      <th>habitaciones</th>\n",
       "      <th>ascensor</th>\n",
       "      <th>localizacion</th>\n",
       "      <th>planta</th>\n",
       "      <th>tags</th>\n",
       "      <th>descripcion</th>\n",
       "      <th>Enlace</th>\n",
       "    </tr>\n",
       "  </thead>\n",
       "  <tbody>\n",
       "    <tr>\n",
       "      <th>40</th>\n",
       "      <td>128000</td>\n",
       "      <td>san-blas</td>\n",
       "      <td>59</td>\n",
       "      <td>20.0</td>\n",
       "      <td>N</td>\n",
       "      <td>EXTERIOR</td>\n",
       "      <td>BAJO</td>\n",
       "      <td>VIVIENDA,FINCA</td>\n",
       "      <td>Especial Inversores. Se vende ALQUILADO A TERC...</td>\n",
       "      <td>https://www.idealista.com/inmueble/106562409/</td>\n",
       "    </tr>\n",
       "    <tr>\n",
       "      <th>4471</th>\n",
       "      <td>650000</td>\n",
       "      <td>centro</td>\n",
       "      <td>181</td>\n",
       "      <td>7.0</td>\n",
       "      <td>S</td>\n",
       "      <td>EXTERIOR</td>\n",
       "      <td>2ª</td>\n",
       "      <td>ÁTICO,OPORTUNIDAD</td>\n",
       "      <td>*OPORTUNIDAD PARA INVERSORES EN EL CORAZÓN DE ...</td>\n",
       "      <td>https://www.idealista.com/inmueble/107092719/</td>\n",
       "    </tr>\n",
       "    <tr>\n",
       "      <th>5926</th>\n",
       "      <td>450000</td>\n",
       "      <td>chamberi</td>\n",
       "      <td>111</td>\n",
       "      <td>9.0</td>\n",
       "      <td>S</td>\n",
       "      <td>INTERIOR</td>\n",
       "      <td>BAJO</td>\n",
       "      <td>VIVIENDA,EXCLUSIVA,OPORTUNIDAD</td>\n",
       "      <td>¡ATENCIÓN INVERSORES, OPORTUNIDAD ÚNICA!Se tra...</td>\n",
       "      <td>https://www.idealista.com/inmueble/106936358/</td>\n",
       "    </tr>\n",
       "    <tr>\n",
       "      <th>6187</th>\n",
       "      <td>429000</td>\n",
       "      <td>barajas</td>\n",
       "      <td>135</td>\n",
       "      <td>8.0</td>\n",
       "      <td>NaN</td>\n",
       "      <td>NaN</td>\n",
       "      <td>NaN</td>\n",
       "      <td>CASA</td>\n",
       "      <td>VOhome propiedades Barajas vende casa en el Ca...</td>\n",
       "      <td>https://www.idealista.com/inmueble/105171402/</td>\n",
       "    </tr>\n",
       "    <tr>\n",
       "      <th>6579</th>\n",
       "      <td>490000</td>\n",
       "      <td>usera</td>\n",
       "      <td>150</td>\n",
       "      <td>9.0</td>\n",
       "      <td>N</td>\n",
       "      <td>EXTERIOR</td>\n",
       "      <td>4ª</td>\n",
       "      <td>DÚPLEX,FUNCIONAL</td>\n",
       "      <td>¡Descubre este increíble dúplex en venta que r...</td>\n",
       "      <td>https://www.idealista.com/inmueble/107153509/</td>\n",
       "    </tr>\n",
       "    <tr>\n",
       "      <th>7661</th>\n",
       "      <td>293000</td>\n",
       "      <td>puente-de-vallecas</td>\n",
       "      <td>124</td>\n",
       "      <td>7.0</td>\n",
       "      <td>N</td>\n",
       "      <td>EXTERIOR</td>\n",
       "      <td>BAJO</td>\n",
       "      <td>DÚPLEX,AMUEBLADA,ELECTRODOMÉSTICOS</td>\n",
       "      <td>NO COBRAMOS AL COMPRADORDúplex en rentabilidad...</td>\n",
       "      <td>https://www.idealista.com/inmueble/106505862/</td>\n",
       "    </tr>\n",
       "    <tr>\n",
       "      <th>11805</th>\n",
       "      <td>650000</td>\n",
       "      <td>centro</td>\n",
       "      <td>134</td>\n",
       "      <td>7.0</td>\n",
       "      <td>N</td>\n",
       "      <td>EXTERIOR</td>\n",
       "      <td>1ª</td>\n",
       "      <td>PISO,BALCONES,INTERIOR</td>\n",
       "      <td>Se vende sin comisión de agencia piso amueblad...</td>\n",
       "      <td>https://www.idealista.com/inmueble/106907623/</td>\n",
       "    </tr>\n",
       "  </tbody>\n",
       "</table>\n",
       "</div>"
      ],
      "text/plain": [
       "       PrecioActual                zona  metros  habitaciones ascensor  \\\n",
       "40           128000            san-blas      59          20.0        N   \n",
       "4471         650000              centro     181           7.0        S   \n",
       "5926         450000            chamberi     111           9.0        S   \n",
       "6187         429000             barajas     135           8.0      NaN   \n",
       "6579         490000               usera     150           9.0        N   \n",
       "7661         293000  puente-de-vallecas     124           7.0        N   \n",
       "11805        650000              centro     134           7.0        N   \n",
       "\n",
       "      localizacion planta                                tags  \\\n",
       "40        EXTERIOR   BAJO                      VIVIENDA,FINCA   \n",
       "4471      EXTERIOR     2ª                   ÁTICO,OPORTUNIDAD   \n",
       "5926      INTERIOR   BAJO      VIVIENDA,EXCLUSIVA,OPORTUNIDAD   \n",
       "6187           NaN    NaN                                CASA   \n",
       "6579      EXTERIOR     4ª                    DÚPLEX,FUNCIONAL   \n",
       "7661      EXTERIOR   BAJO  DÚPLEX,AMUEBLADA,ELECTRODOMÉSTICOS   \n",
       "11805     EXTERIOR     1ª              PISO,BALCONES,INTERIOR   \n",
       "\n",
       "                                             descripcion  \\\n",
       "40     Especial Inversores. Se vende ALQUILADO A TERC...   \n",
       "4471   *OPORTUNIDAD PARA INVERSORES EN EL CORAZÓN DE ...   \n",
       "5926   ¡ATENCIÓN INVERSORES, OPORTUNIDAD ÚNICA!Se tra...   \n",
       "6187   VOhome propiedades Barajas vende casa en el Ca...   \n",
       "6579   ¡Descubre este increíble dúplex en venta que r...   \n",
       "7661   NO COBRAMOS AL COMPRADORDúplex en rentabilidad...   \n",
       "11805  Se vende sin comisión de agencia piso amueblad...   \n",
       "\n",
       "                                              Enlace  \n",
       "40     https://www.idealista.com/inmueble/106562409/  \n",
       "4471   https://www.idealista.com/inmueble/107092719/  \n",
       "5926   https://www.idealista.com/inmueble/106936358/  \n",
       "6187   https://www.idealista.com/inmueble/105171402/  \n",
       "6579   https://www.idealista.com/inmueble/107153509/  \n",
       "7661   https://www.idealista.com/inmueble/106505862/  \n",
       "11805  https://www.idealista.com/inmueble/106907623/  "
      ]
     },
     "metadata": {},
     "output_type": "display_data"
    }
   ],
   "source": [
    "habitacionesraras = df[(df['habitaciones'] >= 7) & (df['PrecioActual'] < 700000)]\n",
    "display(habitacionesraras)"
   ]
  },
  {
   "cell_type": "markdown",
   "metadata": {},
   "source": [
    "#### Parece estar todo correcto viendo el Enlace de estos casos"
   ]
  },
  {
   "cell_type": "markdown",
   "metadata": {},
   "source": [
    "## 2.6 *Columna planta*\n",
    "### Hacemos el describe para ver la información y pensar que hacer"
   ]
  },
  {
   "cell_type": "code",
   "execution_count": 408,
   "metadata": {},
   "outputs": [
    {
     "name": "stdout",
     "output_type": "stream",
     "text": [
      "Columna: planta  -  Tipo de datos: object\n",
      "Número de valores nulos: 1214  -  Número de valores distintos: 27\n",
      "Valores más frecuentes:\n",
      "1ª : 2047 veces\n",
      "2ª : 1720 veces\n",
      "3ª : 1529 veces\n",
      "BAJO : 1400 veces\n",
      "4ª : 1243 veces\n",
      "5ª : 785 veces\n",
      "6ª : 570 veces\n",
      "7ª : 286 veces\n",
      "ENTREPLANTA : 156 veces\n",
      "8ª : 123 veces\n"
     ]
    }
   ],
   "source": [
    "describe_columna(df, \"planta\")"
   ]
  },
  {
   "cell_type": "markdown",
   "metadata": {},
   "source": [
    "### Las conclusiones son al final borrar estos registros porque si le incluyo a estos nulos una categoria como \"Desconocido\" creo que puede influenciar en el calculo del modelo porque parece que va a estar muy ligada al precio de esta columna, y no podemos tener una columna como \"Desconocido\" que tenga mas valores que muchas otras categorías (1ª, 2ª, 3ª Entreplanta y sótano)"
   ]
  },
  {
   "cell_type": "code",
   "execution_count": 409,
   "metadata": {},
   "outputs": [],
   "source": [
    "df.dropna(subset=['planta'], inplace=True)"
   ]
  },
  {
   "cell_type": "markdown",
   "metadata": {},
   "source": [
    "## 2.7 *Columna ascensor*\n",
    "### Hacemos el describe para ver la información y pensar que hacer"
   ]
  },
  {
   "cell_type": "code",
   "execution_count": 410,
   "metadata": {},
   "outputs": [
    {
     "name": "stdout",
     "output_type": "stream",
     "text": [
      "Columna: ascensor  -  Tipo de datos: object\n",
      "Número de valores nulos: 42  -  Número de valores distintos: 2\n",
      "Valores más frecuentes:\n",
      "S : 7951 veces\n",
      "N : 2253 veces\n"
     ]
    }
   ],
   "source": [
    "describe_columna(df, \"ascensor\")"
   ]
  },
  {
   "cell_type": "markdown",
   "metadata": {},
   "source": [
    "### Para no borrar esos 55 datos nulos, podemos rellenar con lo que tenemos claro por la ley 010 que dice que a partir de cinco pisos es obligatorio instalar al menos un ascensor en el edificio y los demás casos estudiarlos"
   ]
  },
  {
   "cell_type": "code",
   "execution_count": 411,
   "metadata": {},
   "outputs": [
    {
     "name": "stdout",
     "output_type": "stream",
     "text": [
      "Nulos en 'ascensor' con planta >= 5ª (obligatorio): 16\n",
      "Nulos en 'ascensor' con planta <= 4ª (opcional): 26\n"
     ]
    }
   ],
   "source": [
    "# Filtrar los registros con valores nulos en la columna 'ascensor'\n",
    "nulos_ascensor = df[df['ascensor'].isna()]\n",
    "\n",
    "# Contar los nulos en la columna 'ascensor' donde 'planta' es menor o igual a 4ª (opcional)\n",
    "nulos_bajo_5 = nulos_ascensor[nulos_ascensor['planta'] <= '4ª'].shape[0]\n",
    "\n",
    "# Contar los nulos en la columna 'ascensor' donde 'planta' es mayor o igual a 5ª (obligatorio tener ascensor)\n",
    "nulos_arriba_5 = nulos_ascensor[nulos_ascensor['planta'] >= '5ª'].shape[0]\n",
    "\n",
    "# Mostrar los resultados\n",
    "print(f\"Nulos en 'ascensor' con planta >= 5ª (obligatorio): {nulos_arriba_5}\")\n",
    "print(f\"Nulos en 'ascensor' con planta <= 4ª (opcional): {nulos_bajo_5}\")"
   ]
  },
  {
   "cell_type": "markdown",
   "metadata": {},
   "source": [
    "### A esos 16 se las va añadir que si tienen ascensor \"S\" y a los 26 los eliminamos:"
   ]
  },
  {
   "cell_type": "code",
   "execution_count": 412,
   "metadata": {},
   "outputs": [
    {
     "name": "stdout",
     "output_type": "stream",
     "text": [
      "Registros después de eliminar los nulos en 'ascensor' con planta <= 4ª: 10220\n"
     ]
    }
   ],
   "source": [
    "# Para los registros con planta >= 5ª y 'ascensor' nulo, asignar 'S' en la columna 'ascensor' (indicando que tiene ascensor)\n",
    "df.loc[(df['planta'] >= '5ª') & (df['ascensor'].isna()), 'ascensor'] = 'S'\n",
    "\n",
    "# Eliminar los registros con 'ascensor' nulo y planta <= 4ª\n",
    "df = df[~((df['planta'] <= '4ª') & (df['ascensor'].isna()))]\n",
    "\n",
    "# Mostrar la cantidad de registros después de eliminar los nulos\n",
    "print(f\"Registros después de eliminar los nulos en 'ascensor' con planta <= 4ª: {df.shape[0]}\")"
   ]
  },
  {
   "cell_type": "markdown",
   "metadata": {},
   "source": [
    "## 2.8 *Columna localizacion*\n",
    "### Hacemos el describe para ver la información y pensar que hacer"
   ]
  },
  {
   "cell_type": "code",
   "execution_count": 413,
   "metadata": {},
   "outputs": [
    {
     "name": "stdout",
     "output_type": "stream",
     "text": [
      "Columna: localizacion  -  Tipo de datos: object\n",
      "Número de valores nulos: 130  -  Número de valores distintos: 2\n",
      "Valores más frecuentes:\n",
      "EXTERIOR : 8609 veces\n",
      "INTERIOR : 1481 veces\n"
     ]
    }
   ],
   "source": [
    "describe_columna(df, \"localizacion\")"
   ]
  },
  {
   "cell_type": "markdown",
   "metadata": {},
   "source": [
    "### Vamos a eliminar esos 140 porque nos comviene tener solo dos valores para dividir 0 y en 1"
   ]
  },
  {
   "cell_type": "code",
   "execution_count": 414,
   "metadata": {},
   "outputs": [
    {
     "name": "stdout",
     "output_type": "stream",
     "text": [
      "0\n",
      "['EXTERIOR' 'INTERIOR']\n"
     ]
    }
   ],
   "source": [
    "# Eliminar registros donde 'localizacion' es nulo\n",
    "df = df.dropna(subset=['localizacion'])\n",
    "print(df['localizacion'].isna().sum())  # Debería ser 0\n",
    "print(df['localizacion'].unique())  # Debería mostrar solo 'EXTERIOR' e 'INTERIOR'"
   ]
  },
  {
   "cell_type": "markdown",
   "metadata": {},
   "source": [
    "## 2.9 *Columna tags*\n",
    "### Hacemos el describe para ver la información y pensar que hacer"
   ]
  },
  {
   "cell_type": "code",
   "execution_count": 415,
   "metadata": {},
   "outputs": [
    {
     "name": "stdout",
     "output_type": "stream",
     "text": [
      "Columna: tags  -  Tipo de datos: object\n",
      "Número de valores nulos: 129  -  Número de valores distintos: 7306\n",
      "Valores más frecuentes:\n",
      "PISO,OPORTUNIDAD : 93 veces\n",
      "VIVIENDA : 90 veces\n",
      "PISO : 87 veces\n",
      "OPORTUNIDAD : 62 veces\n",
      "VIVIENDA,PISO : 57 veces\n",
      "PISO,METRO : 32 veces\n",
      "VIVIENDA,OPORTUNIDAD : 28 veces\n",
      "VIVIENDA,PISO,EXTERIOR : 26 veces\n",
      "PISO,REFORMADO,EXTERIOR,INTERIOR : 26 veces\n",
      "VIVIENDA,PISO,OPORTUNIDAD : 25 veces\n"
     ]
    }
   ],
   "source": [
    "describe_columna(df, \"tags\")"
   ]
  },
  {
   "cell_type": "markdown",
   "metadata": {},
   "source": [
    "### Hay muchas etiquetas aqui, 7569, lo que podemos hacer es quedarnos con las mas frecuentes, para no eliminar esta columna, porque puede ser valiosa."
   ]
  },
  {
   "cell_type": "code",
   "execution_count": 416,
   "metadata": {},
   "outputs": [
    {
     "name": "stdout",
     "output_type": "stream",
     "text": [
      "tags\n",
      "PISO,OPORTUNIDAD                         93\n",
      "VIVIENDA                                 90\n",
      "PISO                                     87\n",
      "OPORTUNIDAD                              62\n",
      "VIVIENDA,PISO                            57\n",
      "PISO,METRO                               32\n",
      "VIVIENDA,OPORTUNIDAD                     28\n",
      "VIVIENDA,PISO,EXTERIOR                   26\n",
      "PISO,REFORMADO,EXTERIOR,INTERIOR         26\n",
      "VIVIENDA,PISO,OPORTUNIDAD                25\n",
      "VIVIENDA,METRO                           25\n",
      "VIVIENDA,PISCINA,GARAJE                  23\n",
      "OPORTUNIDAD,INTERIOR                     22\n",
      "VIVIENDA,PISO,METRO                      22\n",
      "PISO,REFORMADO                           21\n",
      "PISO,REFORMADO,FINCA,INTERIOR            20\n",
      "PISO,HOGAR,NUEVO                         19\n",
      "VIVIENDA,OPORTUNIDAD,NUEVO               19\n",
      "VIVIENDA,TERRAZA,LUJO,PISCINA,JARDÍN     16\n",
      "APARTAMENTO                              16\n",
      "VIVIENDA,URBANIZACIÓN                    15\n",
      "VIVIENDA,FINCA                           15\n",
      "METRO                                    15\n",
      "VIVIENDA,REFORMADA                       15\n",
      "VIVIENDA,EXCLUSIVA                       15\n",
      "VIVIENDA,GARAJE                          13\n",
      "VIVIENDA,TERRAZA,OPORTUNIDAD             13\n",
      "VIVIENDA,INMOBILIARIA                    13\n",
      "VIVIENDA,EXCLUSIVA,EXCLUSIVO,INTERIOR    13\n",
      "VIVIENDA,TERRAZA,PISCINA,GARAJE          13\n",
      "Name: count, dtype: int64\n"
     ]
    }
   ],
   "source": [
    "# Contar la cantidad de veces que aparece cada combinación de tags\n",
    "tags_frecuencia = df['tags'].value_counts()\n",
    "\n",
    "# Mostrar las 20 combinaciones más comunes\n",
    "print(tags_frecuencia.head(30))"
   ]
  },
  {
   "cell_type": "markdown",
   "metadata": {},
   "source": [
    "### De esto podemos sacar varias conclusiones:\n",
    "* \"PISO\" (5,683 veces) y \"VIVIENDA\" (5,040 veces) son los más comunes.\n",
    "* Otros muy usados son \"EXTERIOR\" (2,405), \"METRO\" (2,039) y \"AMPLIO\" (1,828).\n",
    "* Información dentro de los tags: Ubicación y entorno: \"EXTERIOR\", \"METRO\", \"VISTAS\". | Estado y calidad: \"REFORMADO\", \"NUEVO\", \"FINCA\". | Extras atractivos: \"TERRAZA\", \"LUJO\", \"ÁTICO\".\n",
    "### Y lo que podemos  hacer es:\n",
    "* Convertir los tags más frecuentes en variables binarias (0 o 1):\n",
    "* Eliminar tags muy genéricos (\"PISO\", \"VIVIENDA\"), porque no aportan información útil.\n",
    "### ESO LO HAREMOS EN EL PREPROCESADO DE LOS DATOS, DESPUÉS DE HACER UN ANÁLISIS EXPLORATORIO DE LOS DATOS (SIGUIENTE PASO)"
   ]
  },
  {
   "cell_type": "markdown",
   "metadata": {},
   "source": [
    "## 2.10 *Columna descripcion*\n",
    "### Hacemos el describe para ver la información y pensar que hacer"
   ]
  },
  {
   "cell_type": "code",
   "execution_count": 417,
   "metadata": {},
   "outputs": [
    {
     "name": "stdout",
     "output_type": "stream",
     "text": [
      "Columna: descripcion  -  Tipo de datos: object\n",
      "Número de valores nulos: 52  -  Número de valores distintos: 9372\n",
      "Valores más frecuentes:\n",
      "OBRA NUEVA DE VIVIENDAS TURÍSTICAS DE LUJO E INTELIGENTES EN VALDEMARIN.48 VIVIENDAS de 1 DORMITORIO, CON LAS MAXIMAS CALIDADES, amplias terrazas y zonas verdes, así como piscinas privadas en plantas altas y bajas.URBANIZACION CON MULTITUD DE SERVICIOS:•Jardín y piscina colectiva.•Piscina Infinity climatizada d : 16 veces\n",
      "OPORTUNIDAD INMUEBLE SIN POSESIÓN, NO SE PUEDE VISITAR, PROPIO PARA INVERSORES O VECINOS QUE CONOZCAN EL INMUEBLE.Disponemos de una amplia cartera de inmuebles sin posesión en Madrid y en toda España, PROPIO PEQUEÑO Y GRAN INVERSOR.Madrid es un municipio y una ciudad de España.La localidad, con categoría histórica : 15 veces\n",
      "Hemos creado un concepto muy exclusivo con interiores abiertos y cálidos con los que se pretende conseguir confort y calidad de vida para aquellos que puedan disfrutarlo.Este singular proyecto se encuentra ubicado en el corazón de Madrid.Las exclusivas viviendas de 2 a 4 habitaciones permiten que se entienda el luj : 13 veces\n",
      "Piso exterior reformado a medida. Consta de dos habitaciones, baño y cocina.En nuestras reformas se cambian todas las instalaciones y tabiquerías interiores, incidiendo en la eficiencia energética y el aprovechamiento del espacio. La instalación eléctrica se compone de cuadro elevado y cambio de acometida para que es : 12 veces\n",
      "40% YA RESERVADO Y LICENCIA DE OBRA CONCEDIDA¡Nueva oportunidad de viviendas sostenibles en Villaverde desde 175.500 €!El edificio Talco cuenta con viviendas de 1, 2 y 3 dormitorios y 600 m2 de espacios comunes: terraza en azotea, huerto urbano, dos locales multiusos y lavandería, entre otros.Un edificio con cer : 12 veces\n",
      "Evergreen es un proyecto de 19 viviendas conectados con el exterior, con la naturaleza, con vistas panorámicas del entorno y a poca distancia del centro de Madrid.Evergreen, ubicado en la calle Doctor Guiu 57 junto a la Avenida del cardenal Herrera Oria. Es un edificio moderno, que ocupa un emplazamiento excepcional : 11 veces\n",
      "JULIÁN CAMARILLO PASSIVHAUS (PERALEDA URBAN, S. COOP. -Fase Rufino González)Fututo residencial formado por 50 viviendas de 1 y 2 dormitorioscon plaza de garaje y trastero incluido en el coste.Dispondrá de amplias zonas comunes: piscina, jardines, zona de juegos infantiles, sala comunitaria y conserjería.La urban : 10 veces\n",
      "Nueva oportunidad de conseguir una vivienda a un precio asequible en Madrid, Los Cerros.Te presentamos Residencial Zaniah, un proyecto de 178 Vivienda Protegida de Precio Básico. Viviendas de 2 y 3 dormitorios con unas estupendas zonas comunes.UbicaciónLos Cerros es uno de los cinco barrios que componen los nuevos : 10 veces\n",
      "Oportunidad de inversión: inmueble sin posesión.Imposibilidad de visita interior, no se puede financiar la compra de este inmueble.Advertimos que la información contenida puede no estar actualizada, solicita más información sobre el activo sin compromiso.Investment opportunity: housing without possession.Imposs : 10 veces\n",
      "El exclusivo bloque de 10 viviendas de lujo Jorge Juan 171 Residencial, está ubicado en el área de Fuente del Berro, perteneciente al barrio de Salamanca y muy próximo al centro de Madrid. Esta promoción ofrece dos áticos con impresionantes vistas y amplias terrazas, dos bajos con jardín privado y un total de seis eleg : 9 veces\n"
     ]
    }
   ],
   "source": [
    "describe_columna(df, \"descripcion\")"
   ]
  },
  {
   "cell_type": "markdown",
   "metadata": {},
   "source": [
    "### vamos a transformar la columna descripcion en una representación numérica utilizando la técnica de TF-IDF (Term Frequency-Inverse Document Frequency).\n",
    "#### convertimos los textos de las descripciones en una matriz de características que se puede usar para entrenar nuestro modelo. (LO HAREMOS MAS ADELANTE en el preprocesado de los datos)"
   ]
  },
  {
   "cell_type": "code",
   "execution_count": 418,
   "metadata": {},
   "outputs": [],
   "source": [
    "df.drop(columns=[\"Enlace\"], inplace=True) # Nos ayuda solo para validar los datos mirando en los anuncios, no lo vamos a incorporar en el modelo"
   ]
  },
  {
   "cell_type": "code",
   "execution_count": 419,
   "metadata": {},
   "outputs": [],
   "source": [
    "df_no_Xescalado = df.copy()   # Para trabajar sin X escalado luego para los modelos"
   ]
  },
  {
   "cell_type": "markdown",
   "metadata": {},
   "source": [
    "# 3. Preprocesado de los datos"
   ]
  },
  {
   "cell_type": "markdown",
   "metadata": {},
   "source": [
    "#### Copiaremos el dataframe para no perder el original por si lo queremos usar mas adelante"
   ]
  },
  {
   "cell_type": "code",
   "execution_count": 420,
   "metadata": {},
   "outputs": [],
   "source": [
    "df_Xescalado = df.copy() "
   ]
  },
  {
   "cell_type": "markdown",
   "metadata": {},
   "source": [
    "## 3.1 Para la columna zona:\n",
    "* Vamos a crear una columna adicional con la media de precios por zonas calculadas en el apartado anterior.\n",
    "* Vamos a codificar la columna zona con one-hot-encoding (Veo que es el más indicado, aunque nos añada más columnas)"
   ]
  },
  {
   "cell_type": "code",
   "execution_count": 421,
   "metadata": {},
   "outputs": [],
   "source": [
    "zona_media_precio = {\n",
    "    'barrio-de-salamanca': 1966802.046,\n",
    "    'chamartin': 1767126.296,\n",
    "    'moncloa': 1620871.172,\n",
    "    'chamberi': 1498335.730,\n",
    "    'retiro': 1310153.789,\n",
    "    'hortaleza': 1190754.570,\n",
    "    'fuencarral': 892204.092,\n",
    "    'centro': 862305.902,\n",
    "    'tetuan': 577428.998,\n",
    "    'barajas': 555625.660,\n",
    "    'ciudad-lineal': 542408.108,\n",
    "    'arganzuela': 484212.350,\n",
    "    'san-blas': 401028.385,\n",
    "    'vicalvaro': 356815.922,\n",
    "    'latina': 299185.233,\n",
    "    'villa-de-vallecas': 298188.288,\n",
    "    'moratalaz': 296772.155,\n",
    "    'carabanchel': 273038.078,\n",
    "    'usera': 252341.970,\n",
    "    'villaverde': 198630.583,\n",
    "    'puente-de-vallecas': 191280.369\n",
    "}\n",
    "\n",
    "df_Xescalado['zona_media_precio'] = df_Xescalado['zona'].map(zona_media_precio)"
   ]
  },
  {
   "cell_type": "code",
   "execution_count": 422,
   "metadata": {},
   "outputs": [],
   "source": [
    "# Aplicar One-Hot Encoding a la columna 'zona'\n",
    "df_Xescalado = pd.get_dummies(df_Xescalado, columns=[\"zona\"], drop_first=True)"
   ]
  },
  {
   "cell_type": "markdown",
   "metadata": {},
   "source": [
    "## 3.2 Para la columna planta, vamos a transformar los datos en numérico:\n",
    "* BAJO = 0\n",
    "* SÓTANO le pondremos = -1\n",
    "* \"ENTREPLANTA\" = 0.5 (para distinguirla del \"BAJO\")"
   ]
  },
  {
   "cell_type": "code",
   "execution_count": 423,
   "metadata": {},
   "outputs": [
    {
     "data": {
      "text/plain": [
       "array(['5ª', '1ª', 'BAJO', '2ª', '3ª', '6ª', '4ª', '16ª', '13ª', '9ª',\n",
       "       '7ª', '10ª', '8ª', '14ª', '11ª', '12ª', 'ENTREPLANTA', 'SÓTANO',\n",
       "       '-1', '15ª', '17ª', '20ª', '-2', '27ª', '22ª', '21ª', '18ª'],\n",
       "      dtype=object)"
      ]
     },
     "execution_count": 423,
     "metadata": {},
     "output_type": "execute_result"
    }
   ],
   "source": [
    "df_Xescalado[\"planta\"].unique()"
   ]
  },
  {
   "cell_type": "code",
   "execution_count": 424,
   "metadata": {},
   "outputs": [
    {
     "name": "stdout",
     "output_type": "stream",
     "text": [
      "0    5.0\n",
      "1    1.0\n",
      "3    0.0\n",
      "4    2.0\n",
      "5    3.0\n",
      "Name: planta, dtype: float64\n"
     ]
    }
   ],
   "source": [
    "# Mapeo manual de las plantas\n",
    "planta_mapping = {\n",
    "    'SÓTANO': -1,\n",
    "    'BAJO': 0,\n",
    "    'ENTREPLANTA': 0.5,\n",
    "    '1ª': 1,\n",
    "    '2ª': 2,\n",
    "    '3ª': 3,\n",
    "    '4ª': 4,\n",
    "    '5ª': 5,\n",
    "    '6ª': 6,\n",
    "    '7ª': 7,\n",
    "    '8ª': 8,\n",
    "    '9ª': 9,\n",
    "    '10ª': 10,\n",
    "    '11ª': 11,\n",
    "    '12ª': 12,\n",
    "    '13ª': 13,\n",
    "    '14ª': 14,\n",
    "    '15ª': 15,\n",
    "    '16ª': 16,\n",
    "    '17ª': 17,\n",
    "    '18ª': 18,\n",
    "    '20ª': 20,\n",
    "    '21ª': 21,\n",
    "    '22ª': 22,\n",
    "    '27ª': 27\n",
    "}\n",
    "\n",
    "# Sustituir los valores de la columna 'planta' por los valores del mapeo\n",
    "df_Xescalado['planta'] = df_Xescalado['planta'].map(planta_mapping)\n",
    "\n",
    "# Ver el resultado\n",
    "print(df_Xescalado['planta'].head())"
   ]
  },
  {
   "cell_type": "markdown",
   "metadata": {},
   "source": [
    "## 3.3 Para la columna ascensor"
   ]
  },
  {
   "cell_type": "code",
   "execution_count": 425,
   "metadata": {},
   "outputs": [
    {
     "name": "stdout",
     "output_type": "stream",
     "text": [
      "   ascensor\n",
      "0         1\n",
      "1         0\n",
      "3         1\n",
      "4         1\n",
      "5         1\n"
     ]
    },
    {
     "name": "stderr",
     "output_type": "stream",
     "text": [
      "C:\\Users\\domid\\AppData\\Local\\Temp\\ipykernel_14236\\1412868776.py:3: FutureWarning: Downcasting behavior in `replace` is deprecated and will be removed in a future version. To retain the old behavior, explicitly call `result.infer_objects(copy=False)`. To opt-in to the future behavior, set `pd.set_option('future.no_silent_downcasting', True)`\n",
      "  df_Xescalado['ascensor'] = df_Xescalado['ascensor'].replace({'S': 1, 'N': 0})\n"
     ]
    }
   ],
   "source": [
    "### Vamos a poner un 1 cuando en la columna aparezca 'S' y 0 para cuando aparezca 'N'\n",
    "# Reemplazar 'S' por 1 y 'N' por 0 en la columna 'ascensor'\n",
    "df_Xescalado['ascensor'] = df_Xescalado['ascensor'].replace({'S': 1, 'N': 0})\n",
    "\n",
    "# Verificar los cambios\n",
    "print(df_Xescalado[['ascensor']].head())"
   ]
  },
  {
   "cell_type": "markdown",
   "metadata": {},
   "source": [
    "## 3.4 Para la columna localizacion"
   ]
  },
  {
   "cell_type": "code",
   "execution_count": 426,
   "metadata": {},
   "outputs": [
    {
     "name": "stderr",
     "output_type": "stream",
     "text": [
      "C:\\Users\\domid\\AppData\\Local\\Temp\\ipykernel_14236\\3869963978.py:2: FutureWarning: Downcasting behavior in `replace` is deprecated and will be removed in a future version. To retain the old behavior, explicitly call `result.infer_objects(copy=False)`. To opt-in to the future behavior, set `pd.set_option('future.no_silent_downcasting', True)`\n",
      "  df_Xescalado['localizacion'] = df_Xescalado['localizacion'].replace({'EXTERIOR': 1, 'INTERIOR': 0})\n"
     ]
    }
   ],
   "source": [
    "### Vamos a poner un 1 cuando en la columna aparezca 'EXTERIOR' y 0 para cuando aparezca 'INTERIOR'\n",
    "df_Xescalado['localizacion'] = df_Xescalado['localizacion'].replace({'EXTERIOR': 1, 'INTERIOR': 0})"
   ]
  },
  {
   "cell_type": "code",
   "execution_count": 427,
   "metadata": {},
   "outputs": [
    {
     "data": {
      "text/html": [
       "<div>\n",
       "<style scoped>\n",
       "    .dataframe tbody tr th:only-of-type {\n",
       "        vertical-align: middle;\n",
       "    }\n",
       "\n",
       "    .dataframe tbody tr th {\n",
       "        vertical-align: top;\n",
       "    }\n",
       "\n",
       "    .dataframe thead th {\n",
       "        text-align: right;\n",
       "    }\n",
       "</style>\n",
       "<table border=\"1\" class=\"dataframe\">\n",
       "  <thead>\n",
       "    <tr style=\"text-align: right;\">\n",
       "      <th></th>\n",
       "      <th>PrecioActual</th>\n",
       "      <th>metros</th>\n",
       "      <th>habitaciones</th>\n",
       "      <th>ascensor</th>\n",
       "      <th>localizacion</th>\n",
       "      <th>planta</th>\n",
       "      <th>tags</th>\n",
       "      <th>descripcion</th>\n",
       "      <th>zona_media_precio</th>\n",
       "      <th>zona_barajas</th>\n",
       "      <th>...</th>\n",
       "      <th>zona_moncloa</th>\n",
       "      <th>zona_moratalaz</th>\n",
       "      <th>zona_puente-de-vallecas</th>\n",
       "      <th>zona_retiro</th>\n",
       "      <th>zona_san-blas</th>\n",
       "      <th>zona_tetuan</th>\n",
       "      <th>zona_usera</th>\n",
       "      <th>zona_vicalvaro</th>\n",
       "      <th>zona_villa-de-vallecas</th>\n",
       "      <th>zona_villaverde</th>\n",
       "    </tr>\n",
       "  </thead>\n",
       "  <tbody>\n",
       "    <tr>\n",
       "      <th>0</th>\n",
       "      <td>355000</td>\n",
       "      <td>69</td>\n",
       "      <td>2.0</td>\n",
       "      <td>1</td>\n",
       "      <td>1</td>\n",
       "      <td>5.0</td>\n",
       "      <td>VIVIENDA,LUMINOSO,VISTAS,REFORMADA,PORTERO,EXT...</td>\n",
       "      <td>Particular Vende vivienda totalmente reformada...</td>\n",
       "      <td>542408.108</td>\n",
       "      <td>False</td>\n",
       "      <td>...</td>\n",
       "      <td>False</td>\n",
       "      <td>False</td>\n",
       "      <td>False</td>\n",
       "      <td>False</td>\n",
       "      <td>False</td>\n",
       "      <td>False</td>\n",
       "      <td>False</td>\n",
       "      <td>False</td>\n",
       "      <td>False</td>\n",
       "      <td>False</td>\n",
       "    </tr>\n",
       "    <tr>\n",
       "      <th>1</th>\n",
       "      <td>149000</td>\n",
       "      <td>91</td>\n",
       "      <td>3.0</td>\n",
       "      <td>0</td>\n",
       "      <td>1</td>\n",
       "      <td>1.0</td>\n",
       "      <td>PISO,EXCLUSIVA,INMOBILIARIA,OPORTUNIDAD</td>\n",
       "      <td>Inmobiliarias Encuentro vende en exclusiva la ...</td>\n",
       "      <td>273038.078</td>\n",
       "      <td>False</td>\n",
       "      <td>...</td>\n",
       "      <td>False</td>\n",
       "      <td>False</td>\n",
       "      <td>False</td>\n",
       "      <td>False</td>\n",
       "      <td>False</td>\n",
       "      <td>False</td>\n",
       "      <td>False</td>\n",
       "      <td>False</td>\n",
       "      <td>False</td>\n",
       "      <td>False</td>\n",
       "    </tr>\n",
       "    <tr>\n",
       "      <th>3</th>\n",
       "      <td>195000</td>\n",
       "      <td>58</td>\n",
       "      <td>1.0</td>\n",
       "      <td>1</td>\n",
       "      <td>0</td>\n",
       "      <td>0.0</td>\n",
       "      <td>VIVIENDA,HOGAR,FUNCIONAL</td>\n",
       "      <td>Esta acogedora vivienda, ubicada en una planta...</td>\n",
       "      <td>252341.970</td>\n",
       "      <td>False</td>\n",
       "      <td>...</td>\n",
       "      <td>False</td>\n",
       "      <td>False</td>\n",
       "      <td>False</td>\n",
       "      <td>False</td>\n",
       "      <td>False</td>\n",
       "      <td>False</td>\n",
       "      <td>True</td>\n",
       "      <td>False</td>\n",
       "      <td>False</td>\n",
       "      <td>False</td>\n",
       "    </tr>\n",
       "    <tr>\n",
       "      <th>4</th>\n",
       "      <td>715000</td>\n",
       "      <td>140</td>\n",
       "      <td>3.0</td>\n",
       "      <td>1</td>\n",
       "      <td>1</td>\n",
       "      <td>2.0</td>\n",
       "      <td>TERRAZA,EXCLUSIVA,MODERNO</td>\n",
       "      <td>Maravilloso ATICO de reciente construcción, co...</td>\n",
       "      <td>577428.998</td>\n",
       "      <td>False</td>\n",
       "      <td>...</td>\n",
       "      <td>False</td>\n",
       "      <td>False</td>\n",
       "      <td>False</td>\n",
       "      <td>False</td>\n",
       "      <td>False</td>\n",
       "      <td>True</td>\n",
       "      <td>False</td>\n",
       "      <td>False</td>\n",
       "      <td>False</td>\n",
       "      <td>False</td>\n",
       "    </tr>\n",
       "    <tr>\n",
       "      <th>5</th>\n",
       "      <td>1257000</td>\n",
       "      <td>135</td>\n",
       "      <td>3.0</td>\n",
       "      <td>1</td>\n",
       "      <td>1</td>\n",
       "      <td>3.0</td>\n",
       "      <td>VIVIENDA,VISTAS,PISCINA,IMPRESIONANTE,EXTERIOR</td>\n",
       "      <td>Un lugar que te cambiará la vida.Magnifico pro...</td>\n",
       "      <td>484212.350</td>\n",
       "      <td>False</td>\n",
       "      <td>...</td>\n",
       "      <td>False</td>\n",
       "      <td>False</td>\n",
       "      <td>False</td>\n",
       "      <td>False</td>\n",
       "      <td>False</td>\n",
       "      <td>False</td>\n",
       "      <td>False</td>\n",
       "      <td>False</td>\n",
       "      <td>False</td>\n",
       "      <td>False</td>\n",
       "    </tr>\n",
       "  </tbody>\n",
       "</table>\n",
       "<p>5 rows × 29 columns</p>\n",
       "</div>"
      ],
      "text/plain": [
       "   PrecioActual  metros  habitaciones  ascensor  localizacion  planta  \\\n",
       "0        355000      69           2.0         1             1     5.0   \n",
       "1        149000      91           3.0         0             1     1.0   \n",
       "3        195000      58           1.0         1             0     0.0   \n",
       "4        715000     140           3.0         1             1     2.0   \n",
       "5       1257000     135           3.0         1             1     3.0   \n",
       "\n",
       "                                                tags  \\\n",
       "0  VIVIENDA,LUMINOSO,VISTAS,REFORMADA,PORTERO,EXT...   \n",
       "1            PISO,EXCLUSIVA,INMOBILIARIA,OPORTUNIDAD   \n",
       "3                           VIVIENDA,HOGAR,FUNCIONAL   \n",
       "4                          TERRAZA,EXCLUSIVA,MODERNO   \n",
       "5     VIVIENDA,VISTAS,PISCINA,IMPRESIONANTE,EXTERIOR   \n",
       "\n",
       "                                         descripcion  zona_media_precio  \\\n",
       "0  Particular Vende vivienda totalmente reformada...         542408.108   \n",
       "1  Inmobiliarias Encuentro vende en exclusiva la ...         273038.078   \n",
       "3  Esta acogedora vivienda, ubicada en una planta...         252341.970   \n",
       "4  Maravilloso ATICO de reciente construcción, co...         577428.998   \n",
       "5  Un lugar que te cambiará la vida.Magnifico pro...         484212.350   \n",
       "\n",
       "   zona_barajas  ...  zona_moncloa  zona_moratalaz  zona_puente-de-vallecas  \\\n",
       "0         False  ...         False           False                    False   \n",
       "1         False  ...         False           False                    False   \n",
       "3         False  ...         False           False                    False   \n",
       "4         False  ...         False           False                    False   \n",
       "5         False  ...         False           False                    False   \n",
       "\n",
       "   zona_retiro  zona_san-blas  zona_tetuan  zona_usera  zona_vicalvaro  \\\n",
       "0        False          False        False       False           False   \n",
       "1        False          False        False       False           False   \n",
       "3        False          False        False        True           False   \n",
       "4        False          False         True       False           False   \n",
       "5        False          False        False       False           False   \n",
       "\n",
       "   zona_villa-de-vallecas  zona_villaverde  \n",
       "0                   False            False  \n",
       "1                   False            False  \n",
       "3                   False            False  \n",
       "4                   False            False  \n",
       "5                   False            False  \n",
       "\n",
       "[5 rows x 29 columns]"
      ]
     },
     "execution_count": 427,
     "metadata": {},
     "output_type": "execute_result"
    }
   ],
   "source": [
    "df_Xescalado.head(5)"
   ]
  },
  {
   "cell_type": "markdown",
   "metadata": {},
   "source": [
    "## 3.5 Para la columna tags"
   ]
  },
  {
   "cell_type": "code",
   "execution_count": 428,
   "metadata": {},
   "outputs": [
    {
     "name": "stdout",
     "output_type": "stream",
     "text": [
      "             Tag  Frecuencia\n",
      "6           PISO        5623\n",
      "0       VIVIENDA        4939\n",
      "5       EXTERIOR        2365\n",
      "22         METRO        1957\n",
      "21        AMPLIO        1803\n",
      "12       TERRAZA        1758\n",
      "19     REFORMADO        1721\n",
      "9    OPORTUNIDAD        1470\n",
      "7      EXCLUSIVA        1354\n",
      "1       LUMINOSO        1325\n",
      "10         HOGAR        1172\n",
      "35  ESPECTACULAR        1107\n",
      "8   INMOBILIARIA        1098\n",
      "36         FINCA        1025\n",
      "30         ÁTICO        1014\n",
      "2         VISTAS         863\n",
      "39          LUJO         853\n",
      "20         NUEVO         833\n",
      "3      REFORMADA         799\n",
      "16      EQUIPADA         769\n"
     ]
    }
   ],
   "source": [
    "# Verificar si la columna 'tags' existe en el DataFrame\n",
    "if 'tags' in df_Xescalado.columns:\n",
    "    # Eliminar filas donde 'tags' sea nulo\n",
    "    df_Xescalado = df_Xescalado.dropna(subset=['tags'])\n",
    "\n",
    "    # Convertir todo a string y dividir en listas\n",
    "    df_Xescalado['tags'] = df_Xescalado['tags'].astype(str).apply(lambda x: x.split(','))\n",
    "\n",
    "    # Limpiar los espacios en blanco dentro de cada tag\n",
    "    df_Xescalado['tags'] = df_Xescalado['tags'].apply(lambda x: [tag.strip() for tag in x])\n",
    "\n",
    "    # Aplanar todos los tags en una sola lista\n",
    "    todos_los_tags = [tag for sublist in df_Xescalado['tags'] for tag in sublist]\n",
    "\n",
    "    # Contar la frecuencia de cada tag individual\n",
    "    conteo_tags = Counter(todos_los_tags)\n",
    "\n",
    "    # Convertir en DataFrame y ordenar por frecuencia\n",
    "    df_conteo_tags = pd.DataFrame(conteo_tags.items(), columns=['Tag', 'Frecuencia']).sort_values(by='Frecuencia', ascending=False)\n",
    "\n",
    "    # Mostrar los 20 tags más comunes\n",
    "    print(df_conteo_tags.head(20))\n",
    "else:\n",
    "    print(\"⚠ La columna 'tags' no existe en el DataFrame.\")"
   ]
  },
  {
   "cell_type": "code",
   "execution_count": 429,
   "metadata": {},
   "outputs": [
    {
     "data": {
      "text/html": [
       "<div>\n",
       "<style scoped>\n",
       "    .dataframe tbody tr th:only-of-type {\n",
       "        vertical-align: middle;\n",
       "    }\n",
       "\n",
       "    .dataframe tbody tr th {\n",
       "        vertical-align: top;\n",
       "    }\n",
       "\n",
       "    .dataframe thead th {\n",
       "        text-align: right;\n",
       "    }\n",
       "</style>\n",
       "<table border=\"1\" class=\"dataframe\">\n",
       "  <thead>\n",
       "    <tr style=\"text-align: right;\">\n",
       "      <th></th>\n",
       "      <th>PrecioActual</th>\n",
       "      <th>metros</th>\n",
       "      <th>habitaciones</th>\n",
       "      <th>ascensor</th>\n",
       "      <th>localizacion</th>\n",
       "      <th>planta</th>\n",
       "      <th>descripcion</th>\n",
       "      <th>zona_media_precio</th>\n",
       "      <th>zona_barajas</th>\n",
       "      <th>zona_barrio-de-salamanca</th>\n",
       "      <th>...</th>\n",
       "      <th>EXCLUSIVA</th>\n",
       "      <th>LUMINOSO</th>\n",
       "      <th>HOGAR</th>\n",
       "      <th>INMOBILIARIA</th>\n",
       "      <th>ESPECTACULAR</th>\n",
       "      <th>FINCA</th>\n",
       "      <th>ÁTICO</th>\n",
       "      <th>VISTAS</th>\n",
       "      <th>NUEVO</th>\n",
       "      <th>EQUIPADA</th>\n",
       "    </tr>\n",
       "  </thead>\n",
       "  <tbody>\n",
       "    <tr>\n",
       "      <th>0</th>\n",
       "      <td>355000</td>\n",
       "      <td>69</td>\n",
       "      <td>2.0</td>\n",
       "      <td>1</td>\n",
       "      <td>1</td>\n",
       "      <td>5.0</td>\n",
       "      <td>Particular Vende vivienda totalmente reformada...</td>\n",
       "      <td>542408.108</td>\n",
       "      <td>False</td>\n",
       "      <td>False</td>\n",
       "      <td>...</td>\n",
       "      <td>0</td>\n",
       "      <td>1</td>\n",
       "      <td>0</td>\n",
       "      <td>0</td>\n",
       "      <td>0</td>\n",
       "      <td>0</td>\n",
       "      <td>0</td>\n",
       "      <td>1</td>\n",
       "      <td>0</td>\n",
       "      <td>0</td>\n",
       "    </tr>\n",
       "    <tr>\n",
       "      <th>1</th>\n",
       "      <td>149000</td>\n",
       "      <td>91</td>\n",
       "      <td>3.0</td>\n",
       "      <td>0</td>\n",
       "      <td>1</td>\n",
       "      <td>1.0</td>\n",
       "      <td>Inmobiliarias Encuentro vende en exclusiva la ...</td>\n",
       "      <td>273038.078</td>\n",
       "      <td>False</td>\n",
       "      <td>False</td>\n",
       "      <td>...</td>\n",
       "      <td>1</td>\n",
       "      <td>0</td>\n",
       "      <td>0</td>\n",
       "      <td>1</td>\n",
       "      <td>0</td>\n",
       "      <td>0</td>\n",
       "      <td>0</td>\n",
       "      <td>0</td>\n",
       "      <td>0</td>\n",
       "      <td>0</td>\n",
       "    </tr>\n",
       "    <tr>\n",
       "      <th>3</th>\n",
       "      <td>195000</td>\n",
       "      <td>58</td>\n",
       "      <td>1.0</td>\n",
       "      <td>1</td>\n",
       "      <td>0</td>\n",
       "      <td>0.0</td>\n",
       "      <td>Esta acogedora vivienda, ubicada en una planta...</td>\n",
       "      <td>252341.970</td>\n",
       "      <td>False</td>\n",
       "      <td>False</td>\n",
       "      <td>...</td>\n",
       "      <td>0</td>\n",
       "      <td>0</td>\n",
       "      <td>1</td>\n",
       "      <td>0</td>\n",
       "      <td>0</td>\n",
       "      <td>0</td>\n",
       "      <td>0</td>\n",
       "      <td>0</td>\n",
       "      <td>0</td>\n",
       "      <td>0</td>\n",
       "    </tr>\n",
       "    <tr>\n",
       "      <th>4</th>\n",
       "      <td>715000</td>\n",
       "      <td>140</td>\n",
       "      <td>3.0</td>\n",
       "      <td>1</td>\n",
       "      <td>1</td>\n",
       "      <td>2.0</td>\n",
       "      <td>Maravilloso ATICO de reciente construcción, co...</td>\n",
       "      <td>577428.998</td>\n",
       "      <td>False</td>\n",
       "      <td>False</td>\n",
       "      <td>...</td>\n",
       "      <td>1</td>\n",
       "      <td>0</td>\n",
       "      <td>0</td>\n",
       "      <td>0</td>\n",
       "      <td>0</td>\n",
       "      <td>0</td>\n",
       "      <td>0</td>\n",
       "      <td>0</td>\n",
       "      <td>0</td>\n",
       "      <td>0</td>\n",
       "    </tr>\n",
       "    <tr>\n",
       "      <th>5</th>\n",
       "      <td>1257000</td>\n",
       "      <td>135</td>\n",
       "      <td>3.0</td>\n",
       "      <td>1</td>\n",
       "      <td>1</td>\n",
       "      <td>3.0</td>\n",
       "      <td>Un lugar que te cambiará la vida.Magnifico pro...</td>\n",
       "      <td>484212.350</td>\n",
       "      <td>False</td>\n",
       "      <td>False</td>\n",
       "      <td>...</td>\n",
       "      <td>0</td>\n",
       "      <td>0</td>\n",
       "      <td>0</td>\n",
       "      <td>0</td>\n",
       "      <td>0</td>\n",
       "      <td>0</td>\n",
       "      <td>0</td>\n",
       "      <td>1</td>\n",
       "      <td>0</td>\n",
       "      <td>0</td>\n",
       "    </tr>\n",
       "  </tbody>\n",
       "</table>\n",
       "<p>5 rows × 44 columns</p>\n",
       "</div>"
      ],
      "text/plain": [
       "   PrecioActual  metros  habitaciones  ascensor  localizacion  planta  \\\n",
       "0        355000      69           2.0         1             1     5.0   \n",
       "1        149000      91           3.0         0             1     1.0   \n",
       "3        195000      58           1.0         1             0     0.0   \n",
       "4        715000     140           3.0         1             1     2.0   \n",
       "5       1257000     135           3.0         1             1     3.0   \n",
       "\n",
       "                                         descripcion  zona_media_precio  \\\n",
       "0  Particular Vende vivienda totalmente reformada...         542408.108   \n",
       "1  Inmobiliarias Encuentro vende en exclusiva la ...         273038.078   \n",
       "3  Esta acogedora vivienda, ubicada en una planta...         252341.970   \n",
       "4  Maravilloso ATICO de reciente construcción, co...         577428.998   \n",
       "5  Un lugar que te cambiará la vida.Magnifico pro...         484212.350   \n",
       "\n",
       "   zona_barajas  zona_barrio-de-salamanca  ...  EXCLUSIVA  LUMINOSO  HOGAR  \\\n",
       "0         False                     False  ...          0         1      0   \n",
       "1         False                     False  ...          1         0      0   \n",
       "3         False                     False  ...          0         0      1   \n",
       "4         False                     False  ...          1         0      0   \n",
       "5         False                     False  ...          0         0      0   \n",
       "\n",
       "   INMOBILIARIA  ESPECTACULAR  FINCA  ÁTICO  VISTAS  NUEVO  EQUIPADA  \n",
       "0             0             0      0      0       1      0         0  \n",
       "1             1             0      0      0       0      0         0  \n",
       "3             0             0      0      0       0      0         0  \n",
       "4             0             0      0      0       0      0         0  \n",
       "5             0             0      0      0       1      0         0  \n",
       "\n",
       "[5 rows x 44 columns]"
      ]
     },
     "metadata": {},
     "output_type": "display_data"
    }
   ],
   "source": [
    "# Lista de los tags más relevantes basados en la frecuencia\n",
    "tags_relevantes = ['LUJO', 'TERRAZA', 'REFORMADO', 'EXTERIOR', 'AMPLIO', \n",
    "                   'OPORTUNIDAD', 'EXCLUSIVA', 'LUMINOSO', 'HOGAR', 'INMOBILIARIA', \n",
    "                   'ESPECTACULAR', 'FINCA', 'ÁTICO', 'VISTAS', 'NUEVO', 'EQUIPADA']\n",
    "# Crear columnas binarias para cada tag relevante\n",
    "for tag in tags_relevantes:\n",
    "    # Crear una nueva columna que sea 1 si el tag está presente y 0 si no\n",
    "    df_Xescalado[tag] = df_Xescalado['tags'].apply(lambda x: 1 if tag in x else 0)\n",
    "\n",
    "# Eliminar la columna 'tags' ya que ahora tenemos las columnas binarias\n",
    "df_Xescalado = df_Xescalado.drop(columns=['tags'])\n",
    "\n",
    "# Verificar el resultado\n",
    "display(df_Xescalado.head())"
   ]
  },
  {
   "cell_type": "markdown",
   "metadata": {},
   "source": [
    "## 3.6 Para la columna descripción"
   ]
  },
  {
   "cell_type": "code",
   "execution_count": null,
   "metadata": {},
   "outputs": [],
   "source": [
    "\"\"\"\n",
    "from sklearn.feature_extraction.text import TfidfVectorizer\n",
    "\n",
    "# Lista de palabras vacías en español (esto es solo un ejemplo, puedes añadir más palabras)\n",
    "stop_words_espanol = ['de', 'la', 'en', 'y', 'el', 'los', 'del', 'que', 'con', 'para', 'una', 'a', 'las']\n",
    "\n",
    "# Vectorizador TF-IDF usando las palabras vacías personalizadas\n",
    "tfidf = TfidfVectorizer(max_features=5000, stop_words=stop_words_espanol)  # Lista personalizada\n",
    "\n",
    "# Ajustar y transformar las descripciones en una matriz numérica\n",
    "X_tfidf = tfidf.fit_transform(df['descripcion'].values)\n",
    "\n",
    "# Convertir a un array numpy\n",
    "X_tfidf = X_tfidf.toarray()\n",
    "\n",
    "display(df)\n",
    "\"\"\""
   ]
  },
  {
   "cell_type": "markdown",
   "metadata": {},
   "source": [
    "# 4. Análisis exploratorio con herramientas visuales"
   ]
  },
  {
   "cell_type": "markdown",
   "metadata": {},
   "source": [
    "## 4.1 Precio y frecuencia de aparición de estos:"
   ]
  },
  {
   "cell_type": "code",
   "execution_count": 430,
   "metadata": {},
   "outputs": [
    {
     "data": {
      "image/png": "[encoded data removed]",
      "text/plain": [
       "<Figure size 800x600 with 1 Axes>"
      ]
     },
     "metadata": {},
     "output_type": "display_data"
    }
   ],
   "source": [
    "# Histograma de la variable objetivo (sin escalado)\n",
    "plt.figure(figsize=(8, 6))\n",
    "sns.histplot(df[\"PrecioActual\"], bins=50, kde=True, color=\"blue\")\n",
    "plt.title(\"Distribución de precios de viviendas en Madrid\")\n",
    "plt.xlabel(\"Valor de la vivienda\")\n",
    "plt.ylabel(\"Frecuencia\")\n",
    "\n",
    "# Formatear el eje X para evitar notación científica\n",
    "plt.ticklabel_format(style='plain', axis='x')\n",
    "\n",
    "plt.show()"
   ]
  },
  {
   "cell_type": "markdown",
   "metadata": {},
   "source": [
    "### Conclusiones:\n",
    "* Vemos que la mayoría de precios están en el rango de 0 a 2500000 (Distribución Sesgada a la Derecha).\n",
    "* También vemos que existen outliers desde los 5 millones hasta los 17 millones y medio. "
   ]
  },
  {
   "cell_type": "markdown",
   "metadata": {},
   "source": [
    "## 4.2 Mapa de Correlación"
   ]
  },
  {
   "cell_type": "code",
   "execution_count": 431,
   "metadata": {},
   "outputs": [
    {
     "data": {
      "text/plain": [
       "'\\n# Mapa de calor de correlaciones\\nplt.figure(figsize=(10, 6))\\ncorr_matrix = df.corr()\\nsns.heatmap(corr_matrix, annot=True, cmap=\"coolwarm\", fmt=\".2f\")\\nplt.title(\"Matriz de Correlación entre Variables\")\\nplt.show()\\n'"
      ]
     },
     "execution_count": 431,
     "metadata": {},
     "output_type": "execute_result"
    }
   ],
   "source": [
    "\"\"\"\n",
    "# Mapa de calor de correlaciones\n",
    "plt.figure(figsize=(10, 6))\n",
    "corr_matrix = df.corr()\n",
    "sns.heatmap(corr_matrix, annot=True, cmap=\"coolwarm\", fmt=\".2f\")\n",
    "plt.title(\"Matriz de Correlación entre Variables\")\n",
    "plt.show()\n",
    "\"\"\""
   ]
  },
  {
   "cell_type": "markdown",
   "metadata": {},
   "source": [
    "# 5. Modelo con las entradas escaladas vs. Modelo sin las entradas escalas (df_no_Xescalado)."
   ]
  },
  {
   "cell_type": "markdown",
   "metadata": {},
   "source": [
    "# 6. Modelo en el que se escala la salida vs. Modelo en el que no se escala la salida"
   ]
  },
  {
   "cell_type": "markdown",
   "metadata": {},
   "source": [
    "# "
   ]
  }
 ],
 "metadata": {
  "kernelspec": {
   "display_name": "Python 3",
   "language": "python",
   "name": "python3"
  },
  "language_info": {
   "codemirror_mode": {
    "name": "ipython",
    "version": 3
   },
   "file_extension": ".py",
   "mimetype": "text/x-python",
   "name": "python",
   "nbconvert_exporter": "python",
   "pygments_lexer": "ipython3",
   "version": "3.12.7"
  }
 },
 "nbformat": 4,
 "nbformat_minor": 2
}
